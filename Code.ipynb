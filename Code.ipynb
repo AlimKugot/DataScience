{
 "cells": [
  {
   "cell_type": "markdown",
   "id": "7ecdfd85",
   "metadata": {},
   "source": [
    "Индивидуальный проект: **Популярность музыки в сервисе Spotify за 2014-2022**\n",
    "\n",
    "Автор: **Куготов Алим Заурович**\n",
    "\n",
    "Проверяющий: **Нечаев Илья Андреевич**\n",
    "\n",
    "Ссылка на датасет: https://www.kaggle.com/datasets/jfreyberg/spotify-chart-data"
   ]
  },
  {
   "cell_type": "markdown",
   "id": "48ef2e44",
   "metadata": {},
   "source": [
    "# Подготовка данных"
   ]
  },
  {
   "cell_type": "markdown",
   "id": "798dd1c5",
   "metadata": {},
   "source": [
    "**Отключим** все предупреждения по инструкции"
   ]
  },
  {
   "cell_type": "code",
   "execution_count": 178,
   "id": "01fdc9d4",
   "metadata": {},
   "outputs": [],
   "source": [
    "import warnings\n",
    "\n",
    "warnings.filterwarnings(\"ignore\")\n",
    "import numpy as np\n",
    "import pandas as pd\n",
    "\n",
    "pd.set_option(\"display.max.columns\", 100)\n",
    "import pylab as plt\n",
    "\n",
    "%matplotlib inline\n",
    "import seaborn as sns\n",
    "from matplotlib import pyplot as plt\n",
    "\n",
    "plt.rcParams[\"figure.figsize\"] = (10, 8)"
   ]
  },
  {
   "cell_type": "markdown",
   "id": "d3ec7a2b",
   "metadata": {},
   "source": [
    "**Считаем** наш файл с данными"
   ]
  },
  {
   "cell_type": "code",
   "execution_count": 179,
   "id": "0f8f1464",
   "metadata": {},
   "outputs": [],
   "source": [
    "df = pd.read_csv(\"data/charts.csv\")"
   ]
  },
  {
   "cell_type": "markdown",
   "id": "cec83703",
   "metadata": {},
   "source": [
    "**Распечатаем** первые 5 записи"
   ]
  },
  {
   "cell_type": "code",
   "execution_count": 180,
   "id": "8c6f5138",
   "metadata": {},
   "outputs": [
    {
     "data": {
      "text/html": [
       "<div>\n",
       "<style scoped>\n",
       "    .dataframe tbody tr th:only-of-type {\n",
       "        vertical-align: middle;\n",
       "    }\n",
       "\n",
       "    .dataframe tbody tr th {\n",
       "        vertical-align: top;\n",
       "    }\n",
       "\n",
       "    .dataframe thead th {\n",
       "        text-align: right;\n",
       "    }\n",
       "</style>\n",
       "<table border=\"1\" class=\"dataframe\">\n",
       "  <thead>\n",
       "    <tr style=\"text-align: right;\">\n",
       "      <th></th>\n",
       "      <th>track_id</th>\n",
       "      <th>name</th>\n",
       "      <th>country</th>\n",
       "      <th>date</th>\n",
       "      <th>position</th>\n",
       "      <th>streams</th>\n",
       "      <th>artists</th>\n",
       "      <th>artist_genres</th>\n",
       "      <th>duration</th>\n",
       "      <th>explicit</th>\n",
       "    </tr>\n",
       "  </thead>\n",
       "  <tbody>\n",
       "    <tr>\n",
       "      <th>0</th>\n",
       "      <td>7GMeRGZax4uDKgz6wALWQw</td>\n",
       "      <td>It Was Always You</td>\n",
       "      <td>br</td>\n",
       "      <td>2015-03-17</td>\n",
       "      <td>138</td>\n",
       "      <td>6584</td>\n",
       "      <td>['Maroon 5']</td>\n",
       "      <td>['pop']</td>\n",
       "      <td>239920</td>\n",
       "      <td>False</td>\n",
       "    </tr>\n",
       "    <tr>\n",
       "      <th>1</th>\n",
       "      <td>7GMeRGZax4uDKgz6wALWQw</td>\n",
       "      <td>It Was Always You</td>\n",
       "      <td>br</td>\n",
       "      <td>2015-03-18</td>\n",
       "      <td>132</td>\n",
       "      <td>6963</td>\n",
       "      <td>['Maroon 5']</td>\n",
       "      <td>['pop']</td>\n",
       "      <td>239920</td>\n",
       "      <td>False</td>\n",
       "    </tr>\n",
       "    <tr>\n",
       "      <th>2</th>\n",
       "      <td>7GMeRGZax4uDKgz6wALWQw</td>\n",
       "      <td>It Was Always You</td>\n",
       "      <td>br</td>\n",
       "      <td>2015-03-19</td>\n",
       "      <td>128</td>\n",
       "      <td>7049</td>\n",
       "      <td>['Maroon 5']</td>\n",
       "      <td>['pop']</td>\n",
       "      <td>239920</td>\n",
       "      <td>False</td>\n",
       "    </tr>\n",
       "    <tr>\n",
       "      <th>3</th>\n",
       "      <td>7GMeRGZax4uDKgz6wALWQw</td>\n",
       "      <td>It Was Always You</td>\n",
       "      <td>br</td>\n",
       "      <td>2015-03-20</td>\n",
       "      <td>152</td>\n",
       "      <td>6976</td>\n",
       "      <td>['Maroon 5']</td>\n",
       "      <td>['pop']</td>\n",
       "      <td>239920</td>\n",
       "      <td>False</td>\n",
       "    </tr>\n",
       "    <tr>\n",
       "      <th>4</th>\n",
       "      <td>7GMeRGZax4uDKgz6wALWQw</td>\n",
       "      <td>It Was Always You</td>\n",
       "      <td>br</td>\n",
       "      <td>2015-03-21</td>\n",
       "      <td>160</td>\n",
       "      <td>6156</td>\n",
       "      <td>['Maroon 5']</td>\n",
       "      <td>['pop']</td>\n",
       "      <td>239920</td>\n",
       "      <td>False</td>\n",
       "    </tr>\n",
       "  </tbody>\n",
       "</table>\n",
       "</div>"
      ],
      "text/plain": [
       "                 track_id               name country        date  position  \\\n",
       "0  7GMeRGZax4uDKgz6wALWQw  It Was Always You      br  2015-03-17       138   \n",
       "1  7GMeRGZax4uDKgz6wALWQw  It Was Always You      br  2015-03-18       132   \n",
       "2  7GMeRGZax4uDKgz6wALWQw  It Was Always You      br  2015-03-19       128   \n",
       "3  7GMeRGZax4uDKgz6wALWQw  It Was Always You      br  2015-03-20       152   \n",
       "4  7GMeRGZax4uDKgz6wALWQw  It Was Always You      br  2015-03-21       160   \n",
       "\n",
       "  streams       artists artist_genres  duration  explicit  \n",
       "0    6584  ['Maroon 5']       ['pop']    239920     False  \n",
       "1    6963  ['Maroon 5']       ['pop']    239920     False  \n",
       "2    7049  ['Maroon 5']       ['pop']    239920     False  \n",
       "3    6976  ['Maroon 5']       ['pop']    239920     False  \n",
       "4    6156  ['Maroon 5']       ['pop']    239920     False  "
      ]
     },
     "execution_count": 180,
     "metadata": {},
     "output_type": "execute_result"
    }
   ],
   "source": [
    "df.head(5)"
   ]
  },
  {
   "cell_type": "markdown",
   "id": "8ca8ed28",
   "metadata": {},
   "source": [
    "# Описание набора данных"
   ]
  },
  {
   "cell_type": "code",
   "execution_count": 181,
   "id": "1c1bb1a2",
   "metadata": {},
   "outputs": [
    {
     "name": "stdout",
     "output_type": "stream",
     "text": [
      "(626475, 10)\n",
      "['track_id' 'name' 'country' 'date' 'position' 'streams' 'artists'\n",
      " 'artist_genres' 'duration' 'explicit']\n"
     ]
    }
   ],
   "source": [
    "print(df.shape)\n",
    "print(df.columns.values)"
   ]
  },
  {
   "cell_type": "markdown",
   "id": "ee2b4826",
   "metadata": {},
   "source": [
    "Удалим '*track_id*' (сурогатный ключ) и ненужное поле ('*streams*')"
   ]
  },
  {
   "cell_type": "code",
   "execution_count": 182,
   "id": "c4bf5131",
   "metadata": {},
   "outputs": [
    {
     "name": "stdout",
     "output_type": "stream",
     "text": [
      "<class 'pandas.core.frame.DataFrame'>\n",
      "RangeIndex: 626475 entries, 0 to 626474\n",
      "Data columns (total 8 columns):\n",
      " #   Column         Non-Null Count   Dtype \n",
      "---  ------         --------------   ----- \n",
      " 0   name           626337 non-null  object\n",
      " 1   country        626475 non-null  object\n",
      " 2   date           626475 non-null  object\n",
      " 3   position       626475 non-null  int64 \n",
      " 4   artists        626475 non-null  object\n",
      " 5   artist_genres  626475 non-null  object\n",
      " 6   duration       626475 non-null  int64 \n",
      " 7   explicit       626475 non-null  bool  \n",
      "dtypes: bool(1), int64(2), object(5)\n",
      "memory usage: 34.1+ MB\n"
     ]
    }
   ],
   "source": [
    "df = df.drop(['track_id', 'streams'],axis=1)\n",
    "df.info()"
   ]
  },
  {
   "cell_type": "markdown",
   "id": "b1d7df97",
   "metadata": {},
   "source": [
    "|     Название      | Описание                                       |      Тип       |\n",
    "|---                |:--                                             |:--             |\n",
    "| **name**          | Название песни                                 | категориальный |\n",
    "| **country**       | Код страны, в которой появлялась песня в чарте | категориальный |\n",
    "| **date**          | Дата появление в чарте                         | вещественный   |\n",
    "| **position**      | Позиция в чарте                                | вещественный   |\n",
    "| **artists**       | Авторы (исполнители) песни                     | категориальный |\n",
    "| **artist_genres** | Жанры, в которых исполнители выступают         | категориальный |\n",
    "| **duration**      | Длительность песни в (ms)                      | вещественный   |\n",
    "| **explicit**      | Возрастное ограничение (есть/нет)              | бинарный       |"
   ]
  },
  {
   "cell_type": "markdown",
   "id": "c987587b",
   "metadata": {},
   "source": [
    "Целевая переменная **position** - Позиция в чарте (в зависимости от страны)"
   ]
  },
  {
   "cell_type": "code",
   "execution_count": 183,
   "id": "fdf53907",
   "metadata": {},
   "outputs": [
    {
     "name": "stdout",
     "output_type": "stream",
     "text": [
      "TOP 200\n",
      "unique songs: 6854\n",
      "unique artists: 3383\n",
      "unique countries: 71\n",
      "max duration: 943528\n",
      "min duration: 0\n"
     ]
    }
   ],
   "source": [
    "# Отдельно сохраним два list-а для удобства\n",
    "print(f'TOP {df.position.max()}')\n",
    "print(f'unique songs: {df.name.nunique()}')\n",
    "print(f'unique artists: {df.artists.nunique()}')\n",
    "print(f'unique countries: {df.country.nunique()}')\n",
    "\n",
    "print(f'max duration: {df.duration.max()}')\n",
    "print(f'min duration: {df.duration.min()}')"
   ]
  },
  {
   "cell_type": "markdown",
   "id": "bbe5fb9b",
   "metadata": {},
   "source": [
    "# Очистка мусора"
   ]
  },
  {
   "cell_type": "markdown",
   "id": "9b088eeb",
   "metadata": {},
   "source": [
    "Дубликатов нет:"
   ]
  },
  {
   "cell_type": "code",
   "execution_count": 184,
   "id": "eede6d90",
   "metadata": {},
   "outputs": [
    {
     "data": {
      "text/plain": [
       "0"
      ]
     },
     "execution_count": 184,
     "metadata": {},
     "output_type": "execute_result"
    }
   ],
   "source": [
    "df.duplicated().sum()"
   ]
  },
  {
   "cell_type": "markdown",
   "id": "d0e1e5e3",
   "metadata": {},
   "source": [
    "Сразу заметим, что при вызове функции ***df.info()***, что кол-во строк в признаке **name** меньше, чем у остальных. \n",
    "\n",
    "Давайте проверим, ещё раз, на всякий случай, и взглянем, что внутри"
   ]
  },
  {
   "cell_type": "code",
   "execution_count": 185,
   "id": "9938f7ea",
   "metadata": {},
   "outputs": [
    {
     "data": {
      "text/html": [
       "<div>\n",
       "<style scoped>\n",
       "    .dataframe tbody tr th:only-of-type {\n",
       "        vertical-align: middle;\n",
       "    }\n",
       "\n",
       "    .dataframe tbody tr th {\n",
       "        vertical-align: top;\n",
       "    }\n",
       "\n",
       "    .dataframe thead th {\n",
       "        text-align: right;\n",
       "    }\n",
       "</style>\n",
       "<table border=\"1\" class=\"dataframe\">\n",
       "  <thead>\n",
       "    <tr style=\"text-align: right;\">\n",
       "      <th></th>\n",
       "      <th>name</th>\n",
       "      <th>country</th>\n",
       "      <th>date</th>\n",
       "      <th>position</th>\n",
       "      <th>artists</th>\n",
       "      <th>artist_genres</th>\n",
       "      <th>duration</th>\n",
       "      <th>explicit</th>\n",
       "    </tr>\n",
       "  </thead>\n",
       "  <tbody>\n",
       "    <tr>\n",
       "      <th>122828</th>\n",
       "      <td>NaN</td>\n",
       "      <td>global</td>\n",
       "      <td>2017-11-09</td>\n",
       "      <td>32</td>\n",
       "      <td>['Various Artists']</td>\n",
       "      <td>[]</td>\n",
       "      <td>0</td>\n",
       "      <td>True</td>\n",
       "    </tr>\n",
       "    <tr>\n",
       "      <th>122829</th>\n",
       "      <td>NaN</td>\n",
       "      <td>global</td>\n",
       "      <td>2017-11-10</td>\n",
       "      <td>30</td>\n",
       "      <td>['Various Artists']</td>\n",
       "      <td>[]</td>\n",
       "      <td>0</td>\n",
       "      <td>True</td>\n",
       "    </tr>\n",
       "    <tr>\n",
       "      <th>122830</th>\n",
       "      <td>NaN</td>\n",
       "      <td>global</td>\n",
       "      <td>2017-11-11</td>\n",
       "      <td>26</td>\n",
       "      <td>['Various Artists']</td>\n",
       "      <td>[]</td>\n",
       "      <td>0</td>\n",
       "      <td>True</td>\n",
       "    </tr>\n",
       "    <tr>\n",
       "      <th>122831</th>\n",
       "      <td>NaN</td>\n",
       "      <td>global</td>\n",
       "      <td>2017-11-12</td>\n",
       "      <td>27</td>\n",
       "      <td>['Various Artists']</td>\n",
       "      <td>[]</td>\n",
       "      <td>0</td>\n",
       "      <td>True</td>\n",
       "    </tr>\n",
       "    <tr>\n",
       "      <th>122832</th>\n",
       "      <td>NaN</td>\n",
       "      <td>global</td>\n",
       "      <td>2017-11-13</td>\n",
       "      <td>31</td>\n",
       "      <td>['Various Artists']</td>\n",
       "      <td>[]</td>\n",
       "      <td>0</td>\n",
       "      <td>True</td>\n",
       "    </tr>\n",
       "    <tr>\n",
       "      <th>...</th>\n",
       "      <td>...</td>\n",
       "      <td>...</td>\n",
       "      <td>...</td>\n",
       "      <td>...</td>\n",
       "      <td>...</td>\n",
       "      <td>...</td>\n",
       "      <td>...</td>\n",
       "      <td>...</td>\n",
       "    </tr>\n",
       "    <tr>\n",
       "      <th>122961</th>\n",
       "      <td>NaN</td>\n",
       "      <td>jp</td>\n",
       "      <td>2017-11-12</td>\n",
       "      <td>172</td>\n",
       "      <td>['Various Artists']</td>\n",
       "      <td>[]</td>\n",
       "      <td>0</td>\n",
       "      <td>True</td>\n",
       "    </tr>\n",
       "    <tr>\n",
       "      <th>122962</th>\n",
       "      <td>NaN</td>\n",
       "      <td>jp</td>\n",
       "      <td>2017-11-13</td>\n",
       "      <td>177</td>\n",
       "      <td>['Various Artists']</td>\n",
       "      <td>[]</td>\n",
       "      <td>0</td>\n",
       "      <td>True</td>\n",
       "    </tr>\n",
       "    <tr>\n",
       "      <th>122963</th>\n",
       "      <td>NaN</td>\n",
       "      <td>jp</td>\n",
       "      <td>2017-11-14</td>\n",
       "      <td>182</td>\n",
       "      <td>['Various Artists']</td>\n",
       "      <td>[]</td>\n",
       "      <td>0</td>\n",
       "      <td>True</td>\n",
       "    </tr>\n",
       "    <tr>\n",
       "      <th>122964</th>\n",
       "      <td>NaN</td>\n",
       "      <td>hu</td>\n",
       "      <td>2017-11-11</td>\n",
       "      <td>164</td>\n",
       "      <td>['Various Artists']</td>\n",
       "      <td>[]</td>\n",
       "      <td>0</td>\n",
       "      <td>True</td>\n",
       "    </tr>\n",
       "    <tr>\n",
       "      <th>122965</th>\n",
       "      <td>NaN</td>\n",
       "      <td>hu</td>\n",
       "      <td>2017-11-13</td>\n",
       "      <td>180</td>\n",
       "      <td>['Various Artists']</td>\n",
       "      <td>[]</td>\n",
       "      <td>0</td>\n",
       "      <td>True</td>\n",
       "    </tr>\n",
       "  </tbody>\n",
       "</table>\n",
       "<p>138 rows × 8 columns</p>\n",
       "</div>"
      ],
      "text/plain": [
       "       name country        date  position              artists artist_genres  \\\n",
       "122828  NaN  global  2017-11-09        32  ['Various Artists']            []   \n",
       "122829  NaN  global  2017-11-10        30  ['Various Artists']            []   \n",
       "122830  NaN  global  2017-11-11        26  ['Various Artists']            []   \n",
       "122831  NaN  global  2017-11-12        27  ['Various Artists']            []   \n",
       "122832  NaN  global  2017-11-13        31  ['Various Artists']            []   \n",
       "...     ...     ...         ...       ...                  ...           ...   \n",
       "122961  NaN      jp  2017-11-12       172  ['Various Artists']            []   \n",
       "122962  NaN      jp  2017-11-13       177  ['Various Artists']            []   \n",
       "122963  NaN      jp  2017-11-14       182  ['Various Artists']            []   \n",
       "122964  NaN      hu  2017-11-11       164  ['Various Artists']            []   \n",
       "122965  NaN      hu  2017-11-13       180  ['Various Artists']            []   \n",
       "\n",
       "        duration  explicit  \n",
       "122828         0      True  \n",
       "122829         0      True  \n",
       "122830         0      True  \n",
       "122831         0      True  \n",
       "122832         0      True  \n",
       "...          ...       ...  \n",
       "122961         0      True  \n",
       "122962         0      True  \n",
       "122963         0      True  \n",
       "122964         0      True  \n",
       "122965         0      True  \n",
       "\n",
       "[138 rows x 8 columns]"
      ]
     },
     "execution_count": 185,
     "metadata": {},
     "output_type": "execute_result"
    }
   ],
   "source": [
    "df[df.isnull().any(axis=1)]"
   ]
  },
  {
   "cell_type": "markdown",
   "id": "0b9dd8c4",
   "metadata": {},
   "source": [
    "Во всех этих строках длительность песни равна нулю. Очевидно, что эти данные нам не нужны, но перед удалением, изучим их поля: страну и позицию. Возможно, сможем предположить, почему какие-то даннные замусорились"
   ]
  },
  {
   "cell_type": "markdown",
   "id": "42dc8a3e",
   "metadata": {},
   "source": [
    "Видим, что в странах JP (Япония) и HU(Венгрия) - возможно, специфичные языки не смогли отобразиться нашей в базе (иероглифы и пр). Давайте проверим"
   ]
  },
  {
   "cell_type": "code",
   "execution_count": 186,
   "id": "301f1cb7",
   "metadata": {},
   "outputs": [
    {
     "data": {
      "text/plain": [
       "array(['global', 'mx', 'ar', 'es', 'us', 'cl', 'pe', 'co', 'cr', 'it',\n",
       "       'ec', 'nl', 'py', 'uy', 'gt', 'do', 'pa', 'bo', 'sv', 'ch', 'hn',\n",
       "       'pt', 'jp', 'hu'], dtype=object)"
      ]
     },
     "execution_count": 186,
     "metadata": {},
     "output_type": "execute_result"
    }
   ],
   "source": [
    "garbage = df[df.isnull().any(axis=1)]\n",
    "garbage.country.unique()"
   ]
  },
  {
   "cell_type": "markdown",
   "id": "af14ad56",
   "metadata": {},
   "source": [
    "Видим, что в списке оказались: США (us), Италия(it), Испания(es)\n",
    "\n",
    "Странно, что тут США вообще делает, давайте посмотрим"
   ]
  },
  {
   "cell_type": "code",
   "execution_count": 187,
   "id": "3857f243",
   "metadata": {},
   "outputs": [
    {
     "data": {
      "text/html": [
       "<div>\n",
       "<style scoped>\n",
       "    .dataframe tbody tr th:only-of-type {\n",
       "        vertical-align: middle;\n",
       "    }\n",
       "\n",
       "    .dataframe tbody tr th {\n",
       "        vertical-align: top;\n",
       "    }\n",
       "\n",
       "    .dataframe thead th {\n",
       "        text-align: right;\n",
       "    }\n",
       "</style>\n",
       "<table border=\"1\" class=\"dataframe\">\n",
       "  <thead>\n",
       "    <tr style=\"text-align: right;\">\n",
       "      <th></th>\n",
       "      <th>name</th>\n",
       "      <th>country</th>\n",
       "      <th>date</th>\n",
       "      <th>position</th>\n",
       "      <th>artists</th>\n",
       "      <th>artist_genres</th>\n",
       "      <th>duration</th>\n",
       "      <th>explicit</th>\n",
       "    </tr>\n",
       "  </thead>\n",
       "  <tbody>\n",
       "    <tr>\n",
       "      <th>122852</th>\n",
       "      <td>NaN</td>\n",
       "      <td>us</td>\n",
       "      <td>2017-11-09</td>\n",
       "      <td>190</td>\n",
       "      <td>['Various Artists']</td>\n",
       "      <td>[]</td>\n",
       "      <td>0</td>\n",
       "      <td>True</td>\n",
       "    </tr>\n",
       "    <tr>\n",
       "      <th>122853</th>\n",
       "      <td>NaN</td>\n",
       "      <td>us</td>\n",
       "      <td>2017-11-10</td>\n",
       "      <td>182</td>\n",
       "      <td>['Various Artists']</td>\n",
       "      <td>[]</td>\n",
       "      <td>0</td>\n",
       "      <td>True</td>\n",
       "    </tr>\n",
       "    <tr>\n",
       "      <th>122854</th>\n",
       "      <td>NaN</td>\n",
       "      <td>us</td>\n",
       "      <td>2017-11-11</td>\n",
       "      <td>151</td>\n",
       "      <td>['Various Artists']</td>\n",
       "      <td>[]</td>\n",
       "      <td>0</td>\n",
       "      <td>True</td>\n",
       "    </tr>\n",
       "    <tr>\n",
       "      <th>122855</th>\n",
       "      <td>NaN</td>\n",
       "      <td>us</td>\n",
       "      <td>2017-11-12</td>\n",
       "      <td>160</td>\n",
       "      <td>['Various Artists']</td>\n",
       "      <td>[]</td>\n",
       "      <td>0</td>\n",
       "      <td>True</td>\n",
       "    </tr>\n",
       "    <tr>\n",
       "      <th>122856</th>\n",
       "      <td>NaN</td>\n",
       "      <td>us</td>\n",
       "      <td>2017-11-13</td>\n",
       "      <td>170</td>\n",
       "      <td>['Various Artists']</td>\n",
       "      <td>[]</td>\n",
       "      <td>0</td>\n",
       "      <td>True</td>\n",
       "    </tr>\n",
       "    <tr>\n",
       "      <th>122857</th>\n",
       "      <td>NaN</td>\n",
       "      <td>us</td>\n",
       "      <td>2017-11-14</td>\n",
       "      <td>122</td>\n",
       "      <td>['Various Artists']</td>\n",
       "      <td>[]</td>\n",
       "      <td>0</td>\n",
       "      <td>True</td>\n",
       "    </tr>\n",
       "  </tbody>\n",
       "</table>\n",
       "</div>"
      ],
      "text/plain": [
       "       name country        date  position              artists artist_genres  \\\n",
       "122852  NaN      us  2017-11-09       190  ['Various Artists']            []   \n",
       "122853  NaN      us  2017-11-10       182  ['Various Artists']            []   \n",
       "122854  NaN      us  2017-11-11       151  ['Various Artists']            []   \n",
       "122855  NaN      us  2017-11-12       160  ['Various Artists']            []   \n",
       "122856  NaN      us  2017-11-13       170  ['Various Artists']            []   \n",
       "122857  NaN      us  2017-11-14       122  ['Various Artists']            []   \n",
       "\n",
       "        duration  explicit  \n",
       "122852         0      True  \n",
       "122853         0      True  \n",
       "122854         0      True  \n",
       "122855         0      True  \n",
       "122856         0      True  \n",
       "122857         0      True  "
      ]
     },
     "execution_count": 187,
     "metadata": {},
     "output_type": "execute_result"
    }
   ],
   "source": [
    "garbage[garbage['country']==\"us\"].head(10)"
   ]
  },
  {
   "cell_type": "markdown",
   "id": "a75fda0d",
   "metadata": {},
   "source": [
    "Возможно, какие-то странные ребята со странными названиями заскочили на 5 дней в чарты, либо возникли проблемы с лицензиями между исполнителями и Spotify"
   ]
  },
  {
   "cell_type": "markdown",
   "id": "ff10cda0",
   "metadata": {},
   "source": [
    "Напоследок, убедимся, не проходил ли кто-либо в топ-10:"
   ]
  },
  {
   "cell_type": "code",
   "execution_count": 188,
   "id": "84f272a3",
   "metadata": {},
   "outputs": [
    {
     "data": {
      "text/html": [
       "<div>\n",
       "<style scoped>\n",
       "    .dataframe tbody tr th:only-of-type {\n",
       "        vertical-align: middle;\n",
       "    }\n",
       "\n",
       "    .dataframe tbody tr th {\n",
       "        vertical-align: top;\n",
       "    }\n",
       "\n",
       "    .dataframe thead th {\n",
       "        text-align: right;\n",
       "    }\n",
       "</style>\n",
       "<table border=\"1\" class=\"dataframe\">\n",
       "  <thead>\n",
       "    <tr style=\"text-align: right;\">\n",
       "      <th></th>\n",
       "      <th>name</th>\n",
       "      <th>country</th>\n",
       "      <th>date</th>\n",
       "      <th>position</th>\n",
       "      <th>artists</th>\n",
       "      <th>artist_genres</th>\n",
       "      <th>duration</th>\n",
       "      <th>explicit</th>\n",
       "    </tr>\n",
       "  </thead>\n",
       "  <tbody>\n",
       "    <tr>\n",
       "      <th>122834</th>\n",
       "      <td>NaN</td>\n",
       "      <td>mx</td>\n",
       "      <td>2017-11-09</td>\n",
       "      <td>2</td>\n",
       "      <td>['Various Artists']</td>\n",
       "      <td>[]</td>\n",
       "      <td>0</td>\n",
       "      <td>True</td>\n",
       "    </tr>\n",
       "    <tr>\n",
       "      <th>122835</th>\n",
       "      <td>NaN</td>\n",
       "      <td>mx</td>\n",
       "      <td>2017-11-10</td>\n",
       "      <td>2</td>\n",
       "      <td>['Various Artists']</td>\n",
       "      <td>[]</td>\n",
       "      <td>0</td>\n",
       "      <td>True</td>\n",
       "    </tr>\n",
       "    <tr>\n",
       "      <th>122836</th>\n",
       "      <td>NaN</td>\n",
       "      <td>mx</td>\n",
       "      <td>2017-11-11</td>\n",
       "      <td>2</td>\n",
       "      <td>['Various Artists']</td>\n",
       "      <td>[]</td>\n",
       "      <td>0</td>\n",
       "      <td>True</td>\n",
       "    </tr>\n",
       "    <tr>\n",
       "      <th>122837</th>\n",
       "      <td>NaN</td>\n",
       "      <td>mx</td>\n",
       "      <td>2017-11-12</td>\n",
       "      <td>2</td>\n",
       "      <td>['Various Artists']</td>\n",
       "      <td>[]</td>\n",
       "      <td>0</td>\n",
       "      <td>True</td>\n",
       "    </tr>\n",
       "    <tr>\n",
       "      <th>122838</th>\n",
       "      <td>NaN</td>\n",
       "      <td>mx</td>\n",
       "      <td>2017-11-13</td>\n",
       "      <td>2</td>\n",
       "      <td>['Various Artists']</td>\n",
       "      <td>[]</td>\n",
       "      <td>0</td>\n",
       "      <td>True</td>\n",
       "    </tr>\n",
       "  </tbody>\n",
       "</table>\n",
       "</div>"
      ],
      "text/plain": [
       "       name country        date  position              artists artist_genres  \\\n",
       "122834  NaN      mx  2017-11-09         2  ['Various Artists']            []   \n",
       "122835  NaN      mx  2017-11-10         2  ['Various Artists']            []   \n",
       "122836  NaN      mx  2017-11-11         2  ['Various Artists']            []   \n",
       "122837  NaN      mx  2017-11-12         2  ['Various Artists']            []   \n",
       "122838  NaN      mx  2017-11-13         2  ['Various Artists']            []   \n",
       "\n",
       "        duration  explicit  \n",
       "122834         0      True  \n",
       "122835         0      True  \n",
       "122836         0      True  \n",
       "122837         0      True  \n",
       "122838         0      True  "
      ]
     },
     "execution_count": 188,
     "metadata": {},
     "output_type": "execute_result"
    }
   ],
   "source": [
    "garbage[garbage['position']<10].head()"
   ]
  },
  {
   "cell_type": "markdown",
   "id": "f193c98b",
   "metadata": {},
   "source": [
    "Моё итоговое предположение - исполнители удалили свои песни или возникли проблемы в плане лицензии. Но я не уверен, тк, например, A$AP ROCKY, который был в топах яндекс музыки, наверняка, лежит где-то в бд по чартам 2012-2014 годов. Соц сети могут по 10 лет хранить личные данные, а важная информация, для отслеживания вкусов потребителей уж тем более не будет удаляться. Так и не пришёл к выводам - возможно, датасет с просто с косяками"
   ]
  },
  {
   "cell_type": "markdown",
   "id": "9fea1c95",
   "metadata": {},
   "source": [
    "**Очистим** лишний мусор"
   ]
  },
  {
   "cell_type": "code",
   "execution_count": 189,
   "id": "5ca47d5d",
   "metadata": {},
   "outputs": [
    {
     "name": "stdout",
     "output_type": "stream",
     "text": [
      "<class 'pandas.core.frame.DataFrame'>\n",
      "Int64Index: 626337 entries, 0 to 626474\n",
      "Data columns (total 8 columns):\n",
      " #   Column         Non-Null Count   Dtype \n",
      "---  ------         --------------   ----- \n",
      " 0   name           626337 non-null  object\n",
      " 1   country        626337 non-null  object\n",
      " 2   date           626337 non-null  object\n",
      " 3   position       626337 non-null  int64 \n",
      " 4   artists        626337 non-null  object\n",
      " 5   artist_genres  626337 non-null  object\n",
      " 6   duration       626337 non-null  int64 \n",
      " 7   explicit       626337 non-null  bool  \n",
      "dtypes: bool(1), int64(2), object(5)\n",
      "memory usage: 38.8+ MB\n"
     ]
    }
   ],
   "source": [
    "zero_duration = (df[df['duration']==0])\n",
    "df = df.drop(zero_duration.index)\n",
    "df.info()"
   ]
  },
  {
   "cell_type": "markdown",
   "id": "ed65e1e9",
   "metadata": {},
   "source": [
    "# EDA"
   ]
  },
  {
   "cell_type": "markdown",
   "id": "a79dc2ea",
   "metadata": {},
   "source": [
    "Интересно проследить за спросом на отсутствие цензуры:"
   ]
  },
  {
   "cell_type": "code",
   "execution_count": 190,
   "id": "422657f1",
   "metadata": {},
   "outputs": [
    {
     "data": {
      "image/png": "[encoded data removed]",
      "text/plain": [
       "<Figure size 400x400 with 1 Axes>"
      ]
     },
     "metadata": {},
     "output_type": "display_data"
    }
   ],
   "source": [
    "df[\"explicit\"].value_counts().plot(kind=\"bar\", label=\"Explicit\", figsize=(4,4))\n",
    "plt.legend()\n",
    "plt.title(\"Количество песен в чартах с возрастным ограничением\");"
   ]
  },
  {
   "cell_type": "markdown",
   "id": "8a81b02c",
   "metadata": {},
   "source": [
    "Количественных переменных у нас не так много, поэтому не вижу смысла делать корреляцию"
   ]
  },
  {
   "cell_type": "code",
   "execution_count": 191,
   "id": "5e8bd2fb",
   "metadata": {},
   "outputs": [
    {
     "data": {
      "text/plain": [
       "<AxesSubplot: >"
      ]
     },
     "execution_count": 191,
     "metadata": {},
     "output_type": "execute_result"
    },
    {
     "data": {
      "image/png": "[encoded data removed]",
      "text/plain": [
       "<Figure size 1000x800 with 2 Axes>"
      ]
     },
     "metadata": {},
     "output_type": "display_data"
    }
   ],
   "source": [
    "# в colab не работает\n",
    "corr = df.corr(numeric_only=True)\n",
    "sns.heatmap(corr, annot=True)"
   ]
  },
  {
   "cell_type": "markdown",
   "id": "9c6495c6",
   "metadata": {},
   "source": [
    "Видим, что везде **низкая корреляция** - логично, тк эти поля не особо связаны"
   ]
  },
  {
   "cell_type": "markdown",
   "id": "ba24e4ea",
   "metadata": {},
   "source": [
    "Построим гистограмму для количественных значений и убедимся, что, в целом, ничего неожиданного:\n",
    "- чем выше рейтинг, тем меньше песен\n",
    "- средняя длительность трека : 350 секунд ~ 5-6 минут"
   ]
  },
  {
   "cell_type": "code",
   "execution_count": 192,
   "id": "40cba87a",
   "metadata": {},
   "outputs": [
    {
     "data": {
      "image/png": "[encoded data removed]",
      "text/plain": [
       "<Figure size 2000x700 with 2 Axes>"
      ]
     },
     "metadata": {},
     "output_type": "display_data"
    }
   ],
   "source": [
    "df.hist(figsize=(20, 7));"
   ]
  },
  {
   "cell_type": "markdown",
   "id": "b4e33411",
   "metadata": {},
   "source": [
    "Найдём топ 10 стран, где активнее всего работает spotify, и проведём маленькую статистику:"
   ]
  },
  {
   "cell_type": "code",
   "execution_count": 193,
   "id": "cc289e57",
   "metadata": {},
   "outputs": [
    {
     "data": {
      "text/html": [
       "<div>\n",
       "<style scoped>\n",
       "    .dataframe tbody tr th:only-of-type {\n",
       "        vertical-align: middle;\n",
       "    }\n",
       "\n",
       "    .dataframe tbody tr th {\n",
       "        vertical-align: top;\n",
       "    }\n",
       "\n",
       "    .dataframe thead th {\n",
       "        text-align: right;\n",
       "    }\n",
       "</style>\n",
       "<table border=\"1\" class=\"dataframe\">\n",
       "  <thead>\n",
       "    <tr style=\"text-align: right;\">\n",
       "      <th>country</th>\n",
       "      <th>br</th>\n",
       "      <th>tr</th>\n",
       "      <th>jp</th>\n",
       "      <th>us</th>\n",
       "      <th>id</th>\n",
       "      <th>in</th>\n",
       "      <th>ca</th>\n",
       "      <th>no</th>\n",
       "      <th>it</th>\n",
       "      <th>pt</th>\n",
       "      <th>pl</th>\n",
       "      <th>sa</th>\n",
       "      <th>nz</th>\n",
       "      <th>vn</th>\n",
       "      <th>th</th>\n",
       "      <th>ph</th>\n",
       "      <th>za</th>\n",
       "      <th>hu</th>\n",
       "      <th>au</th>\n",
       "      <th>fr</th>\n",
       "      <th>be</th>\n",
       "      <th>il</th>\n",
       "      <th>nl</th>\n",
       "      <th>my</th>\n",
       "      <th>cz</th>\n",
       "      <th>fi</th>\n",
       "      <th>ie</th>\n",
       "      <th>sg</th>\n",
       "      <th>de</th>\n",
       "      <th>dk</th>\n",
       "      <th>se</th>\n",
       "      <th>ru</th>\n",
       "      <th>gb</th>\n",
       "      <th>tw</th>\n",
       "      <th>ro</th>\n",
       "      <th>ch</th>\n",
       "      <th>kr</th>\n",
       "      <th>at</th>\n",
       "      <th>do</th>\n",
       "      <th>global</th>\n",
       "      <th>cl</th>\n",
       "      <th>es</th>\n",
       "      <th>hk</th>\n",
       "      <th>gr</th>\n",
       "      <th>ua</th>\n",
       "      <th>cr</th>\n",
       "      <th>co</th>\n",
       "      <th>ar</th>\n",
       "      <th>pe</th>\n",
       "      <th>ae</th>\n",
       "      <th>ma</th>\n",
       "      <th>eg</th>\n",
       "      <th>sk</th>\n",
       "      <th>pa</th>\n",
       "      <th>mx</th>\n",
       "      <th>hn</th>\n",
       "      <th>cy</th>\n",
       "      <th>uy</th>\n",
       "      <th>sv</th>\n",
       "      <th>ec</th>\n",
       "      <th>bo</th>\n",
       "      <th>lt</th>\n",
       "      <th>ni</th>\n",
       "      <th>bg</th>\n",
       "      <th>py</th>\n",
       "      <th>gt</th>\n",
       "      <th>lv</th>\n",
       "      <th>is</th>\n",
       "      <th>ee</th>\n",
       "      <th>mt</th>\n",
       "      <th>lu</th>\n",
       "    </tr>\n",
       "  </thead>\n",
       "  <tbody>\n",
       "    <tr>\n",
       "      <th>mean</th>\n",
       "      <td>137.184511</td>\n",
       "      <td>133.269947</td>\n",
       "      <td>131.9653</td>\n",
       "      <td>131.610914</td>\n",
       "      <td>131.419201</td>\n",
       "      <td>127.537836</td>\n",
       "      <td>125.420636</td>\n",
       "      <td>125.336354</td>\n",
       "      <td>124.738148</td>\n",
       "      <td>123.971678</td>\n",
       "      <td>123.959757</td>\n",
       "      <td>123.551839</td>\n",
       "      <td>123.183197</td>\n",
       "      <td>122.758002</td>\n",
       "      <td>122.149911</td>\n",
       "      <td>121.834591</td>\n",
       "      <td>121.471704</td>\n",
       "      <td>121.124146</td>\n",
       "      <td>121.039797</td>\n",
       "      <td>120.944544</td>\n",
       "      <td>120.635012</td>\n",
       "      <td>120.519965</td>\n",
       "      <td>120.473633</td>\n",
       "      <td>120.172449</td>\n",
       "      <td>119.602118</td>\n",
       "      <td>119.250797</td>\n",
       "      <td>118.575005</td>\n",
       "      <td>118.490932</td>\n",
       "      <td>118.455641</td>\n",
       "      <td>118.373281</td>\n",
       "      <td>117.736127</td>\n",
       "      <td>117.150124</td>\n",
       "      <td>117.03174</td>\n",
       "      <td>116.941899</td>\n",
       "      <td>115.817432</td>\n",
       "      <td>115.295775</td>\n",
       "      <td>114.601247</td>\n",
       "      <td>114.095374</td>\n",
       "      <td>113.941441</td>\n",
       "      <td>113.049082</td>\n",
       "      <td>112.872452</td>\n",
       "      <td>112.83876</td>\n",
       "      <td>112.071698</td>\n",
       "      <td>110.569219</td>\n",
       "      <td>110.551</td>\n",
       "      <td>110.529663</td>\n",
       "      <td>110.26224</td>\n",
       "      <td>107.819454</td>\n",
       "      <td>106.509354</td>\n",
       "      <td>105.787163</td>\n",
       "      <td>104.786683</td>\n",
       "      <td>104.635261</td>\n",
       "      <td>104.555467</td>\n",
       "      <td>101.960611</td>\n",
       "      <td>100.233734</td>\n",
       "      <td>99.170222</td>\n",
       "      <td>96.3</td>\n",
       "      <td>96.019557</td>\n",
       "      <td>94.760174</td>\n",
       "      <td>93.801599</td>\n",
       "      <td>92.594511</td>\n",
       "      <td>91.621781</td>\n",
       "      <td>88.697092</td>\n",
       "      <td>85.054242</td>\n",
       "      <td>84.771162</td>\n",
       "      <td>81.699738</td>\n",
       "      <td>78.351195</td>\n",
       "      <td>73.835006</td>\n",
       "      <td>57.971152</td>\n",
       "      <td>57.268293</td>\n",
       "      <td>35.976744</td>\n",
       "    </tr>\n",
       "  </tbody>\n",
       "</table>\n",
       "</div>"
      ],
      "text/plain": [
       "country          br          tr        jp          us          id          in  \\\n",
       "mean     137.184511  133.269947  131.9653  131.610914  131.419201  127.537836   \n",
       "\n",
       "country          ca          no          it          pt          pl  \\\n",
       "mean     125.420636  125.336354  124.738148  123.971678  123.959757   \n",
       "\n",
       "country          sa          nz          vn          th          ph  \\\n",
       "mean     123.551839  123.183197  122.758002  122.149911  121.834591   \n",
       "\n",
       "country          za          hu          au          fr          be  \\\n",
       "mean     121.471704  121.124146  121.039797  120.944544  120.635012   \n",
       "\n",
       "country          il          nl          my          cz          fi  \\\n",
       "mean     120.519965  120.473633  120.172449  119.602118  119.250797   \n",
       "\n",
       "country          ie          sg          de          dk          se  \\\n",
       "mean     118.575005  118.490932  118.455641  118.373281  117.736127   \n",
       "\n",
       "country          ru         gb          tw          ro          ch  \\\n",
       "mean     117.150124  117.03174  116.941899  115.817432  115.295775   \n",
       "\n",
       "country          kr          at          do      global          cl  \\\n",
       "mean     114.601247  114.095374  113.941441  113.049082  112.872452   \n",
       "\n",
       "country         es          hk          gr       ua          cr         co  \\\n",
       "mean     112.83876  112.071698  110.569219  110.551  110.529663  110.26224   \n",
       "\n",
       "country          ar          pe          ae          ma          eg  \\\n",
       "mean     107.819454  106.509354  105.787163  104.786683  104.635261   \n",
       "\n",
       "country          sk          pa          mx         hn    cy         uy  \\\n",
       "mean     104.555467  101.960611  100.233734  99.170222  96.3  96.019557   \n",
       "\n",
       "country         sv         ec         bo         lt         ni         bg  \\\n",
       "mean     94.760174  93.801599  92.594511  91.621781  88.697092  85.054242   \n",
       "\n",
       "country         py         gt         lv         is         ee         mt  \\\n",
       "mean     84.771162  81.699738  78.351195  73.835006  57.971152  57.268293   \n",
       "\n",
       "country         lu  \n",
       "mean     35.976744  "
      ]
     },
     "execution_count": 193,
     "metadata": {},
     "output_type": "execute_result"
    }
   ],
   "source": [
    "# Как из методички - по всем странам\n",
    "df.groupby([\"country\"])[\"position\"].agg([np.mean]).sort_values(by=\"mean\", ascending=False).T"
   ]
  },
  {
   "cell_type": "code",
   "execution_count": 194,
   "id": "79ed6b12",
   "metadata": {},
   "outputs": [
    {
     "data": {
      "text/html": [
       "<div>\n",
       "<style scoped>\n",
       "    .dataframe tbody tr th:only-of-type {\n",
       "        vertical-align: middle;\n",
       "    }\n",
       "\n",
       "    .dataframe tbody tr th {\n",
       "        vertical-align: top;\n",
       "    }\n",
       "\n",
       "    .dataframe thead th {\n",
       "        text-align: right;\n",
       "    }\n",
       "</style>\n",
       "<table border=\"1\" class=\"dataframe\">\n",
       "  <thead>\n",
       "    <tr style=\"text-align: right;\">\n",
       "      <th></th>\n",
       "      <th>position</th>\n",
       "      <th>duration</th>\n",
       "      <th>explicit</th>\n",
       "    </tr>\n",
       "    <tr>\n",
       "      <th>country</th>\n",
       "      <th></th>\n",
       "      <th></th>\n",
       "      <th></th>\n",
       "    </tr>\n",
       "  </thead>\n",
       "  <tbody>\n",
       "    <tr>\n",
       "      <th>br</th>\n",
       "      <td>137.184511</td>\n",
       "      <td>210721.211803</td>\n",
       "      <td>0.218801</td>\n",
       "    </tr>\n",
       "    <tr>\n",
       "      <th>tr</th>\n",
       "      <td>133.269947</td>\n",
       "      <td>222277.491689</td>\n",
       "      <td>0.264295</td>\n",
       "    </tr>\n",
       "    <tr>\n",
       "      <th>jp</th>\n",
       "      <td>131.965300</td>\n",
       "      <td>204318.017744</td>\n",
       "      <td>0.177050</td>\n",
       "    </tr>\n",
       "    <tr>\n",
       "      <th>us</th>\n",
       "      <td>131.610914</td>\n",
       "      <td>206732.509704</td>\n",
       "      <td>0.679633</td>\n",
       "    </tr>\n",
       "    <tr>\n",
       "      <th>id</th>\n",
       "      <td>131.419201</td>\n",
       "      <td>212912.387544</td>\n",
       "      <td>0.190979</td>\n",
       "    </tr>\n",
       "    <tr>\n",
       "      <th>in</th>\n",
       "      <td>127.537836</td>\n",
       "      <td>199372.418226</td>\n",
       "      <td>0.224166</td>\n",
       "    </tr>\n",
       "    <tr>\n",
       "      <th>ca</th>\n",
       "      <td>125.420636</td>\n",
       "      <td>206861.672861</td>\n",
       "      <td>0.604129</td>\n",
       "    </tr>\n",
       "    <tr>\n",
       "      <th>no</th>\n",
       "      <td>125.336354</td>\n",
       "      <td>207121.225554</td>\n",
       "      <td>0.348381</td>\n",
       "    </tr>\n",
       "    <tr>\n",
       "      <th>it</th>\n",
       "      <td>124.738148</td>\n",
       "      <td>208106.402604</td>\n",
       "      <td>0.250307</td>\n",
       "    </tr>\n",
       "    <tr>\n",
       "      <th>pt</th>\n",
       "      <td>123.971678</td>\n",
       "      <td>211317.710656</td>\n",
       "      <td>0.350396</td>\n",
       "    </tr>\n",
       "  </tbody>\n",
       "</table>\n",
       "</div>"
      ],
      "text/plain": [
       "           position       duration  explicit\n",
       "country                                     \n",
       "br       137.184511  210721.211803  0.218801\n",
       "tr       133.269947  222277.491689  0.264295\n",
       "jp       131.965300  204318.017744  0.177050\n",
       "us       131.610914  206732.509704  0.679633\n",
       "id       131.419201  212912.387544  0.190979\n",
       "in       127.537836  199372.418226  0.224166\n",
       "ca       125.420636  206861.672861  0.604129\n",
       "no       125.336354  207121.225554  0.348381\n",
       "it       124.738148  208106.402604  0.250307\n",
       "pt       123.971678  211317.710656  0.350396"
      ]
     },
     "execution_count": 194,
     "metadata": {},
     "output_type": "execute_result"
    }
   ],
   "source": [
    "# более подробно по топу 10 стран\n",
    "groupped_country = df.groupby(['country']).mean()\n",
    "groupped_country = groupped_country.sort_values(by=['position'], ascending=False)\n",
    "groupped_country.head(10)"
   ]
  },
  {
   "cell_type": "markdown",
   "id": "ded4a934",
   "metadata": {},
   "source": [
    "Давайте посмотрим, как зависит возрастное ограничение от позиции в топе в разные эпохи:"
   ]
  },
  {
   "cell_type": "code",
   "execution_count": 195,
   "id": "baa423d2",
   "metadata": {},
   "outputs": [
    {
     "name": "stdout",
     "output_type": "stream",
     "text": [
      "from: 2014 to 2022\n"
     ]
    }
   ],
   "source": [
    "years = pd.DatetimeIndex(df['date']).year\n",
    "print(f'from: {years.min()} to {years.max()}')"
   ]
  },
  {
   "cell_type": "code",
   "execution_count": 196,
   "id": "45374c99",
   "metadata": {},
   "outputs": [],
   "source": [
    "df_2014 = df[pd.DatetimeIndex(df['date']).year == 2014].groupby('explicit').position.describe()\n",
    "df_2015 = df[pd.DatetimeIndex(df['date']).year == 2015].groupby('explicit').position.describe()\n",
    "df_2016 = df[pd.DatetimeIndex(df['date']).year == 2016].groupby('explicit').position.describe()\n",
    "df_2017 = df[pd.DatetimeIndex(df['date']).year == 2017].groupby('explicit').position.describe()\n",
    "df_2018 = df[pd.DatetimeIndex(df['date']).year == 2018].groupby('explicit').position.describe()\n",
    "df_2019 = df[pd.DatetimeIndex(df['date']).year == 2019].groupby('explicit').position.describe()\n",
    "df_2020 = df[pd.DatetimeIndex(df['date']).year == 2020].groupby('explicit').position.describe()\n",
    "df_2021 = df[pd.DatetimeIndex(df['date']).year == 2021].groupby('explicit').position.describe()\n",
    "df_2022 = df[pd.DatetimeIndex(df['date']).year == 2022].groupby('explicit').position.describe()"
   ]
  },
  {
   "cell_type": "code",
   "execution_count": 197,
   "id": "76b0ca36",
   "metadata": {},
   "outputs": [
    {
     "data": {
      "text/html": [
       "<div>\n",
       "<style scoped>\n",
       "    .dataframe tbody tr th:only-of-type {\n",
       "        vertical-align: middle;\n",
       "    }\n",
       "\n",
       "    .dataframe tbody tr th {\n",
       "        vertical-align: top;\n",
       "    }\n",
       "\n",
       "    .dataframe thead th {\n",
       "        text-align: right;\n",
       "    }\n",
       "</style>\n",
       "<table border=\"1\" class=\"dataframe\">\n",
       "  <thead>\n",
       "    <tr style=\"text-align: right;\">\n",
       "      <th></th>\n",
       "      <th>count</th>\n",
       "      <th>mean</th>\n",
       "      <th>std</th>\n",
       "      <th>min</th>\n",
       "      <th>25%</th>\n",
       "      <th>50%</th>\n",
       "      <th>75%</th>\n",
       "      <th>max</th>\n",
       "    </tr>\n",
       "    <tr>\n",
       "      <th>explicit</th>\n",
       "      <th></th>\n",
       "      <th></th>\n",
       "      <th></th>\n",
       "      <th></th>\n",
       "      <th></th>\n",
       "      <th></th>\n",
       "      <th></th>\n",
       "      <th></th>\n",
       "    </tr>\n",
       "  </thead>\n",
       "  <tbody>\n",
       "    <tr>\n",
       "      <th>False</th>\n",
       "      <td>4842.0</td>\n",
       "      <td>127.235440</td>\n",
       "      <td>43.799928</td>\n",
       "      <td>5.0</td>\n",
       "      <td>94.0</td>\n",
       "      <td>128.0</td>\n",
       "      <td>164.0</td>\n",
       "      <td>200.0</td>\n",
       "    </tr>\n",
       "    <tr>\n",
       "      <th>True</th>\n",
       "      <td>1534.0</td>\n",
       "      <td>130.147979</td>\n",
       "      <td>42.970775</td>\n",
       "      <td>23.0</td>\n",
       "      <td>92.0</td>\n",
       "      <td>135.0</td>\n",
       "      <td>167.0</td>\n",
       "      <td>200.0</td>\n",
       "    </tr>\n",
       "  </tbody>\n",
       "</table>\n",
       "</div>"
      ],
      "text/plain": [
       "           count        mean        std   min   25%    50%    75%    max\n",
       "explicit                                                                \n",
       "False     4842.0  127.235440  43.799928   5.0  94.0  128.0  164.0  200.0\n",
       "True      1534.0  130.147979  42.970775  23.0  92.0  135.0  167.0  200.0"
      ]
     },
     "execution_count": 197,
     "metadata": {},
     "output_type": "execute_result"
    }
   ],
   "source": [
    "df_2014.head()"
   ]
  },
  {
   "cell_type": "markdown",
   "id": "e1135334",
   "metadata": {},
   "source": [
    "Данные собираю немного туповатым способом, сразу же извиняюсь, более аккуратного не придумал"
   ]
  },
  {
   "cell_type": "code",
   "execution_count": 198,
   "id": "3d301168",
   "metadata": {},
   "outputs": [],
   "source": [
    "mean_false = np.empty(9, dtype='float64')\n",
    "mean_true = np.empty(9, dtype='float64')\n",
    "mean_false[0] = df_2014.values[0][1]\n",
    "mean_false[1] = df_2015.values[0][1]\n",
    "mean_false[2] = df_2016.values[0][1]\n",
    "mean_false[3] = df_2017.values[0][1]\n",
    "mean_false[4] = df_2018.values[0][1]\n",
    "mean_false[5] = df_2019.values[0][1]\n",
    "mean_false[6] = df_2020.values[0][1]\n",
    "mean_false[7] = df_2021.values[0][1]\n",
    "mean_false[8] = df_2022.values[0][1]\n",
    "\n",
    "mean_true[0] = df_2014.values[1][1]\n",
    "mean_true[1] = df_2015.values[1][1]\n",
    "mean_true[2] = df_2016.values[1][1]\n",
    "mean_true[3] = df_2017.values[1][1]\n",
    "mean_true[4] = df_2018.values[1][1]\n",
    "mean_true[5] = df_2019.values[1][1]\n",
    "mean_true[6] = df_2020.values[1][1]\n",
    "mean_true[7] = df_2021.values[1][1]\n",
    "mean_true[8] = df_2022.values[1][1]"
   ]
  },
  {
   "cell_type": "code",
   "execution_count": 199,
   "id": "fc8b772d",
   "metadata": {},
   "outputs": [],
   "source": [
    "p25_false = np.empty(9, dtype='float64')\n",
    "p25_true = np.empty(9, dtype='float64')\n",
    "\n",
    "p25_false[0] = df_2014.values[0][4]\n",
    "p25_false[1] = df_2015.values[0][4]\n",
    "p25_false[2] = df_2016.values[0][4]\n",
    "p25_false[3] = df_2017.values[0][4]\n",
    "p25_false[4] = df_2018.values[0][4]\n",
    "p25_false[5] = df_2019.values[0][4]\n",
    "p25_false[6] = df_2020.values[0][4]\n",
    "p25_false[7] = df_2021.values[0][4]\n",
    "p25_false[8] = df_2022.values[0][4]\n",
    "\n",
    "p25_true[0] = df_2014.values[1][4]\n",
    "p25_true[1] = df_2015.values[1][4]\n",
    "p25_true[2] = df_2016.values[1][4]\n",
    "p25_true[3] = df_2017.values[1][4]\n",
    "p25_true[4] = df_2018.values[1][4]\n",
    "p25_true[5] = df_2019.values[1][4]\n",
    "p25_true[6] = df_2020.values[1][4]\n",
    "p25_true[7] = df_2021.values[1][4]\n",
    "p25_true[8] = df_2022.values[1][4]"
   ]
  },
  {
   "cell_type": "code",
   "execution_count": 200,
   "id": "c5cd68b7",
   "metadata": {},
   "outputs": [],
   "source": [
    "p75_false = np.empty(9, dtype='float64')\n",
    "p75_true = np.empty(9, dtype='float64')\n",
    "\n",
    "p75_false[0] = df_2014.values[0][6]\n",
    "p75_false[1] = df_2015.values[0][6]\n",
    "p75_false[2] = df_2016.values[0][6]\n",
    "p75_false[3] = df_2017.values[0][6]\n",
    "p75_false[4] = df_2018.values[0][6]\n",
    "p75_false[5] = df_2019.values[0][6]\n",
    "p75_false[6] = df_2020.values[0][6]\n",
    "p75_false[7] = df_2021.values[0][6]\n",
    "p75_false[8] = df_2022.values[0][6]\n",
    "\n",
    "p75_true[0] = df_2014.values[1][6]\n",
    "p75_true[1] = df_2015.values[1][6]\n",
    "p75_true[2] = df_2016.values[1][6]\n",
    "p75_true[3] = df_2017.values[1][6]\n",
    "p75_true[4] = df_2018.values[1][6]\n",
    "p75_true[5] = df_2019.values[1][6]\n",
    "p75_true[6] = df_2020.values[1][6]\n",
    "p75_true[7] = df_2021.values[1][6]\n",
    "p75_true[8] = df_2022.values[1][6]"
   ]
  },
  {
   "cell_type": "code",
   "execution_count": 201,
   "id": "8858a541",
   "metadata": {},
   "outputs": [],
   "source": [
    "mean_false = pd.Series(mean_false, name='mean_false')\n",
    "mean_true = pd.Series(mean_true, name='mean_true')\n",
    "\n",
    "p25_false = pd.Series(p25_false, name='p25_false')\n",
    "p25_true = pd.Series(p25_true, name='p25_true')\n",
    "\n",
    "p75_false = pd.Series(p75_false, name='p75_false')\n",
    "p75_true = pd.Series(p75_true, name='p75_true')"
   ]
  },
  {
   "cell_type": "code",
   "execution_count": 202,
   "id": "6bded388",
   "metadata": {},
   "outputs": [
    {
     "data": {
      "text/plain": [
       "<matplotlib.legend.Legend at 0x2ad9e0c4ee0>"
      ]
     },
     "execution_count": 202,
     "metadata": {},
     "output_type": "execute_result"
    },
    {
     "data": {
      "image/png": "[encoded data removed]",
      "text/plain": [
       "<Figure size 1000x800 with 3 Axes>"
      ]
     },
     "metadata": {},
     "output_type": "display_data"
    }
   ],
   "source": [
    "fig, (ax1, ax2, ax3) = plt.subplots(3)\n",
    "ax1.plot(mean_true, color='r', label='exp')\n",
    "ax1.plot(mean_false, color='g', label='no')\n",
    "ax1.set_title('mean', x = 1.1, y = 0.5)\n",
    "\n",
    "ax2.plot(p25_true, color='r', label='exp')\n",
    "ax2.plot(p25_false, color='g', label='no')\n",
    "ax2.set_title('top 25%', x = 1.1, y = 0.5)\n",
    "\n",
    "ax3.plot(p75_true, color='r', label='exp')\n",
    "ax3.plot(p75_false, color='g', label='no')\n",
    "ax3.set_title('top 75%', x =1.1, y = 0.5)\n",
    "\n",
    "years = np.empty(10, dtype=int)\n",
    "for i in range(10):\n",
    "    years[i] = 2013 + i\n",
    "    \n",
    "ax1.set_xticklabels(years)\n",
    "ax2.set_xticklabels(years)\n",
    "ax3.set_xticklabels(years)\n",
    "\n",
    "ax1.legend()\n",
    "ax2.legend()\n",
    "ax3.legend()"
   ]
  },
  {
   "cell_type": "markdown",
   "id": "183f4770",
   "metadata": {},
   "source": [
    "В целом видим, что спрос на музыку с цензурой и без примерно одинаков, не считая 2021 года. В 2019 всколохнул Covid-19, далее последовали экономические кризисы и войны, может быть, это и отразилось на спрос. Можно было бы углубиться, и узнать, в каких именно странах происходил рост, чтоб подтвердить догадки, но оставим вопрос открытым"
   ]
  },
  {
   "cell_type": "markdown",
   "id": "8eaa5f85",
   "metadata": {},
   "source": [
    "# Поиск аномалий"
   ]
  },
  {
   "cell_type": "markdown",
   "id": "ef610e27",
   "metadata": {},
   "source": [
    "Перед поиском, нужно установить библиотеку (работаю на локальном ПК с jupyter-notebook):\n",
    "```bash\n",
    "pip install -U scikit-learn scipy matplotlib\n",
    "```"
   ]
  },
  {
   "cell_type": "markdown",
   "id": "2ecfa967",
   "metadata": {},
   "source": [
    "Переделаем категориальные переменные в вещественные:"
   ]
  },
  {
   "cell_type": "code",
   "execution_count": 203,
   "id": "a361d73c",
   "metadata": {},
   "outputs": [],
   "source": [
    "from sklearn.preprocessing import LabelEncoder\n",
    "enc=LabelEncoder()\n",
    "df['name']= enc.fit_transform(df['name'])\n",
    "df['country']= enc.fit_transform(df['country'])\n",
    "df['date']= enc.fit_transform(df['date'])\n",
    "df['artists']= enc.fit_transform(df['artists'])\n",
    "df['artist_genres']= enc.fit_transform(df['artist_genres'])\n",
    "df['explicit']= enc.fit_transform(df['explicit'])"
   ]
  },
  {
   "cell_type": "code",
   "execution_count": 204,
   "id": "a573d57b",
   "metadata": {},
   "outputs": [
    {
     "name": "stdout",
     "output_type": "stream",
     "text": [
      "<class 'pandas.core.frame.DataFrame'>\n",
      "Int64Index: 626337 entries, 0 to 626474\n",
      "Data columns (total 8 columns):\n",
      " #   Column         Non-Null Count   Dtype\n",
      "---  ------         --------------   -----\n",
      " 0   name           626337 non-null  int32\n",
      " 1   country        626337 non-null  int32\n",
      " 2   date           626337 non-null  int32\n",
      " 3   position       626337 non-null  int64\n",
      " 4   artists        626337 non-null  int32\n",
      " 5   artist_genres  626337 non-null  int32\n",
      " 6   duration       626337 non-null  int64\n",
      " 7   explicit       626337 non-null  int64\n",
      "dtypes: int32(5), int64(3)\n",
      "memory usage: 31.1 MB\n"
     ]
    }
   ],
   "source": [
    "df.info()"
   ]
  },
  {
   "cell_type": "code",
   "execution_count": 205,
   "id": "d5b2f0e2",
   "metadata": {},
   "outputs": [
    {
     "data": {
      "text/html": [
       "<div>\n",
       "<style scoped>\n",
       "    .dataframe tbody tr th:only-of-type {\n",
       "        vertical-align: middle;\n",
       "    }\n",
       "\n",
       "    .dataframe tbody tr th {\n",
       "        vertical-align: top;\n",
       "    }\n",
       "\n",
       "    .dataframe thead th {\n",
       "        text-align: right;\n",
       "    }\n",
       "</style>\n",
       "<table border=\"1\" class=\"dataframe\">\n",
       "  <thead>\n",
       "    <tr style=\"text-align: right;\">\n",
       "      <th></th>\n",
       "      <th>name</th>\n",
       "      <th>country</th>\n",
       "      <th>date</th>\n",
       "      <th>position</th>\n",
       "      <th>artists</th>\n",
       "      <th>artist_genres</th>\n",
       "      <th>duration</th>\n",
       "      <th>explicit</th>\n",
       "    </tr>\n",
       "  </thead>\n",
       "  <tbody>\n",
       "    <tr>\n",
       "      <th>0</th>\n",
       "      <td>2895</td>\n",
       "      <td>7</td>\n",
       "      <td>162</td>\n",
       "      <td>138</td>\n",
       "      <td>2030</td>\n",
       "      <td>2371</td>\n",
       "      <td>239920</td>\n",
       "      <td>0</td>\n",
       "    </tr>\n",
       "    <tr>\n",
       "      <th>1</th>\n",
       "      <td>2895</td>\n",
       "      <td>7</td>\n",
       "      <td>163</td>\n",
       "      <td>132</td>\n",
       "      <td>2030</td>\n",
       "      <td>2371</td>\n",
       "      <td>239920</td>\n",
       "      <td>0</td>\n",
       "    </tr>\n",
       "    <tr>\n",
       "      <th>2</th>\n",
       "      <td>2895</td>\n",
       "      <td>7</td>\n",
       "      <td>164</td>\n",
       "      <td>128</td>\n",
       "      <td>2030</td>\n",
       "      <td>2371</td>\n",
       "      <td>239920</td>\n",
       "      <td>0</td>\n",
       "    </tr>\n",
       "    <tr>\n",
       "      <th>3</th>\n",
       "      <td>2895</td>\n",
       "      <td>7</td>\n",
       "      <td>165</td>\n",
       "      <td>152</td>\n",
       "      <td>2030</td>\n",
       "      <td>2371</td>\n",
       "      <td>239920</td>\n",
       "      <td>0</td>\n",
       "    </tr>\n",
       "    <tr>\n",
       "      <th>4</th>\n",
       "      <td>2895</td>\n",
       "      <td>7</td>\n",
       "      <td>166</td>\n",
       "      <td>160</td>\n",
       "      <td>2030</td>\n",
       "      <td>2371</td>\n",
       "      <td>239920</td>\n",
       "      <td>0</td>\n",
       "    </tr>\n",
       "  </tbody>\n",
       "</table>\n",
       "</div>"
      ],
      "text/plain": [
       "   name  country  date  position  artists  artist_genres  duration  explicit\n",
       "0  2895        7   162       138     2030           2371    239920         0\n",
       "1  2895        7   163       132     2030           2371    239920         0\n",
       "2  2895        7   164       128     2030           2371    239920         0\n",
       "3  2895        7   165       152     2030           2371    239920         0\n",
       "4  2895        7   166       160     2030           2371    239920         0"
      ]
     },
     "execution_count": 205,
     "metadata": {},
     "output_type": "execute_result"
    }
   ],
   "source": [
    "df.head()"
   ]
  },
  {
   "cell_type": "code",
   "execution_count": 206,
   "id": "acad31ae",
   "metadata": {},
   "outputs": [
    {
     "data": {
      "text/html": [
       "<style type=\"text/css\">\n",
       "#T_f5ac2_row0_col0, #T_f5ac2_row0_col1, #T_f5ac2_row0_col2, #T_f5ac2_row0_col3, #T_f5ac2_row0_col4, #T_f5ac2_row0_col5, #T_f5ac2_row0_col7, #T_f5ac2_row7_col6 {\n",
       "  background-color: #023858;\n",
       "  color: #f1f1f1;\n",
       "}\n",
       "#T_f5ac2_row0_col6 {\n",
       "  background-color: #2a88bc;\n",
       "  color: #f1f1f1;\n",
       "}\n",
       "#T_f5ac2_row1_col0, #T_f5ac2_row5_col0, #T_f5ac2_row6_col2, #T_f5ac2_row6_col4, #T_f5ac2_row6_col5, #T_f5ac2_row7_col2, #T_f5ac2_row7_col4, #T_f5ac2_row7_col5 {\n",
       "  background-color: #fef6fb;\n",
       "  color: #000000;\n",
       "}\n",
       "#T_f5ac2_row1_col1, #T_f5ac2_row1_col2, #T_f5ac2_row1_col3, #T_f5ac2_row1_col4, #T_f5ac2_row1_col5, #T_f5ac2_row1_col7, #T_f5ac2_row2_col0, #T_f5ac2_row2_col1, #T_f5ac2_row2_col2, #T_f5ac2_row2_col3, #T_f5ac2_row2_col4, #T_f5ac2_row2_col5, #T_f5ac2_row2_col7, #T_f5ac2_row3_col0, #T_f5ac2_row3_col1, #T_f5ac2_row3_col2, #T_f5ac2_row3_col3, #T_f5ac2_row3_col4, #T_f5ac2_row3_col5, #T_f5ac2_row3_col6, #T_f5ac2_row3_col7, #T_f5ac2_row4_col0, #T_f5ac2_row4_col1, #T_f5ac2_row4_col2, #T_f5ac2_row4_col3, #T_f5ac2_row4_col4, #T_f5ac2_row4_col5, #T_f5ac2_row4_col7, #T_f5ac2_row5_col1, #T_f5ac2_row5_col2, #T_f5ac2_row5_col3, #T_f5ac2_row5_col4, #T_f5ac2_row5_col5, #T_f5ac2_row5_col7, #T_f5ac2_row6_col1, #T_f5ac2_row6_col3, #T_f5ac2_row6_col7, #T_f5ac2_row7_col1, #T_f5ac2_row7_col3, #T_f5ac2_row7_col7 {\n",
       "  background-color: #fff7fb;\n",
       "  color: #000000;\n",
       "}\n",
       "#T_f5ac2_row1_col6 {\n",
       "  background-color: #dddbec;\n",
       "  color: #000000;\n",
       "}\n",
       "#T_f5ac2_row2_col6 {\n",
       "  background-color: #fbf4f9;\n",
       "  color: #000000;\n",
       "}\n",
       "#T_f5ac2_row4_col6 {\n",
       "  background-color: #e5e1ef;\n",
       "  color: #000000;\n",
       "}\n",
       "#T_f5ac2_row5_col6 {\n",
       "  background-color: #dedcec;\n",
       "  color: #000000;\n",
       "}\n",
       "#T_f5ac2_row6_col0, #T_f5ac2_row7_col0 {\n",
       "  background-color: #fef6fa;\n",
       "  color: #000000;\n",
       "}\n",
       "#T_f5ac2_row6_col6 {\n",
       "  background-color: #d7d6e9;\n",
       "  color: #000000;\n",
       "}\n",
       "</style>\n",
       "<table id=\"T_f5ac2\">\n",
       "  <thead>\n",
       "    <tr>\n",
       "      <th class=\"blank level0\" >&nbsp;</th>\n",
       "      <th id=\"T_f5ac2_level0_col0\" class=\"col_heading level0 col0\" >name</th>\n",
       "      <th id=\"T_f5ac2_level0_col1\" class=\"col_heading level0 col1\" >country</th>\n",
       "      <th id=\"T_f5ac2_level0_col2\" class=\"col_heading level0 col2\" >date</th>\n",
       "      <th id=\"T_f5ac2_level0_col3\" class=\"col_heading level0 col3\" >position</th>\n",
       "      <th id=\"T_f5ac2_level0_col4\" class=\"col_heading level0 col4\" >artists</th>\n",
       "      <th id=\"T_f5ac2_level0_col5\" class=\"col_heading level0 col5\" >artist_genres</th>\n",
       "      <th id=\"T_f5ac2_level0_col6\" class=\"col_heading level0 col6\" >duration</th>\n",
       "      <th id=\"T_f5ac2_level0_col7\" class=\"col_heading level0 col7\" >explicit</th>\n",
       "    </tr>\n",
       "  </thead>\n",
       "  <tbody>\n",
       "    <tr>\n",
       "      <th id=\"T_f5ac2_level0_row0\" class=\"row_heading level0 row0\" >count</th>\n",
       "      <td id=\"T_f5ac2_row0_col0\" class=\"data row0 col0\" >626337.000000</td>\n",
       "      <td id=\"T_f5ac2_row0_col1\" class=\"data row0 col1\" >626337.000000</td>\n",
       "      <td id=\"T_f5ac2_row0_col2\" class=\"data row0 col2\" >626337.000000</td>\n",
       "      <td id=\"T_f5ac2_row0_col3\" class=\"data row0 col3\" >626337.000000</td>\n",
       "      <td id=\"T_f5ac2_row0_col4\" class=\"data row0 col4\" >626337.000000</td>\n",
       "      <td id=\"T_f5ac2_row0_col5\" class=\"data row0 col5\" >626337.000000</td>\n",
       "      <td id=\"T_f5ac2_row0_col6\" class=\"data row0 col6\" >626337.000000</td>\n",
       "      <td id=\"T_f5ac2_row0_col7\" class=\"data row0 col7\" >626337.000000</td>\n",
       "    </tr>\n",
       "    <tr>\n",
       "      <th id=\"T_f5ac2_level0_row1\" class=\"row_heading level0 row1\" >mean</th>\n",
       "      <td id=\"T_f5ac2_row1_col0\" class=\"data row1 col0\" >3464.701252</td>\n",
       "      <td id=\"T_f5ac2_row1_col1\" class=\"data row1 col1\" >35.916547</td>\n",
       "      <td id=\"T_f5ac2_row1_col2\" class=\"data row1 col2\" >1975.374734</td>\n",
       "      <td id=\"T_f5ac2_row1_col3\" class=\"data row1 col3\" >116.631531</td>\n",
       "      <td id=\"T_f5ac2_row1_col4\" class=\"data row1 col4\" >1590.474444</td>\n",
       "      <td id=\"T_f5ac2_row1_col5\" class=\"data row1 col5\" >1933.318145</td>\n",
       "      <td id=\"T_f5ac2_row1_col6\" class=\"data row1 col6\" >207335.782903</td>\n",
       "      <td id=\"T_f5ac2_row1_col7\" class=\"data row1 col7\" >0.412655</td>\n",
       "    </tr>\n",
       "    <tr>\n",
       "      <th id=\"T_f5ac2_level0_row2\" class=\"row_heading level0 row2\" >std</th>\n",
       "      <td id=\"T_f5ac2_row2_col0\" class=\"data row2 col0\" >1973.623932</td>\n",
       "      <td id=\"T_f5ac2_row2_col1\" class=\"data row2 col1\" >22.484187</td>\n",
       "      <td id=\"T_f5ac2_row2_col2\" class=\"data row2 col2\" >877.706723</td>\n",
       "      <td id=\"T_f5ac2_row2_col3\" class=\"data row2 col3\" >57.023766</td>\n",
       "      <td id=\"T_f5ac2_row2_col4\" class=\"data row2 col4\" >986.437225</td>\n",
       "      <td id=\"T_f5ac2_row2_col5\" class=\"data row2 col5\" >997.061370</td>\n",
       "      <td id=\"T_f5ac2_row2_col6\" class=\"data row2 col6\" >53558.869171</td>\n",
       "      <td id=\"T_f5ac2_row2_col7\" class=\"data row2 col7\" >0.492312</td>\n",
       "    </tr>\n",
       "    <tr>\n",
       "      <th id=\"T_f5ac2_level0_row3\" class=\"row_heading level0 row3\" >min</th>\n",
       "      <td id=\"T_f5ac2_row3_col0\" class=\"data row3 col0\" >0.000000</td>\n",
       "      <td id=\"T_f5ac2_row3_col1\" class=\"data row3 col1\" >0.000000</td>\n",
       "      <td id=\"T_f5ac2_row3_col2\" class=\"data row3 col2\" >0.000000</td>\n",
       "      <td id=\"T_f5ac2_row3_col3\" class=\"data row3 col3\" >1.000000</td>\n",
       "      <td id=\"T_f5ac2_row3_col4\" class=\"data row3 col4\" >0.000000</td>\n",
       "      <td id=\"T_f5ac2_row3_col5\" class=\"data row3 col5\" >0.000000</td>\n",
       "      <td id=\"T_f5ac2_row3_col6\" class=\"data row3 col6\" >30133.000000</td>\n",
       "      <td id=\"T_f5ac2_row3_col7\" class=\"data row3 col7\" >0.000000</td>\n",
       "    </tr>\n",
       "    <tr>\n",
       "      <th id=\"T_f5ac2_level0_row4\" class=\"row_heading level0 row4\" >25%</th>\n",
       "      <td id=\"T_f5ac2_row4_col0\" class=\"data row4 col0\" >1744.000000</td>\n",
       "      <td id=\"T_f5ac2_row4_col1\" class=\"data row4 col1\" >15.000000</td>\n",
       "      <td id=\"T_f5ac2_row4_col2\" class=\"data row4 col2\" >1316.000000</td>\n",
       "      <td id=\"T_f5ac2_row4_col3\" class=\"data row4 col3\" >70.000000</td>\n",
       "      <td id=\"T_f5ac2_row4_col4\" class=\"data row4 col4\" >745.000000</td>\n",
       "      <td id=\"T_f5ac2_row4_col5\" class=\"data row4 col5\" >1084.000000</td>\n",
       "      <td id=\"T_f5ac2_row4_col6\" class=\"data row4 col6\" >175986.000000</td>\n",
       "      <td id=\"T_f5ac2_row4_col7\" class=\"data row4 col7\" >0.000000</td>\n",
       "    </tr>\n",
       "    <tr>\n",
       "      <th id=\"T_f5ac2_level0_row5\" class=\"row_heading level0 row5\" >50%</th>\n",
       "      <td id=\"T_f5ac2_row5_col0\" class=\"data row5 col0\" >3370.000000</td>\n",
       "      <td id=\"T_f5ac2_row5_col1\" class=\"data row5 col1\" >35.000000</td>\n",
       "      <td id=\"T_f5ac2_row5_col2\" class=\"data row5 col2\" >2222.000000</td>\n",
       "      <td id=\"T_f5ac2_row5_col3\" class=\"data row5 col3\" >124.000000</td>\n",
       "      <td id=\"T_f5ac2_row5_col4\" class=\"data row5 col4\" >1528.000000</td>\n",
       "      <td id=\"T_f5ac2_row5_col5\" class=\"data row5 col5\" >2160.000000</td>\n",
       "      <td id=\"T_f5ac2_row5_col6\" class=\"data row5 col6\" >203672.000000</td>\n",
       "      <td id=\"T_f5ac2_row5_col7\" class=\"data row5 col7\" >0.000000</td>\n",
       "    </tr>\n",
       "    <tr>\n",
       "      <th id=\"T_f5ac2_level0_row6\" class=\"row_heading level0 row6\" >75%</th>\n",
       "      <td id=\"T_f5ac2_row6_col0\" class=\"data row6 col0\" >5167.000000</td>\n",
       "      <td id=\"T_f5ac2_row6_col1\" class=\"data row6 col1\" >56.000000</td>\n",
       "      <td id=\"T_f5ac2_row6_col2\" class=\"data row6 col2\" >2854.000000</td>\n",
       "      <td id=\"T_f5ac2_row6_col3\" class=\"data row6 col3\" >167.000000</td>\n",
       "      <td id=\"T_f5ac2_row6_col4\" class=\"data row6 col4\" >2492.000000</td>\n",
       "      <td id=\"T_f5ac2_row6_col5\" class=\"data row6 col5\" >2725.000000</td>\n",
       "      <td id=\"T_f5ac2_row6_col6\" class=\"data row6 col6\" >232786.000000</td>\n",
       "      <td id=\"T_f5ac2_row6_col7\" class=\"data row6 col7\" >1.000000</td>\n",
       "    </tr>\n",
       "    <tr>\n",
       "      <th id=\"T_f5ac2_level0_row7\" class=\"row_heading level0 row7\" >max</th>\n",
       "      <td id=\"T_f5ac2_row7_col0\" class=\"data row7 col0\" >6853.000000</td>\n",
       "      <td id=\"T_f5ac2_row7_col1\" class=\"data row7 col1\" >70.000000</td>\n",
       "      <td id=\"T_f5ac2_row7_col2\" class=\"data row7 col2\" >2886.000000</td>\n",
       "      <td id=\"T_f5ac2_row7_col3\" class=\"data row7 col3\" >200.000000</td>\n",
       "      <td id=\"T_f5ac2_row7_col4\" class=\"data row7 col4\" >3381.000000</td>\n",
       "      <td id=\"T_f5ac2_row7_col5\" class=\"data row7 col5\" >3624.000000</td>\n",
       "      <td id=\"T_f5ac2_row7_col6\" class=\"data row7 col6\" >943528.000000</td>\n",
       "      <td id=\"T_f5ac2_row7_col7\" class=\"data row7 col7\" >1.000000</td>\n",
       "    </tr>\n",
       "  </tbody>\n",
       "</table>\n"
      ],
      "text/plain": [
       "<pandas.io.formats.style.Styler at 0x2ad9e0df910>"
      ]
     },
     "execution_count": 206,
     "metadata": {},
     "output_type": "execute_result"
    }
   ],
   "source": [
    "df.describe().style.background_gradient()"
   ]
  },
  {
   "cell_type": "code",
   "execution_count": 207,
   "id": "830c0267",
   "metadata": {},
   "outputs": [
    {
     "data": {
      "text/plain": [
       "<AxesSubplot: >"
      ]
     },
     "execution_count": 207,
     "metadata": {},
     "output_type": "execute_result"
    },
    {
     "data": {
      "image/png": "[encoded data removed]",
      "text/plain": [
       "<Figure size 700x500 with 1 Axes>"
      ]
     },
     "metadata": {},
     "output_type": "display_data"
    }
   ],
   "source": [
    "df['duration'].plot.box(figsize=(7,5))"
   ]
  },
  {
   "cell_type": "markdown",
   "id": "edd1c07b",
   "metadata": {},
   "source": [
    "В целом есть аномалии, но они мне кажутся незначительными, поэтому оставлю dataset в покое"
   ]
  },
  {
   "cell_type": "markdown",
   "id": "f7e285d2",
   "metadata": {},
   "source": [
    "# Классификация по возрастному ограничению"
   ]
  },
  {
   "cell_type": "code",
   "execution_count": 213,
   "id": "f94c324a",
   "metadata": {},
   "outputs": [],
   "source": [
    "df.head()\n",
    "y=df['explicit']\n",
    "x=df.drop(columns=['explicit'])\n",
    "from sklearn.model_selection import train_test_split\n",
    "X_train,X_test,y_train,y_test= train_test_split(x,y,stratify=y)"
   ]
  },
  {
   "cell_type": "markdown",
   "id": "93c5e270",
   "metadata": {},
   "source": [
    "Установим ещё одну библиотеку:\n",
    "```bash\n",
    "pip install xgboost\n",
    "```"
   ]
  },
  {
   "cell_type": "code",
   "execution_count": 214,
   "id": "9eb32716",
   "metadata": {},
   "outputs": [
    {
     "data": {
      "text/html": [
       "<style>#sk-container-id-13 {color: black;background-color: white;}#sk-container-id-13 pre{padding: 0;}#sk-container-id-13 div.sk-toggleable {background-color: white;}#sk-container-id-13 label.sk-toggleable__label {cursor: pointer;display: block;width: 100%;margin-bottom: 0;padding: 0.3em;box-sizing: border-box;text-align: center;}#sk-container-id-13 label.sk-toggleable__label-arrow:before {content: \"▸\";float: left;margin-right: 0.25em;color: #696969;}#sk-container-id-13 label.sk-toggleable__label-arrow:hover:before {color: black;}#sk-container-id-13 div.sk-estimator:hover label.sk-toggleable__label-arrow:before {color: black;}#sk-container-id-13 div.sk-toggleable__content {max-height: 0;max-width: 0;overflow: hidden;text-align: left;background-color: #f0f8ff;}#sk-container-id-13 div.sk-toggleable__content pre {margin: 0.2em;color: black;border-radius: 0.25em;background-color: #f0f8ff;}#sk-container-id-13 input.sk-toggleable__control:checked~div.sk-toggleable__content {max-height: 200px;max-width: 100%;overflow: auto;}#sk-container-id-13 input.sk-toggleable__control:checked~label.sk-toggleable__label-arrow:before {content: \"▾\";}#sk-container-id-13 div.sk-estimator input.sk-toggleable__control:checked~label.sk-toggleable__label {background-color: #d4ebff;}#sk-container-id-13 div.sk-label input.sk-toggleable__control:checked~label.sk-toggleable__label {background-color: #d4ebff;}#sk-container-id-13 input.sk-hidden--visually {border: 0;clip: rect(1px 1px 1px 1px);clip: rect(1px, 1px, 1px, 1px);height: 1px;margin: -1px;overflow: hidden;padding: 0;position: absolute;width: 1px;}#sk-container-id-13 div.sk-estimator {font-family: monospace;background-color: #f0f8ff;border: 1px dotted black;border-radius: 0.25em;box-sizing: border-box;margin-bottom: 0.5em;}#sk-container-id-13 div.sk-estimator:hover {background-color: #d4ebff;}#sk-container-id-13 div.sk-parallel-item::after {content: \"\";width: 100%;border-bottom: 1px solid gray;flex-grow: 1;}#sk-container-id-13 div.sk-label:hover label.sk-toggleable__label {background-color: #d4ebff;}#sk-container-id-13 div.sk-serial::before {content: \"\";position: absolute;border-left: 1px solid gray;box-sizing: border-box;top: 0;bottom: 0;left: 50%;z-index: 0;}#sk-container-id-13 div.sk-serial {display: flex;flex-direction: column;align-items: center;background-color: white;padding-right: 0.2em;padding-left: 0.2em;position: relative;}#sk-container-id-13 div.sk-item {position: relative;z-index: 1;}#sk-container-id-13 div.sk-parallel {display: flex;align-items: stretch;justify-content: center;background-color: white;position: relative;}#sk-container-id-13 div.sk-item::before, #sk-container-id-13 div.sk-parallel-item::before {content: \"\";position: absolute;border-left: 1px solid gray;box-sizing: border-box;top: 0;bottom: 0;left: 50%;z-index: -1;}#sk-container-id-13 div.sk-parallel-item {display: flex;flex-direction: column;z-index: 1;position: relative;background-color: white;}#sk-container-id-13 div.sk-parallel-item:first-child::after {align-self: flex-end;width: 50%;}#sk-container-id-13 div.sk-parallel-item:last-child::after {align-self: flex-start;width: 50%;}#sk-container-id-13 div.sk-parallel-item:only-child::after {width: 0;}#sk-container-id-13 div.sk-dashed-wrapped {border: 1px dashed gray;margin: 0 0.4em 0.5em 0.4em;box-sizing: border-box;padding-bottom: 0.4em;background-color: white;}#sk-container-id-13 div.sk-label label {font-family: monospace;font-weight: bold;display: inline-block;line-height: 1.2em;}#sk-container-id-13 div.sk-label-container {text-align: center;}#sk-container-id-13 div.sk-container {/* jupyter's `normalize.less` sets `[hidden] { display: none; }` but bootstrap.min.css set `[hidden] { display: none !important; }` so we also need the `!important` here to be able to override the default hidden behavior on the sphinx rendered scikit-learn.org. See: https://github.com/scikit-learn/scikit-learn/issues/21755 */display: inline-block !important;position: relative;}#sk-container-id-13 div.sk-text-repr-fallback {display: none;}</style><div id=\"sk-container-id-13\" class=\"sk-top-container\"><div class=\"sk-text-repr-fallback\"><pre>XGBClassifier(base_score=0.5, booster=&#x27;gbtree&#x27;, callbacks=None,\n",
       "              colsample_bylevel=1, colsample_bynode=1, colsample_bytree=1,\n",
       "              early_stopping_rounds=None, enable_categorical=False,\n",
       "              eval_metric=None, feature_types=None, gamma=0, gpu_id=-1,\n",
       "              grow_policy=&#x27;depthwise&#x27;, importance_type=None,\n",
       "              interaction_constraints=&#x27;&#x27;, learning_rate=0.300000012,\n",
       "              max_bin=256, max_cat_threshold=64, max_cat_to_onehot=4,\n",
       "              max_delta_step=0, max_depth=6, max_leaves=0, min_child_weight=1,\n",
       "              missing=nan, monotone_constraints=&#x27;()&#x27;, n_estimators=100,\n",
       "              n_jobs=0, num_parallel_tree=1, predictor=&#x27;auto&#x27;, random_state=0, ...)</pre><b>In a Jupyter environment, please rerun this cell to show the HTML representation or trust the notebook. <br />On GitHub, the HTML representation is unable to render, please try loading this page with nbviewer.org.</b></div><div class=\"sk-container\" hidden><div class=\"sk-item\"><div class=\"sk-estimator sk-toggleable\"><input class=\"sk-toggleable__control sk-hidden--visually\" id=\"sk-estimator-id-13\" type=\"checkbox\" checked><label for=\"sk-estimator-id-13\" class=\"sk-toggleable__label sk-toggleable__label-arrow\">XGBClassifier</label><div class=\"sk-toggleable__content\"><pre>XGBClassifier(base_score=0.5, booster=&#x27;gbtree&#x27;, callbacks=None,\n",
       "              colsample_bylevel=1, colsample_bynode=1, colsample_bytree=1,\n",
       "              early_stopping_rounds=None, enable_categorical=False,\n",
       "              eval_metric=None, feature_types=None, gamma=0, gpu_id=-1,\n",
       "              grow_policy=&#x27;depthwise&#x27;, importance_type=None,\n",
       "              interaction_constraints=&#x27;&#x27;, learning_rate=0.300000012,\n",
       "              max_bin=256, max_cat_threshold=64, max_cat_to_onehot=4,\n",
       "              max_delta_step=0, max_depth=6, max_leaves=0, min_child_weight=1,\n",
       "              missing=nan, monotone_constraints=&#x27;()&#x27;, n_estimators=100,\n",
       "              n_jobs=0, num_parallel_tree=1, predictor=&#x27;auto&#x27;, random_state=0, ...)</pre></div></div></div></div></div>"
      ],
      "text/plain": [
       "XGBClassifier(base_score=0.5, booster='gbtree', callbacks=None,\n",
       "              colsample_bylevel=1, colsample_bynode=1, colsample_bytree=1,\n",
       "              early_stopping_rounds=None, enable_categorical=False,\n",
       "              eval_metric=None, feature_types=None, gamma=0, gpu_id=-1,\n",
       "              grow_policy='depthwise', importance_type=None,\n",
       "              interaction_constraints='', learning_rate=0.300000012,\n",
       "              max_bin=256, max_cat_threshold=64, max_cat_to_onehot=4,\n",
       "              max_delta_step=0, max_depth=6, max_leaves=0, min_child_weight=1,\n",
       "              missing=nan, monotone_constraints='()', n_estimators=100,\n",
       "              n_jobs=0, num_parallel_tree=1, predictor='auto', random_state=0, ...)"
      ]
     },
     "execution_count": 214,
     "metadata": {},
     "output_type": "execute_result"
    }
   ],
   "source": [
    "from xgboost import XGBClassifier\n",
    "model=XGBClassifier()\n",
    "# Тренируем модель\n",
    "model.fit(X_train,y_train)"
   ]
  },
  {
   "cell_type": "code",
   "execution_count": 215,
   "id": "387b984c",
   "metadata": {},
   "outputs": [
    {
     "name": "stdout",
     "output_type": "stream",
     "text": [
      "              precision    recall  f1-score   support\n",
      "\n",
      "           0       0.99      0.99      0.99     92376\n",
      "           1       0.98      0.99      0.98     64209\n",
      "\n",
      "    accuracy                           0.99    156585\n",
      "   macro avg       0.99      0.99      0.99    156585\n",
      "weighted avg       0.99      0.99      0.99    156585\n",
      "\n"
     ]
    }
   ],
   "source": [
    "# Делаем предсказания\n",
    "from sklearn.metrics import classification_report\n",
    "y_predict = model.predict(X_test)\n",
    "print(classification_report(y_predict, y_test))"
   ]
  },
  {
   "cell_type": "markdown",
   "id": "e46fd84d",
   "metadata": {},
   "source": [
    "Предсказания работают просто отлично, поэтому едем дальше"
   ]
  },
  {
   "cell_type": "markdown",
   "id": "a29b6cb5",
   "metadata": {},
   "source": [
    "Напоследок, проверим confusion matrix: "
   ]
  },
  {
   "cell_type": "code",
   "execution_count": 217,
   "id": "d5f3012d",
   "metadata": {},
   "outputs": [
    {
     "name": "stdout",
     "output_type": "stream",
     "text": [
      "Training confusion matrix\n",
      "[[273320   2587]\n",
      " [  3740 190105]]\n",
      "Testing confusion matrix\n",
      "[[91214   755]\n",
      " [ 1113 63503]]\n"
     ]
    }
   ],
   "source": [
    "from sklearn.metrics import confusion_matrix\n",
    "\n",
    "predictions = model.predict(X_train)\n",
    "res = confusion_matrix(y_train,predictions)\n",
    "print(\"Training confusion matrix\")\n",
    "print(res)\n",
    "\n",
    "predictions= svc_model .predict(X_test)\n",
    "res=confusion_matrix(y_test,predictions)\n",
    "print(\"Testing confusion matrix\")\n",
    "print(res)"
   ]
  },
  {
   "cell_type": "markdown",
   "id": "3b8c51cc",
   "metadata": {},
   "source": [
    "В целом, видим хорошие результаты и с улыбкой сдаём работу :D"
   ]
  }
 ],
 "metadata": {
  "kernelspec": {
   "display_name": "Python 3 (ipykernel)",
   "language": "python",
   "name": "python3"
  },
  "language_info": {
   "codemirror_mode": {
    "name": "ipython",
    "version": 3
   },
   "file_extension": ".py",
   "mimetype": "text/x-python",
   "name": "python",
   "nbconvert_exporter": "python",
   "pygments_lexer": "ipython3",
   "version": "3.10.7"
  }
 },
 "nbformat": 4,
 "nbformat_minor": 5
}
