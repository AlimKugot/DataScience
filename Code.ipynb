{
 "cells": [
  {
   "cell_type": "markdown",
   "id": "48ef2e44",
   "metadata": {},
   "source": [
    "## Подготовка данных"
   ]
  },
  {
   "cell_type": "markdown",
   "id": "798dd1c5",
   "metadata": {},
   "source": [
    "**Отключим** все предупреждения по инструкции"
   ]
  },
  {
   "cell_type": "code",
   "execution_count": 4,
   "id": "01fdc9d4",
   "metadata": {},
   "outputs": [],
   "source": [
    "import warnings\n",
    "\n",
    "warnings.filterwarnings(\"ignore\")\n",
    "import numpy as np\n",
    "import pandas as pd\n",
    "\n",
    "pd.set_option(\"display.max.columns\", 100)\n",
    "import pylab as plt\n",
    "\n",
    "%matplotlib inline\n",
    "import seaborn as sns\n",
    "from matplotlib import pyplot as plt\n",
    "\n",
    "plt.rcParams[\"figure.figsize\"] = (10, 8)"
   ]
  },
  {
   "cell_type": "markdown",
   "id": "d3ec7a2b",
   "metadata": {},
   "source": [
    "**Считаем** наш файл с данными"
   ]
  },
  {
   "cell_type": "code",
   "execution_count": 5,
   "id": "0f8f1464",
   "metadata": {},
   "outputs": [],
   "source": [
    "df = pd.read_csv(\"data/charts.csv\")"
   ]
  },
  {
   "cell_type": "markdown",
   "id": "cec83703",
   "metadata": {},
   "source": [
    "**Распечатаем** первые 5 записи"
   ]
  },
  {
   "cell_type": "code",
   "execution_count": 6,
   "id": "8c6f5138",
   "metadata": {},
   "outputs": [
    {
     "data": {
      "text/html": [
       "<div>\n",
       "<style scoped>\n",
       "    .dataframe tbody tr th:only-of-type {\n",
       "        vertical-align: middle;\n",
       "    }\n",
       "\n",
       "    .dataframe tbody tr th {\n",
       "        vertical-align: top;\n",
       "    }\n",
       "\n",
       "    .dataframe thead th {\n",
       "        text-align: right;\n",
       "    }\n",
       "</style>\n",
       "<table border=\"1\" class=\"dataframe\">\n",
       "  <thead>\n",
       "    <tr style=\"text-align: right;\">\n",
       "      <th></th>\n",
       "      <th>track_id</th>\n",
       "      <th>name</th>\n",
       "      <th>country</th>\n",
       "      <th>date</th>\n",
       "      <th>position</th>\n",
       "      <th>streams</th>\n",
       "      <th>artists</th>\n",
       "      <th>artist_genres</th>\n",
       "      <th>duration</th>\n",
       "      <th>explicit</th>\n",
       "    </tr>\n",
       "  </thead>\n",
       "  <tbody>\n",
       "    <tr>\n",
       "      <th>0</th>\n",
       "      <td>7GMeRGZax4uDKgz6wALWQw</td>\n",
       "      <td>It Was Always You</td>\n",
       "      <td>br</td>\n",
       "      <td>2015-03-17</td>\n",
       "      <td>138</td>\n",
       "      <td>6584</td>\n",
       "      <td>['Maroon 5']</td>\n",
       "      <td>['pop']</td>\n",
       "      <td>239920</td>\n",
       "      <td>False</td>\n",
       "    </tr>\n",
       "    <tr>\n",
       "      <th>1</th>\n",
       "      <td>7GMeRGZax4uDKgz6wALWQw</td>\n",
       "      <td>It Was Always You</td>\n",
       "      <td>br</td>\n",
       "      <td>2015-03-18</td>\n",
       "      <td>132</td>\n",
       "      <td>6963</td>\n",
       "      <td>['Maroon 5']</td>\n",
       "      <td>['pop']</td>\n",
       "      <td>239920</td>\n",
       "      <td>False</td>\n",
       "    </tr>\n",
       "    <tr>\n",
       "      <th>2</th>\n",
       "      <td>7GMeRGZax4uDKgz6wALWQw</td>\n",
       "      <td>It Was Always You</td>\n",
       "      <td>br</td>\n",
       "      <td>2015-03-19</td>\n",
       "      <td>128</td>\n",
       "      <td>7049</td>\n",
       "      <td>['Maroon 5']</td>\n",
       "      <td>['pop']</td>\n",
       "      <td>239920</td>\n",
       "      <td>False</td>\n",
       "    </tr>\n",
       "    <tr>\n",
       "      <th>3</th>\n",
       "      <td>7GMeRGZax4uDKgz6wALWQw</td>\n",
       "      <td>It Was Always You</td>\n",
       "      <td>br</td>\n",
       "      <td>2015-03-20</td>\n",
       "      <td>152</td>\n",
       "      <td>6976</td>\n",
       "      <td>['Maroon 5']</td>\n",
       "      <td>['pop']</td>\n",
       "      <td>239920</td>\n",
       "      <td>False</td>\n",
       "    </tr>\n",
       "    <tr>\n",
       "      <th>4</th>\n",
       "      <td>7GMeRGZax4uDKgz6wALWQw</td>\n",
       "      <td>It Was Always You</td>\n",
       "      <td>br</td>\n",
       "      <td>2015-03-21</td>\n",
       "      <td>160</td>\n",
       "      <td>6156</td>\n",
       "      <td>['Maroon 5']</td>\n",
       "      <td>['pop']</td>\n",
       "      <td>239920</td>\n",
       "      <td>False</td>\n",
       "    </tr>\n",
       "  </tbody>\n",
       "</table>\n",
       "</div>"
      ],
      "text/plain": [
       "                 track_id               name country        date  position  \\\n",
       "0  7GMeRGZax4uDKgz6wALWQw  It Was Always You      br  2015-03-17       138   \n",
       "1  7GMeRGZax4uDKgz6wALWQw  It Was Always You      br  2015-03-18       132   \n",
       "2  7GMeRGZax4uDKgz6wALWQw  It Was Always You      br  2015-03-19       128   \n",
       "3  7GMeRGZax4uDKgz6wALWQw  It Was Always You      br  2015-03-20       152   \n",
       "4  7GMeRGZax4uDKgz6wALWQw  It Was Always You      br  2015-03-21       160   \n",
       "\n",
       "  streams       artists artist_genres  duration  explicit  \n",
       "0    6584  ['Maroon 5']       ['pop']    239920     False  \n",
       "1    6963  ['Maroon 5']       ['pop']    239920     False  \n",
       "2    7049  ['Maroon 5']       ['pop']    239920     False  \n",
       "3    6976  ['Maroon 5']       ['pop']    239920     False  \n",
       "4    6156  ['Maroon 5']       ['pop']    239920     False  "
      ]
     },
     "execution_count": 6,
     "metadata": {},
     "output_type": "execute_result"
    }
   ],
   "source": [
    "df.head(5)"
   ]
  },
  {
   "cell_type": "markdown",
   "id": "8ca8ed28",
   "metadata": {},
   "source": [
    "## Описание набора данных"
   ]
  },
  {
   "cell_type": "code",
   "execution_count": 7,
   "id": "1c1bb1a2",
   "metadata": {},
   "outputs": [
    {
     "name": "stdout",
     "output_type": "stream",
     "text": [
      "(626475, 10)\n",
      "['track_id' 'name' 'country' 'date' 'position' 'streams' 'artists'\n",
      " 'artist_genres' 'duration' 'explicit']\n"
     ]
    }
   ],
   "source": [
    "print(df.shape)\n",
    "print(df.columns.values)"
   ]
  },
  {
   "cell_type": "markdown",
   "id": "ee2b4826",
   "metadata": {},
   "source": [
    "Удалим '*track_id*' (сурогатный ключ) и ненужное поле ('*streams*')"
   ]
  },
  {
   "cell_type": "code",
   "execution_count": 8,
   "id": "c4bf5131",
   "metadata": {},
   "outputs": [
    {
     "name": "stdout",
     "output_type": "stream",
     "text": [
      "<class 'pandas.core.frame.DataFrame'>\n",
      "RangeIndex: 626475 entries, 0 to 626474\n",
      "Data columns (total 8 columns):\n",
      " #   Column         Non-Null Count   Dtype \n",
      "---  ------         --------------   ----- \n",
      " 0   name           626337 non-null  object\n",
      " 1   country        626475 non-null  object\n",
      " 2   date           626475 non-null  object\n",
      " 3   position       626475 non-null  int64 \n",
      " 4   artists        626475 non-null  object\n",
      " 5   artist_genres  626475 non-null  object\n",
      " 6   duration       626475 non-null  int64 \n",
      " 7   explicit       626475 non-null  bool  \n",
      "dtypes: bool(1), int64(2), object(5)\n",
      "memory usage: 34.1+ MB\n"
     ]
    }
   ],
   "source": [
    "df = df.drop(['track_id', 'streams'],axis=1)\n",
    "df.info()"
   ]
  },
  {
   "cell_type": "markdown",
   "id": "b1d7df97",
   "metadata": {},
   "source": [
    "|     Название      | Описание                                       |      Тип       |\n",
    "|---                |:--                                             |:--             |\n",
    "| **name**          | Название песни                                 | категориальный |\n",
    "| **country**       | Код страны, в которой появлялась песня в чарте | категориальный |\n",
    "| **date**          | Дата появление в чарте                         | вещественный   |\n",
    "| **position**      | Позиция в чарте                                | вещественный   |\n",
    "| **artists**       | Авторы (исполнители) песни                     | категориальный |\n",
    "| **artist_genres** | Жанры, в которых исполнители выступают         | категориальный |\n",
    "| **duration**      | Длительность песни в (ms)                      | вещественный   |\n",
    "| **explicit**      | Возрастное ограничение (есть/нет)              | бинарный       |"
   ]
  },
  {
   "cell_type": "markdown",
   "id": "c987587b",
   "metadata": {},
   "source": [
    "Целевая переменная **position** - Позиция в чарте (в зависимости от страны)"
   ]
  },
  {
   "cell_type": "code",
   "execution_count": 9,
   "id": "fdf53907",
   "metadata": {},
   "outputs": [
    {
     "name": "stdout",
     "output_type": "stream",
     "text": [
      "TOP 200\n",
      "unique songs: 6854\n",
      "unique artists: 3383\n",
      "unique countries: 71\n",
      "max duration: 943528\n",
      "min duration: 0\n"
     ]
    }
   ],
   "source": [
    "# Отдельно сохраним два list-а для удобства\n",
    "print(f'TOP {df.position.max()}')\n",
    "print(f'unique songs: {df.name.nunique()}')\n",
    "print(f'unique artists: {df.artists.nunique()}')\n",
    "print(f'unique countries: {df.country.nunique()}')\n",
    "\n",
    "print(f'max duration: {df.duration.max()}')\n",
    "print(f'min duration: {df.duration.min()}')"
   ]
  },
  {
   "cell_type": "markdown",
   "id": "bbe5fb9b",
   "metadata": {},
   "source": [
    "## Очистка мусора"
   ]
  },
  {
   "cell_type": "markdown",
   "id": "9b088eeb",
   "metadata": {},
   "source": [
    "Дубликатов нет:"
   ]
  },
  {
   "cell_type": "code",
   "execution_count": 10,
   "id": "eede6d90",
   "metadata": {},
   "outputs": [
    {
     "data": {
      "text/plain": [
       "0"
      ]
     },
     "execution_count": 10,
     "metadata": {},
     "output_type": "execute_result"
    }
   ],
   "source": [
    "df.duplicated().sum()"
   ]
  },
  {
   "cell_type": "markdown",
   "id": "d0e1e5e3",
   "metadata": {},
   "source": [
    "Сразу заметим, что при вызове функции ***df.info()***, что кол-во строк в признаке **name** меньше, чем у остальных. \n",
    "\n",
    "Давайте проверим, ещё раз, на всякий случай, и взглянем, что внутри"
   ]
  },
  {
   "cell_type": "code",
   "execution_count": 11,
   "id": "9938f7ea",
   "metadata": {},
   "outputs": [
    {
     "data": {
      "text/html": [
       "<div>\n",
       "<style scoped>\n",
       "    .dataframe tbody tr th:only-of-type {\n",
       "        vertical-align: middle;\n",
       "    }\n",
       "\n",
       "    .dataframe tbody tr th {\n",
       "        vertical-align: top;\n",
       "    }\n",
       "\n",
       "    .dataframe thead th {\n",
       "        text-align: right;\n",
       "    }\n",
       "</style>\n",
       "<table border=\"1\" class=\"dataframe\">\n",
       "  <thead>\n",
       "    <tr style=\"text-align: right;\">\n",
       "      <th></th>\n",
       "      <th>name</th>\n",
       "      <th>country</th>\n",
       "      <th>date</th>\n",
       "      <th>position</th>\n",
       "      <th>artists</th>\n",
       "      <th>artist_genres</th>\n",
       "      <th>duration</th>\n",
       "      <th>explicit</th>\n",
       "    </tr>\n",
       "  </thead>\n",
       "  <tbody>\n",
       "    <tr>\n",
       "      <th>122828</th>\n",
       "      <td>NaN</td>\n",
       "      <td>global</td>\n",
       "      <td>2017-11-09</td>\n",
       "      <td>32</td>\n",
       "      <td>['Various Artists']</td>\n",
       "      <td>[]</td>\n",
       "      <td>0</td>\n",
       "      <td>True</td>\n",
       "    </tr>\n",
       "    <tr>\n",
       "      <th>122829</th>\n",
       "      <td>NaN</td>\n",
       "      <td>global</td>\n",
       "      <td>2017-11-10</td>\n",
       "      <td>30</td>\n",
       "      <td>['Various Artists']</td>\n",
       "      <td>[]</td>\n",
       "      <td>0</td>\n",
       "      <td>True</td>\n",
       "    </tr>\n",
       "    <tr>\n",
       "      <th>122830</th>\n",
       "      <td>NaN</td>\n",
       "      <td>global</td>\n",
       "      <td>2017-11-11</td>\n",
       "      <td>26</td>\n",
       "      <td>['Various Artists']</td>\n",
       "      <td>[]</td>\n",
       "      <td>0</td>\n",
       "      <td>True</td>\n",
       "    </tr>\n",
       "    <tr>\n",
       "      <th>122831</th>\n",
       "      <td>NaN</td>\n",
       "      <td>global</td>\n",
       "      <td>2017-11-12</td>\n",
       "      <td>27</td>\n",
       "      <td>['Various Artists']</td>\n",
       "      <td>[]</td>\n",
       "      <td>0</td>\n",
       "      <td>True</td>\n",
       "    </tr>\n",
       "    <tr>\n",
       "      <th>122832</th>\n",
       "      <td>NaN</td>\n",
       "      <td>global</td>\n",
       "      <td>2017-11-13</td>\n",
       "      <td>31</td>\n",
       "      <td>['Various Artists']</td>\n",
       "      <td>[]</td>\n",
       "      <td>0</td>\n",
       "      <td>True</td>\n",
       "    </tr>\n",
       "    <tr>\n",
       "      <th>...</th>\n",
       "      <td>...</td>\n",
       "      <td>...</td>\n",
       "      <td>...</td>\n",
       "      <td>...</td>\n",
       "      <td>...</td>\n",
       "      <td>...</td>\n",
       "      <td>...</td>\n",
       "      <td>...</td>\n",
       "    </tr>\n",
       "    <tr>\n",
       "      <th>122961</th>\n",
       "      <td>NaN</td>\n",
       "      <td>jp</td>\n",
       "      <td>2017-11-12</td>\n",
       "      <td>172</td>\n",
       "      <td>['Various Artists']</td>\n",
       "      <td>[]</td>\n",
       "      <td>0</td>\n",
       "      <td>True</td>\n",
       "    </tr>\n",
       "    <tr>\n",
       "      <th>122962</th>\n",
       "      <td>NaN</td>\n",
       "      <td>jp</td>\n",
       "      <td>2017-11-13</td>\n",
       "      <td>177</td>\n",
       "      <td>['Various Artists']</td>\n",
       "      <td>[]</td>\n",
       "      <td>0</td>\n",
       "      <td>True</td>\n",
       "    </tr>\n",
       "    <tr>\n",
       "      <th>122963</th>\n",
       "      <td>NaN</td>\n",
       "      <td>jp</td>\n",
       "      <td>2017-11-14</td>\n",
       "      <td>182</td>\n",
       "      <td>['Various Artists']</td>\n",
       "      <td>[]</td>\n",
       "      <td>0</td>\n",
       "      <td>True</td>\n",
       "    </tr>\n",
       "    <tr>\n",
       "      <th>122964</th>\n",
       "      <td>NaN</td>\n",
       "      <td>hu</td>\n",
       "      <td>2017-11-11</td>\n",
       "      <td>164</td>\n",
       "      <td>['Various Artists']</td>\n",
       "      <td>[]</td>\n",
       "      <td>0</td>\n",
       "      <td>True</td>\n",
       "    </tr>\n",
       "    <tr>\n",
       "      <th>122965</th>\n",
       "      <td>NaN</td>\n",
       "      <td>hu</td>\n",
       "      <td>2017-11-13</td>\n",
       "      <td>180</td>\n",
       "      <td>['Various Artists']</td>\n",
       "      <td>[]</td>\n",
       "      <td>0</td>\n",
       "      <td>True</td>\n",
       "    </tr>\n",
       "  </tbody>\n",
       "</table>\n",
       "<p>138 rows × 8 columns</p>\n",
       "</div>"
      ],
      "text/plain": [
       "       name country        date  position              artists artist_genres  \\\n",
       "122828  NaN  global  2017-11-09        32  ['Various Artists']            []   \n",
       "122829  NaN  global  2017-11-10        30  ['Various Artists']            []   \n",
       "122830  NaN  global  2017-11-11        26  ['Various Artists']            []   \n",
       "122831  NaN  global  2017-11-12        27  ['Various Artists']            []   \n",
       "122832  NaN  global  2017-11-13        31  ['Various Artists']            []   \n",
       "...     ...     ...         ...       ...                  ...           ...   \n",
       "122961  NaN      jp  2017-11-12       172  ['Various Artists']            []   \n",
       "122962  NaN      jp  2017-11-13       177  ['Various Artists']            []   \n",
       "122963  NaN      jp  2017-11-14       182  ['Various Artists']            []   \n",
       "122964  NaN      hu  2017-11-11       164  ['Various Artists']            []   \n",
       "122965  NaN      hu  2017-11-13       180  ['Various Artists']            []   \n",
       "\n",
       "        duration  explicit  \n",
       "122828         0      True  \n",
       "122829         0      True  \n",
       "122830         0      True  \n",
       "122831         0      True  \n",
       "122832         0      True  \n",
       "...          ...       ...  \n",
       "122961         0      True  \n",
       "122962         0      True  \n",
       "122963         0      True  \n",
       "122964         0      True  \n",
       "122965         0      True  \n",
       "\n",
       "[138 rows x 8 columns]"
      ]
     },
     "execution_count": 11,
     "metadata": {},
     "output_type": "execute_result"
    }
   ],
   "source": [
    "df[df.isnull().any(axis=1)]"
   ]
  },
  {
   "cell_type": "markdown",
   "id": "0b9dd8c4",
   "metadata": {},
   "source": [
    "Во всех этих строках длительность песни равна нулю. Очевидно, что эти данные нам не нужны, но перед удалением, изучим их поля: страну и позицию. Возможно, сможем предположить, почему какие-то даннные замусорились"
   ]
  },
  {
   "cell_type": "markdown",
   "id": "42dc8a3e",
   "metadata": {},
   "source": [
    "Видим, что в странах JP (Япония) и HU(Венгрия) - возможно, специфичные языки не смогли отобразиться нашей в базе (иероглифы и пр). Давайте проверим"
   ]
  },
  {
   "cell_type": "code",
   "execution_count": 12,
   "id": "301f1cb7",
   "metadata": {},
   "outputs": [
    {
     "data": {
      "text/plain": [
       "array(['global', 'mx', 'ar', 'es', 'us', 'cl', 'pe', 'co', 'cr', 'it',\n",
       "       'ec', 'nl', 'py', 'uy', 'gt', 'do', 'pa', 'bo', 'sv', 'ch', 'hn',\n",
       "       'pt', 'jp', 'hu'], dtype=object)"
      ]
     },
     "execution_count": 12,
     "metadata": {},
     "output_type": "execute_result"
    }
   ],
   "source": [
    "garbage = df[df.isnull().any(axis=1)]\n",
    "garbage.country.unique()"
   ]
  },
  {
   "cell_type": "markdown",
   "id": "af14ad56",
   "metadata": {},
   "source": [
    "Видим, что в списке оказались: США (us), Италия(it), Испания(es)\n",
    "\n",
    "Странно, что тут США вообще делает, давайте посмотрим"
   ]
  },
  {
   "cell_type": "code",
   "execution_count": 13,
   "id": "3857f243",
   "metadata": {},
   "outputs": [
    {
     "data": {
      "text/html": [
       "<div>\n",
       "<style scoped>\n",
       "    .dataframe tbody tr th:only-of-type {\n",
       "        vertical-align: middle;\n",
       "    }\n",
       "\n",
       "    .dataframe tbody tr th {\n",
       "        vertical-align: top;\n",
       "    }\n",
       "\n",
       "    .dataframe thead th {\n",
       "        text-align: right;\n",
       "    }\n",
       "</style>\n",
       "<table border=\"1\" class=\"dataframe\">\n",
       "  <thead>\n",
       "    <tr style=\"text-align: right;\">\n",
       "      <th></th>\n",
       "      <th>name</th>\n",
       "      <th>country</th>\n",
       "      <th>date</th>\n",
       "      <th>position</th>\n",
       "      <th>artists</th>\n",
       "      <th>artist_genres</th>\n",
       "      <th>duration</th>\n",
       "      <th>explicit</th>\n",
       "    </tr>\n",
       "  </thead>\n",
       "  <tbody>\n",
       "    <tr>\n",
       "      <th>122852</th>\n",
       "      <td>NaN</td>\n",
       "      <td>us</td>\n",
       "      <td>2017-11-09</td>\n",
       "      <td>190</td>\n",
       "      <td>['Various Artists']</td>\n",
       "      <td>[]</td>\n",
       "      <td>0</td>\n",
       "      <td>True</td>\n",
       "    </tr>\n",
       "    <tr>\n",
       "      <th>122853</th>\n",
       "      <td>NaN</td>\n",
       "      <td>us</td>\n",
       "      <td>2017-11-10</td>\n",
       "      <td>182</td>\n",
       "      <td>['Various Artists']</td>\n",
       "      <td>[]</td>\n",
       "      <td>0</td>\n",
       "      <td>True</td>\n",
       "    </tr>\n",
       "    <tr>\n",
       "      <th>122854</th>\n",
       "      <td>NaN</td>\n",
       "      <td>us</td>\n",
       "      <td>2017-11-11</td>\n",
       "      <td>151</td>\n",
       "      <td>['Various Artists']</td>\n",
       "      <td>[]</td>\n",
       "      <td>0</td>\n",
       "      <td>True</td>\n",
       "    </tr>\n",
       "    <tr>\n",
       "      <th>122855</th>\n",
       "      <td>NaN</td>\n",
       "      <td>us</td>\n",
       "      <td>2017-11-12</td>\n",
       "      <td>160</td>\n",
       "      <td>['Various Artists']</td>\n",
       "      <td>[]</td>\n",
       "      <td>0</td>\n",
       "      <td>True</td>\n",
       "    </tr>\n",
       "    <tr>\n",
       "      <th>122856</th>\n",
       "      <td>NaN</td>\n",
       "      <td>us</td>\n",
       "      <td>2017-11-13</td>\n",
       "      <td>170</td>\n",
       "      <td>['Various Artists']</td>\n",
       "      <td>[]</td>\n",
       "      <td>0</td>\n",
       "      <td>True</td>\n",
       "    </tr>\n",
       "    <tr>\n",
       "      <th>122857</th>\n",
       "      <td>NaN</td>\n",
       "      <td>us</td>\n",
       "      <td>2017-11-14</td>\n",
       "      <td>122</td>\n",
       "      <td>['Various Artists']</td>\n",
       "      <td>[]</td>\n",
       "      <td>0</td>\n",
       "      <td>True</td>\n",
       "    </tr>\n",
       "  </tbody>\n",
       "</table>\n",
       "</div>"
      ],
      "text/plain": [
       "       name country        date  position              artists artist_genres  \\\n",
       "122852  NaN      us  2017-11-09       190  ['Various Artists']            []   \n",
       "122853  NaN      us  2017-11-10       182  ['Various Artists']            []   \n",
       "122854  NaN      us  2017-11-11       151  ['Various Artists']            []   \n",
       "122855  NaN      us  2017-11-12       160  ['Various Artists']            []   \n",
       "122856  NaN      us  2017-11-13       170  ['Various Artists']            []   \n",
       "122857  NaN      us  2017-11-14       122  ['Various Artists']            []   \n",
       "\n",
       "        duration  explicit  \n",
       "122852         0      True  \n",
       "122853         0      True  \n",
       "122854         0      True  \n",
       "122855         0      True  \n",
       "122856         0      True  \n",
       "122857         0      True  "
      ]
     },
     "execution_count": 13,
     "metadata": {},
     "output_type": "execute_result"
    }
   ],
   "source": [
    "garbage[garbage['country']==\"us\"].head(10)"
   ]
  },
  {
   "cell_type": "markdown",
   "id": "a75fda0d",
   "metadata": {},
   "source": [
    "Возможно, какие-то странные ребята со странными названиями заскочили на 5 дней в чарты, либо возникли проблемы с лицензиями между исполнителями и Spotify"
   ]
  },
  {
   "cell_type": "markdown",
   "id": "ff10cda0",
   "metadata": {},
   "source": [
    "Напоследок, убедимся, не проходил ли кто-либо в топ-10:"
   ]
  },
  {
   "cell_type": "code",
   "execution_count": 14,
   "id": "84f272a3",
   "metadata": {},
   "outputs": [
    {
     "data": {
      "text/html": [
       "<div>\n",
       "<style scoped>\n",
       "    .dataframe tbody tr th:only-of-type {\n",
       "        vertical-align: middle;\n",
       "    }\n",
       "\n",
       "    .dataframe tbody tr th {\n",
       "        vertical-align: top;\n",
       "    }\n",
       "\n",
       "    .dataframe thead th {\n",
       "        text-align: right;\n",
       "    }\n",
       "</style>\n",
       "<table border=\"1\" class=\"dataframe\">\n",
       "  <thead>\n",
       "    <tr style=\"text-align: right;\">\n",
       "      <th></th>\n",
       "      <th>name</th>\n",
       "      <th>country</th>\n",
       "      <th>date</th>\n",
       "      <th>position</th>\n",
       "      <th>artists</th>\n",
       "      <th>artist_genres</th>\n",
       "      <th>duration</th>\n",
       "      <th>explicit</th>\n",
       "    </tr>\n",
       "  </thead>\n",
       "  <tbody>\n",
       "    <tr>\n",
       "      <th>122834</th>\n",
       "      <td>NaN</td>\n",
       "      <td>mx</td>\n",
       "      <td>2017-11-09</td>\n",
       "      <td>2</td>\n",
       "      <td>['Various Artists']</td>\n",
       "      <td>[]</td>\n",
       "      <td>0</td>\n",
       "      <td>True</td>\n",
       "    </tr>\n",
       "    <tr>\n",
       "      <th>122835</th>\n",
       "      <td>NaN</td>\n",
       "      <td>mx</td>\n",
       "      <td>2017-11-10</td>\n",
       "      <td>2</td>\n",
       "      <td>['Various Artists']</td>\n",
       "      <td>[]</td>\n",
       "      <td>0</td>\n",
       "      <td>True</td>\n",
       "    </tr>\n",
       "    <tr>\n",
       "      <th>122836</th>\n",
       "      <td>NaN</td>\n",
       "      <td>mx</td>\n",
       "      <td>2017-11-11</td>\n",
       "      <td>2</td>\n",
       "      <td>['Various Artists']</td>\n",
       "      <td>[]</td>\n",
       "      <td>0</td>\n",
       "      <td>True</td>\n",
       "    </tr>\n",
       "    <tr>\n",
       "      <th>122837</th>\n",
       "      <td>NaN</td>\n",
       "      <td>mx</td>\n",
       "      <td>2017-11-12</td>\n",
       "      <td>2</td>\n",
       "      <td>['Various Artists']</td>\n",
       "      <td>[]</td>\n",
       "      <td>0</td>\n",
       "      <td>True</td>\n",
       "    </tr>\n",
       "    <tr>\n",
       "      <th>122838</th>\n",
       "      <td>NaN</td>\n",
       "      <td>mx</td>\n",
       "      <td>2017-11-13</td>\n",
       "      <td>2</td>\n",
       "      <td>['Various Artists']</td>\n",
       "      <td>[]</td>\n",
       "      <td>0</td>\n",
       "      <td>True</td>\n",
       "    </tr>\n",
       "  </tbody>\n",
       "</table>\n",
       "</div>"
      ],
      "text/plain": [
       "       name country        date  position              artists artist_genres  \\\n",
       "122834  NaN      mx  2017-11-09         2  ['Various Artists']            []   \n",
       "122835  NaN      mx  2017-11-10         2  ['Various Artists']            []   \n",
       "122836  NaN      mx  2017-11-11         2  ['Various Artists']            []   \n",
       "122837  NaN      mx  2017-11-12         2  ['Various Artists']            []   \n",
       "122838  NaN      mx  2017-11-13         2  ['Various Artists']            []   \n",
       "\n",
       "        duration  explicit  \n",
       "122834         0      True  \n",
       "122835         0      True  \n",
       "122836         0      True  \n",
       "122837         0      True  \n",
       "122838         0      True  "
      ]
     },
     "execution_count": 14,
     "metadata": {},
     "output_type": "execute_result"
    }
   ],
   "source": [
    "garbage[garbage['position']<10].head()"
   ]
  },
  {
   "cell_type": "markdown",
   "id": "f193c98b",
   "metadata": {},
   "source": [
    "Моё итоговое предположение - исполнители удалили свои песни или возникли проблемы в плане лицензии. Но я не уверен, тк, например, A$AP ROCKY, который был в топах яндекс музыки, наверняка, лежит где-то в бд по чартам 2012-2014 годов. Соц сети могут по 10 лет хранить личные данные, а важная информация, для отслеживания вкусов потребителей уж тем более не будет удаляться. Так и не пришёл к выводам - возможно, датасет с просто с косяками"
   ]
  },
  {
   "cell_type": "markdown",
   "id": "9fea1c95",
   "metadata": {},
   "source": [
    "**Очистим** лишний мусор"
   ]
  },
  {
   "cell_type": "code",
   "execution_count": 15,
   "id": "5ca47d5d",
   "metadata": {},
   "outputs": [
    {
     "name": "stdout",
     "output_type": "stream",
     "text": [
      "<class 'pandas.core.frame.DataFrame'>\n",
      "Int64Index: 626337 entries, 0 to 626474\n",
      "Data columns (total 8 columns):\n",
      " #   Column         Non-Null Count   Dtype \n",
      "---  ------         --------------   ----- \n",
      " 0   name           626337 non-null  object\n",
      " 1   country        626337 non-null  object\n",
      " 2   date           626337 non-null  object\n",
      " 3   position       626337 non-null  int64 \n",
      " 4   artists        626337 non-null  object\n",
      " 5   artist_genres  626337 non-null  object\n",
      " 6   duration       626337 non-null  int64 \n",
      " 7   explicit       626337 non-null  bool  \n",
      "dtypes: bool(1), int64(2), object(5)\n",
      "memory usage: 38.8+ MB\n"
     ]
    }
   ],
   "source": [
    "zero_duration = (df[df['duration']==0])\n",
    "df = df.drop(zero_duration.index)\n",
    "df.info()"
   ]
  },
  {
   "cell_type": "markdown",
   "id": "ed65e1e9",
   "metadata": {},
   "source": [
    "## Визуальный анализ"
   ]
  },
  {
   "cell_type": "markdown",
   "id": "a79dc2ea",
   "metadata": {},
   "source": [
    "Интересно проследить за спросом на отсутствие цензуры:"
   ]
  },
  {
   "cell_type": "code",
   "execution_count": 16,
   "id": "7147e017",
   "metadata": {},
   "outputs": [
    {
     "data": {
      "text/plain": [
       "False    367876\n",
       "True     258461\n",
       "Name: explicit, dtype: int64"
      ]
     },
     "execution_count": 16,
     "metadata": {},
     "output_type": "execute_result"
    }
   ],
   "source": [
    "df[\"explicit\"].value_counts()"
   ]
  },
  {
   "cell_type": "code",
   "execution_count": 17,
   "id": "422657f1",
   "metadata": {},
   "outputs": [
    {
     "data": {
      "image/png": "[encoded data removed]",
      "text/plain": [
       "<Figure size 1000x800 with 1 Axes>"
      ]
     },
     "metadata": {},
     "output_type": "display_data"
    }
   ],
   "source": [
    "df[\"explicit\"].value_counts().plot(kind=\"bar\", label=\"Explicit\")\n",
    "plt.legend()\n",
    "plt.title(\"Количество песен в чартах с возрастным ограничением\");"
   ]
  },
  {
   "cell_type": "markdown",
   "id": "8a81b02c",
   "metadata": {},
   "source": [
    "Количественных переменных у нас не так много, поэтому не вижу смысла делать корреляцию"
   ]
  },
  {
   "cell_type": "code",
   "execution_count": 18,
   "id": "5e8bd2fb",
   "metadata": {},
   "outputs": [
    {
     "data": {
      "text/plain": [
       "<AxesSubplot: >"
      ]
     },
     "execution_count": 18,
     "metadata": {},
     "output_type": "execute_result"
    },
    {
     "data": {
      "image/png": "[encoded data removed]",
      "text/plain": [
       "<Figure size 1000x800 with 2 Axes>"
      ]
     },
     "metadata": {},
     "output_type": "display_data"
    }
   ],
   "source": [
    "corr = df.corr(numeric_only=True)\n",
    "sns.heatmap(corr, annot=True)"
   ]
  },
  {
   "cell_type": "markdown",
   "id": "9c6495c6",
   "metadata": {},
   "source": [
    "Видим, что везде **низкая корреляция** - логично, тк эти поля не особо связаны"
   ]
  },
  {
   "cell_type": "markdown",
   "id": "ba24e4ea",
   "metadata": {},
   "source": [
    "Построим гистограмму для количественных значений и убедимся, что, в целом, ничего неожиданного:\n",
    "- чем выше рейтинг, тем меньше песен\n",
    "- средняя длительность трека : 350 секунд ~ 5-6 минут"
   ]
  },
  {
   "cell_type": "code",
   "execution_count": 43,
   "id": "40cba87a",
   "metadata": {},
   "outputs": [
    {
     "data": {
      "image/png": "[encoded data removed]",
      "text/plain": [
       "<Figure size 2000x1200 with 2 Axes>"
      ]
     },
     "metadata": {},
     "output_type": "display_data"
    }
   ],
   "source": [
    "df.hist(figsize=(20, 12));"
   ]
  },
  {
   "cell_type": "markdown",
   "id": "b4e33411",
   "metadata": {},
   "source": [
    "Найдём топ 10 стран, где активнее всего работает spotify, и проведём маленькую статистику:"
   ]
  },
  {
   "cell_type": "code",
   "execution_count": 71,
   "id": "cc289e57",
   "metadata": {},
   "outputs": [
    {
     "data": {
      "text/html": [
       "<div>\n",
       "<style scoped>\n",
       "    .dataframe tbody tr th:only-of-type {\n",
       "        vertical-align: middle;\n",
       "    }\n",
       "\n",
       "    .dataframe tbody tr th {\n",
       "        vertical-align: top;\n",
       "    }\n",
       "\n",
       "    .dataframe thead th {\n",
       "        text-align: right;\n",
       "    }\n",
       "</style>\n",
       "<table border=\"1\" class=\"dataframe\">\n",
       "  <thead>\n",
       "    <tr style=\"text-align: right;\">\n",
       "      <th></th>\n",
       "      <th>position</th>\n",
       "      <th>duration</th>\n",
       "      <th>explicit</th>\n",
       "    </tr>\n",
       "    <tr>\n",
       "      <th>country</th>\n",
       "      <th></th>\n",
       "      <th></th>\n",
       "      <th></th>\n",
       "    </tr>\n",
       "  </thead>\n",
       "  <tbody>\n",
       "    <tr>\n",
       "      <th>br</th>\n",
       "      <td>137.184511</td>\n",
       "      <td>210721.211803</td>\n",
       "      <td>0.218801</td>\n",
       "    </tr>\n",
       "    <tr>\n",
       "      <th>tr</th>\n",
       "      <td>133.269947</td>\n",
       "      <td>222277.491689</td>\n",
       "      <td>0.264295</td>\n",
       "    </tr>\n",
       "    <tr>\n",
       "      <th>jp</th>\n",
       "      <td>131.965300</td>\n",
       "      <td>204318.017744</td>\n",
       "      <td>0.177050</td>\n",
       "    </tr>\n",
       "    <tr>\n",
       "      <th>us</th>\n",
       "      <td>131.610914</td>\n",
       "      <td>206732.509704</td>\n",
       "      <td>0.679633</td>\n",
       "    </tr>\n",
       "    <tr>\n",
       "      <th>id</th>\n",
       "      <td>131.419201</td>\n",
       "      <td>212912.387544</td>\n",
       "      <td>0.190979</td>\n",
       "    </tr>\n",
       "    <tr>\n",
       "      <th>in</th>\n",
       "      <td>127.537836</td>\n",
       "      <td>199372.418226</td>\n",
       "      <td>0.224166</td>\n",
       "    </tr>\n",
       "    <tr>\n",
       "      <th>ca</th>\n",
       "      <td>125.420636</td>\n",
       "      <td>206861.672861</td>\n",
       "      <td>0.604129</td>\n",
       "    </tr>\n",
       "    <tr>\n",
       "      <th>no</th>\n",
       "      <td>125.336354</td>\n",
       "      <td>207121.225554</td>\n",
       "      <td>0.348381</td>\n",
       "    </tr>\n",
       "    <tr>\n",
       "      <th>it</th>\n",
       "      <td>124.738148</td>\n",
       "      <td>208106.402604</td>\n",
       "      <td>0.250307</td>\n",
       "    </tr>\n",
       "    <tr>\n",
       "      <th>pt</th>\n",
       "      <td>123.971678</td>\n",
       "      <td>211317.710656</td>\n",
       "      <td>0.350396</td>\n",
       "    </tr>\n",
       "  </tbody>\n",
       "</table>\n",
       "</div>"
      ],
      "text/plain": [
       "           position       duration  explicit\n",
       "country                                     \n",
       "br       137.184511  210721.211803  0.218801\n",
       "tr       133.269947  222277.491689  0.264295\n",
       "jp       131.965300  204318.017744  0.177050\n",
       "us       131.610914  206732.509704  0.679633\n",
       "id       131.419201  212912.387544  0.190979\n",
       "in       127.537836  199372.418226  0.224166\n",
       "ca       125.420636  206861.672861  0.604129\n",
       "no       125.336354  207121.225554  0.348381\n",
       "it       124.738148  208106.402604  0.250307\n",
       "pt       123.971678  211317.710656  0.350396"
      ]
     },
     "execution_count": 71,
     "metadata": {},
     "output_type": "execute_result"
    }
   ],
   "source": [
    "# Из методички\n",
    "# df.groupby([\"country\"])[\"position\"].agg([np.mean]).sort_values(by=\"mean\", ascending=False).\n",
    "\n",
    "groupped_country = df.groupby(['country']).mean()\n",
    "groupped_country = groupped_country.sort_values(by=['position'], ascending=False)\n",
    "groupped_country[:10].head(10)"
   ]
  },
  {
   "cell_type": "markdown",
   "id": "ded4a934",
   "metadata": {},
   "source": [
    "Интересно найти самого близкого по вкусам для РФ страну:"
   ]
  },
  {
   "cell_type": "code",
   "execution_count": 100,
   "id": "86284d97",
   "metadata": {},
   "outputs": [],
   "source": [
    "fresh_df = df[pd.DatetimeIndex(df['date']).year > 2018]\n",
    "rus_df = fresh_df[fresh_df['country']=='ru']\n",
    "not_rus_df = fresh_df[fresh_df['country']!='ru']\n",
    "\n",
    "rus_df = rus_df.sort_values(by=['position'])\n",
    "not_rus_df = exc_rus.sort_values(by=['position'])"
   ]
  }
 ],
 "metadata": {
  "kernelspec": {
   "display_name": "Python 3 (ipykernel)",
   "language": "python",
   "name": "python3"
  },
  "language_info": {
   "codemirror_mode": {
    "name": "ipython",
    "version": 3
   },
   "file_extension": ".py",
   "mimetype": "text/x-python",
   "name": "python",
   "nbconvert_exporter": "python",
   "pygments_lexer": "ipython3",
   "version": "3.10.7"
  }
 },
 "nbformat": 4,
 "nbformat_minor": 5
}
