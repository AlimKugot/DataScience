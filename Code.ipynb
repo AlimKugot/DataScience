{
 "cells": [
  {
   "cell_type": "markdown",
   "id": "48ef2e44",
   "metadata": {},
   "source": [
    "## Подготовка данных"
   ]
  },
  {
   "cell_type": "markdown",
   "id": "798dd1c5",
   "metadata": {},
   "source": [
    "**Отключим** все предупреждения по инструкции"
   ]
  },
  {
   "cell_type": "code",
   "execution_count": 24,
   "id": "01fdc9d4",
   "metadata": {},
   "outputs": [],
   "source": [
    "import warnings\n",
    "\n",
    "warnings.filterwarnings(\"ignore\")\n",
    "import numpy as np\n",
    "import pandas as pd\n",
    "\n",
    "pd.set_option(\"display.max.columns\", 100)\n",
    "import pylab as plt\n",
    "\n",
    "%matplotlib inline\n",
    "import seaborn as sns\n",
    "from matplotlib import pyplot as plt\n",
    "\n",
    "plt.rcParams[\"figure.figsize\"] = (10, 8)"
   ]
  },
  {
   "cell_type": "markdown",
   "id": "d3ec7a2b",
   "metadata": {},
   "source": [
    "**Считаем** наш файл с данными"
   ]
  },
  {
   "cell_type": "code",
   "execution_count": 25,
   "id": "0f8f1464",
   "metadata": {},
   "outputs": [],
   "source": [
    "df = pd.read_csv(\"data/charts.csv\")"
   ]
  },
  {
   "cell_type": "markdown",
   "id": "cec83703",
   "metadata": {},
   "source": [
    "**Распечатаем** первые 5 записи"
   ]
  },
  {
   "cell_type": "code",
   "execution_count": 26,
   "id": "8c6f5138",
   "metadata": {},
   "outputs": [
    {
     "data": {
      "text/html": [
       "<div>\n",
       "<style scoped>\n",
       "    .dataframe tbody tr th:only-of-type {\n",
       "        vertical-align: middle;\n",
       "    }\n",
       "\n",
       "    .dataframe tbody tr th {\n",
       "        vertical-align: top;\n",
       "    }\n",
       "\n",
       "    .dataframe thead th {\n",
       "        text-align: right;\n",
       "    }\n",
       "</style>\n",
       "<table border=\"1\" class=\"dataframe\">\n",
       "  <thead>\n",
       "    <tr style=\"text-align: right;\">\n",
       "      <th></th>\n",
       "      <th>track_id</th>\n",
       "      <th>name</th>\n",
       "      <th>country</th>\n",
       "      <th>date</th>\n",
       "      <th>position</th>\n",
       "      <th>streams</th>\n",
       "      <th>artists</th>\n",
       "      <th>artist_genres</th>\n",
       "      <th>duration</th>\n",
       "      <th>explicit</th>\n",
       "    </tr>\n",
       "  </thead>\n",
       "  <tbody>\n",
       "    <tr>\n",
       "      <th>0</th>\n",
       "      <td>7GMeRGZax4uDKgz6wALWQw</td>\n",
       "      <td>It Was Always You</td>\n",
       "      <td>br</td>\n",
       "      <td>2015-03-17</td>\n",
       "      <td>138</td>\n",
       "      <td>6584</td>\n",
       "      <td>['Maroon 5']</td>\n",
       "      <td>['pop']</td>\n",
       "      <td>239920</td>\n",
       "      <td>False</td>\n",
       "    </tr>\n",
       "    <tr>\n",
       "      <th>1</th>\n",
       "      <td>7GMeRGZax4uDKgz6wALWQw</td>\n",
       "      <td>It Was Always You</td>\n",
       "      <td>br</td>\n",
       "      <td>2015-03-18</td>\n",
       "      <td>132</td>\n",
       "      <td>6963</td>\n",
       "      <td>['Maroon 5']</td>\n",
       "      <td>['pop']</td>\n",
       "      <td>239920</td>\n",
       "      <td>False</td>\n",
       "    </tr>\n",
       "    <tr>\n",
       "      <th>2</th>\n",
       "      <td>7GMeRGZax4uDKgz6wALWQw</td>\n",
       "      <td>It Was Always You</td>\n",
       "      <td>br</td>\n",
       "      <td>2015-03-19</td>\n",
       "      <td>128</td>\n",
       "      <td>7049</td>\n",
       "      <td>['Maroon 5']</td>\n",
       "      <td>['pop']</td>\n",
       "      <td>239920</td>\n",
       "      <td>False</td>\n",
       "    </tr>\n",
       "    <tr>\n",
       "      <th>3</th>\n",
       "      <td>7GMeRGZax4uDKgz6wALWQw</td>\n",
       "      <td>It Was Always You</td>\n",
       "      <td>br</td>\n",
       "      <td>2015-03-20</td>\n",
       "      <td>152</td>\n",
       "      <td>6976</td>\n",
       "      <td>['Maroon 5']</td>\n",
       "      <td>['pop']</td>\n",
       "      <td>239920</td>\n",
       "      <td>False</td>\n",
       "    </tr>\n",
       "    <tr>\n",
       "      <th>4</th>\n",
       "      <td>7GMeRGZax4uDKgz6wALWQw</td>\n",
       "      <td>It Was Always You</td>\n",
       "      <td>br</td>\n",
       "      <td>2015-03-21</td>\n",
       "      <td>160</td>\n",
       "      <td>6156</td>\n",
       "      <td>['Maroon 5']</td>\n",
       "      <td>['pop']</td>\n",
       "      <td>239920</td>\n",
       "      <td>False</td>\n",
       "    </tr>\n",
       "  </tbody>\n",
       "</table>\n",
       "</div>"
      ],
      "text/plain": [
       "                 track_id               name country        date  position  \\\n",
       "0  7GMeRGZax4uDKgz6wALWQw  It Was Always You      br  2015-03-17       138   \n",
       "1  7GMeRGZax4uDKgz6wALWQw  It Was Always You      br  2015-03-18       132   \n",
       "2  7GMeRGZax4uDKgz6wALWQw  It Was Always You      br  2015-03-19       128   \n",
       "3  7GMeRGZax4uDKgz6wALWQw  It Was Always You      br  2015-03-20       152   \n",
       "4  7GMeRGZax4uDKgz6wALWQw  It Was Always You      br  2015-03-21       160   \n",
       "\n",
       "  streams       artists artist_genres  duration  explicit  \n",
       "0    6584  ['Maroon 5']       ['pop']    239920     False  \n",
       "1    6963  ['Maroon 5']       ['pop']    239920     False  \n",
       "2    7049  ['Maroon 5']       ['pop']    239920     False  \n",
       "3    6976  ['Maroon 5']       ['pop']    239920     False  \n",
       "4    6156  ['Maroon 5']       ['pop']    239920     False  "
      ]
     },
     "execution_count": 26,
     "metadata": {},
     "output_type": "execute_result"
    }
   ],
   "source": [
    "df.head(5)"
   ]
  },
  {
   "cell_type": "markdown",
   "id": "8ca8ed28",
   "metadata": {},
   "source": [
    "## Описание набора данных"
   ]
  },
  {
   "cell_type": "code",
   "execution_count": 27,
   "id": "1c1bb1a2",
   "metadata": {},
   "outputs": [
    {
     "name": "stdout",
     "output_type": "stream",
     "text": [
      "(626475, 10)\n",
      "['track_id' 'name' 'country' 'date' 'position' 'streams' 'artists'\n",
      " 'artist_genres' 'duration' 'explicit']\n"
     ]
    }
   ],
   "source": [
    "print(df.shape)\n",
    "print(df.columns.values)"
   ]
  },
  {
   "cell_type": "markdown",
   "id": "ee2b4826",
   "metadata": {},
   "source": [
    "Удалим '*track_id*' (сурогатный ключ) и ненужное поле ('*streams*')"
   ]
  },
  {
   "cell_type": "code",
   "execution_count": 28,
   "id": "c4bf5131",
   "metadata": {},
   "outputs": [
    {
     "name": "stdout",
     "output_type": "stream",
     "text": [
      "<class 'pandas.core.frame.DataFrame'>\n",
      "RangeIndex: 626475 entries, 0 to 626474\n",
      "Data columns (total 8 columns):\n",
      " #   Column         Non-Null Count   Dtype \n",
      "---  ------         --------------   ----- \n",
      " 0   name           626337 non-null  object\n",
      " 1   country        626475 non-null  object\n",
      " 2   date           626475 non-null  object\n",
      " 3   position       626475 non-null  int64 \n",
      " 4   artists        626475 non-null  object\n",
      " 5   artist_genres  626475 non-null  object\n",
      " 6   duration       626475 non-null  int64 \n",
      " 7   explicit       626475 non-null  bool  \n",
      "dtypes: bool(1), int64(2), object(5)\n",
      "memory usage: 34.1+ MB\n"
     ]
    }
   ],
   "source": [
    "df = df.drop(['track_id', 'streams'],axis=1)\n",
    "df.info()"
   ]
  },
  {
   "cell_type": "markdown",
   "id": "b1d7df97",
   "metadata": {},
   "source": [
    "|     Название      | Описание                                       |      Тип       |\n",
    "|---                |:--                                             |:--             |\n",
    "| **name**          | Название песни                                 | категориальный |\n",
    "| **country**       | Код страны, в которой появлялась песня в чарте | категориальный |\n",
    "| **date**          | Дата появление в чарте                         | вещественный   |\n",
    "| **position**      | Позиция в чарте                                | вещественный   |\n",
    "| **artists**       | Авторы (исполнители) песни                     | категориальный |\n",
    "| **artist_genres** | Жанры, в которых исполнители выступают         | категориальный |\n",
    "| **duration**      | Длительность песни в (ms)                      | вещественный   |\n",
    "| **explicit**      | Возрастное ограничение (есть/нет)              | бинарный       |"
   ]
  },
  {
   "cell_type": "markdown",
   "id": "c987587b",
   "metadata": {},
   "source": [
    "Целевая переменная **position** - Позиция в чарте (в зависимости от страны)"
   ]
  },
  {
   "cell_type": "code",
   "execution_count": 29,
   "id": "fdf53907",
   "metadata": {},
   "outputs": [
    {
     "name": "stdout",
     "output_type": "stream",
     "text": [
      "TOP 200\n",
      "unique songs: 6854\n",
      "unique artists: 3383\n",
      "unique countries: 71\n",
      "max duration: 943528\n",
      "min duration: 0\n"
     ]
    }
   ],
   "source": [
    "# Отдельно сохраним два list-а для удобства\n",
    "print(f'TOP {df.position.max()}')\n",
    "print(f'unique songs: {df.name.nunique()}')\n",
    "print(f'unique artists: {df.artists.nunique()}')\n",
    "print(f'unique countries: {df.country.nunique()}')\n",
    "\n",
    "print(f'max duration: {df.duration.max()}')\n",
    "print(f'min duration: {df.duration.min()}')"
   ]
  },
  {
   "cell_type": "markdown",
   "id": "bbe5fb9b",
   "metadata": {},
   "source": [
    "## Очистка мусора"
   ]
  },
  {
   "cell_type": "markdown",
   "id": "9b088eeb",
   "metadata": {},
   "source": [
    "Дубликатов нет:"
   ]
  },
  {
   "cell_type": "code",
   "execution_count": 30,
   "id": "eede6d90",
   "metadata": {},
   "outputs": [
    {
     "data": {
      "text/plain": [
       "0"
      ]
     },
     "execution_count": 30,
     "metadata": {},
     "output_type": "execute_result"
    }
   ],
   "source": [
    "df.duplicated().sum()"
   ]
  },
  {
   "cell_type": "markdown",
   "id": "d0e1e5e3",
   "metadata": {},
   "source": [
    "Сразу заметим, что при вызове функции ***df.info()***, что кол-во строк в признаке **name** меньше, чем у остальных. \n",
    "\n",
    "Давайте проверим, ещё раз, на всякий случай, и взглянем, что внутри"
   ]
  },
  {
   "cell_type": "code",
   "execution_count": 31,
   "id": "9938f7ea",
   "metadata": {},
   "outputs": [
    {
     "data": {
      "text/html": [
       "<div>\n",
       "<style scoped>\n",
       "    .dataframe tbody tr th:only-of-type {\n",
       "        vertical-align: middle;\n",
       "    }\n",
       "\n",
       "    .dataframe tbody tr th {\n",
       "        vertical-align: top;\n",
       "    }\n",
       "\n",
       "    .dataframe thead th {\n",
       "        text-align: right;\n",
       "    }\n",
       "</style>\n",
       "<table border=\"1\" class=\"dataframe\">\n",
       "  <thead>\n",
       "    <tr style=\"text-align: right;\">\n",
       "      <th></th>\n",
       "      <th>name</th>\n",
       "      <th>country</th>\n",
       "      <th>date</th>\n",
       "      <th>position</th>\n",
       "      <th>artists</th>\n",
       "      <th>artist_genres</th>\n",
       "      <th>duration</th>\n",
       "      <th>explicit</th>\n",
       "    </tr>\n",
       "  </thead>\n",
       "  <tbody>\n",
       "    <tr>\n",
       "      <th>122828</th>\n",
       "      <td>NaN</td>\n",
       "      <td>global</td>\n",
       "      <td>2017-11-09</td>\n",
       "      <td>32</td>\n",
       "      <td>['Various Artists']</td>\n",
       "      <td>[]</td>\n",
       "      <td>0</td>\n",
       "      <td>True</td>\n",
       "    </tr>\n",
       "    <tr>\n",
       "      <th>122829</th>\n",
       "      <td>NaN</td>\n",
       "      <td>global</td>\n",
       "      <td>2017-11-10</td>\n",
       "      <td>30</td>\n",
       "      <td>['Various Artists']</td>\n",
       "      <td>[]</td>\n",
       "      <td>0</td>\n",
       "      <td>True</td>\n",
       "    </tr>\n",
       "    <tr>\n",
       "      <th>122830</th>\n",
       "      <td>NaN</td>\n",
       "      <td>global</td>\n",
       "      <td>2017-11-11</td>\n",
       "      <td>26</td>\n",
       "      <td>['Various Artists']</td>\n",
       "      <td>[]</td>\n",
       "      <td>0</td>\n",
       "      <td>True</td>\n",
       "    </tr>\n",
       "    <tr>\n",
       "      <th>122831</th>\n",
       "      <td>NaN</td>\n",
       "      <td>global</td>\n",
       "      <td>2017-11-12</td>\n",
       "      <td>27</td>\n",
       "      <td>['Various Artists']</td>\n",
       "      <td>[]</td>\n",
       "      <td>0</td>\n",
       "      <td>True</td>\n",
       "    </tr>\n",
       "    <tr>\n",
       "      <th>122832</th>\n",
       "      <td>NaN</td>\n",
       "      <td>global</td>\n",
       "      <td>2017-11-13</td>\n",
       "      <td>31</td>\n",
       "      <td>['Various Artists']</td>\n",
       "      <td>[]</td>\n",
       "      <td>0</td>\n",
       "      <td>True</td>\n",
       "    </tr>\n",
       "    <tr>\n",
       "      <th>...</th>\n",
       "      <td>...</td>\n",
       "      <td>...</td>\n",
       "      <td>...</td>\n",
       "      <td>...</td>\n",
       "      <td>...</td>\n",
       "      <td>...</td>\n",
       "      <td>...</td>\n",
       "      <td>...</td>\n",
       "    </tr>\n",
       "    <tr>\n",
       "      <th>122961</th>\n",
       "      <td>NaN</td>\n",
       "      <td>jp</td>\n",
       "      <td>2017-11-12</td>\n",
       "      <td>172</td>\n",
       "      <td>['Various Artists']</td>\n",
       "      <td>[]</td>\n",
       "      <td>0</td>\n",
       "      <td>True</td>\n",
       "    </tr>\n",
       "    <tr>\n",
       "      <th>122962</th>\n",
       "      <td>NaN</td>\n",
       "      <td>jp</td>\n",
       "      <td>2017-11-13</td>\n",
       "      <td>177</td>\n",
       "      <td>['Various Artists']</td>\n",
       "      <td>[]</td>\n",
       "      <td>0</td>\n",
       "      <td>True</td>\n",
       "    </tr>\n",
       "    <tr>\n",
       "      <th>122963</th>\n",
       "      <td>NaN</td>\n",
       "      <td>jp</td>\n",
       "      <td>2017-11-14</td>\n",
       "      <td>182</td>\n",
       "      <td>['Various Artists']</td>\n",
       "      <td>[]</td>\n",
       "      <td>0</td>\n",
       "      <td>True</td>\n",
       "    </tr>\n",
       "    <tr>\n",
       "      <th>122964</th>\n",
       "      <td>NaN</td>\n",
       "      <td>hu</td>\n",
       "      <td>2017-11-11</td>\n",
       "      <td>164</td>\n",
       "      <td>['Various Artists']</td>\n",
       "      <td>[]</td>\n",
       "      <td>0</td>\n",
       "      <td>True</td>\n",
       "    </tr>\n",
       "    <tr>\n",
       "      <th>122965</th>\n",
       "      <td>NaN</td>\n",
       "      <td>hu</td>\n",
       "      <td>2017-11-13</td>\n",
       "      <td>180</td>\n",
       "      <td>['Various Artists']</td>\n",
       "      <td>[]</td>\n",
       "      <td>0</td>\n",
       "      <td>True</td>\n",
       "    </tr>\n",
       "  </tbody>\n",
       "</table>\n",
       "<p>138 rows × 8 columns</p>\n",
       "</div>"
      ],
      "text/plain": [
       "       name country        date  position              artists artist_genres  \\\n",
       "122828  NaN  global  2017-11-09        32  ['Various Artists']            []   \n",
       "122829  NaN  global  2017-11-10        30  ['Various Artists']            []   \n",
       "122830  NaN  global  2017-11-11        26  ['Various Artists']            []   \n",
       "122831  NaN  global  2017-11-12        27  ['Various Artists']            []   \n",
       "122832  NaN  global  2017-11-13        31  ['Various Artists']            []   \n",
       "...     ...     ...         ...       ...                  ...           ...   \n",
       "122961  NaN      jp  2017-11-12       172  ['Various Artists']            []   \n",
       "122962  NaN      jp  2017-11-13       177  ['Various Artists']            []   \n",
       "122963  NaN      jp  2017-11-14       182  ['Various Artists']            []   \n",
       "122964  NaN      hu  2017-11-11       164  ['Various Artists']            []   \n",
       "122965  NaN      hu  2017-11-13       180  ['Various Artists']            []   \n",
       "\n",
       "        duration  explicit  \n",
       "122828         0      True  \n",
       "122829         0      True  \n",
       "122830         0      True  \n",
       "122831         0      True  \n",
       "122832         0      True  \n",
       "...          ...       ...  \n",
       "122961         0      True  \n",
       "122962         0      True  \n",
       "122963         0      True  \n",
       "122964         0      True  \n",
       "122965         0      True  \n",
       "\n",
       "[138 rows x 8 columns]"
      ]
     },
     "execution_count": 31,
     "metadata": {},
     "output_type": "execute_result"
    }
   ],
   "source": [
    "df[df.isnull().any(axis=1)]"
   ]
  },
  {
   "cell_type": "markdown",
   "id": "0b9dd8c4",
   "metadata": {},
   "source": [
    "Во всех этих строках длительность песни равна нулю. Очевидно, что эти данные нам не нужны, но перед удалением, изучим их поля: страну и позицию. Возможно, сможем предположить, почему какие-то даннные замусорились"
   ]
  },
  {
   "cell_type": "markdown",
   "id": "42dc8a3e",
   "metadata": {},
   "source": [
    "Видим, что в странах JP (Япония) и HU(Венгрия) - возможно, специфичные языки не смогли отобразиться нашей в базе (иероглифы и пр). Давайте проверим"
   ]
  },
  {
   "cell_type": "code",
   "execution_count": 32,
   "id": "301f1cb7",
   "metadata": {},
   "outputs": [
    {
     "data": {
      "text/plain": [
       "array(['global', 'mx', 'ar', 'es', 'us', 'cl', 'pe', 'co', 'cr', 'it',\n",
       "       'ec', 'nl', 'py', 'uy', 'gt', 'do', 'pa', 'bo', 'sv', 'ch', 'hn',\n",
       "       'pt', 'jp', 'hu'], dtype=object)"
      ]
     },
     "execution_count": 32,
     "metadata": {},
     "output_type": "execute_result"
    }
   ],
   "source": [
    "garbage = df[df.isnull().any(axis=1)]\n",
    "garbage.country.unique()"
   ]
  },
  {
   "cell_type": "markdown",
   "id": "af14ad56",
   "metadata": {},
   "source": [
    "Видим, что в списке оказались: США (us), Италия(it), Испания(es)\n",
    "\n",
    "Странно, что тут США вообще делает, давайте посмотрим"
   ]
  },
  {
   "cell_type": "code",
   "execution_count": 33,
   "id": "3857f243",
   "metadata": {},
   "outputs": [
    {
     "data": {
      "text/html": [
       "<div>\n",
       "<style scoped>\n",
       "    .dataframe tbody tr th:only-of-type {\n",
       "        vertical-align: middle;\n",
       "    }\n",
       "\n",
       "    .dataframe tbody tr th {\n",
       "        vertical-align: top;\n",
       "    }\n",
       "\n",
       "    .dataframe thead th {\n",
       "        text-align: right;\n",
       "    }\n",
       "</style>\n",
       "<table border=\"1\" class=\"dataframe\">\n",
       "  <thead>\n",
       "    <tr style=\"text-align: right;\">\n",
       "      <th></th>\n",
       "      <th>name</th>\n",
       "      <th>country</th>\n",
       "      <th>date</th>\n",
       "      <th>position</th>\n",
       "      <th>artists</th>\n",
       "      <th>artist_genres</th>\n",
       "      <th>duration</th>\n",
       "      <th>explicit</th>\n",
       "    </tr>\n",
       "  </thead>\n",
       "  <tbody>\n",
       "    <tr>\n",
       "      <th>122852</th>\n",
       "      <td>NaN</td>\n",
       "      <td>us</td>\n",
       "      <td>2017-11-09</td>\n",
       "      <td>190</td>\n",
       "      <td>['Various Artists']</td>\n",
       "      <td>[]</td>\n",
       "      <td>0</td>\n",
       "      <td>True</td>\n",
       "    </tr>\n",
       "    <tr>\n",
       "      <th>122853</th>\n",
       "      <td>NaN</td>\n",
       "      <td>us</td>\n",
       "      <td>2017-11-10</td>\n",
       "      <td>182</td>\n",
       "      <td>['Various Artists']</td>\n",
       "      <td>[]</td>\n",
       "      <td>0</td>\n",
       "      <td>True</td>\n",
       "    </tr>\n",
       "    <tr>\n",
       "      <th>122854</th>\n",
       "      <td>NaN</td>\n",
       "      <td>us</td>\n",
       "      <td>2017-11-11</td>\n",
       "      <td>151</td>\n",
       "      <td>['Various Artists']</td>\n",
       "      <td>[]</td>\n",
       "      <td>0</td>\n",
       "      <td>True</td>\n",
       "    </tr>\n",
       "    <tr>\n",
       "      <th>122855</th>\n",
       "      <td>NaN</td>\n",
       "      <td>us</td>\n",
       "      <td>2017-11-12</td>\n",
       "      <td>160</td>\n",
       "      <td>['Various Artists']</td>\n",
       "      <td>[]</td>\n",
       "      <td>0</td>\n",
       "      <td>True</td>\n",
       "    </tr>\n",
       "    <tr>\n",
       "      <th>122856</th>\n",
       "      <td>NaN</td>\n",
       "      <td>us</td>\n",
       "      <td>2017-11-13</td>\n",
       "      <td>170</td>\n",
       "      <td>['Various Artists']</td>\n",
       "      <td>[]</td>\n",
       "      <td>0</td>\n",
       "      <td>True</td>\n",
       "    </tr>\n",
       "    <tr>\n",
       "      <th>122857</th>\n",
       "      <td>NaN</td>\n",
       "      <td>us</td>\n",
       "      <td>2017-11-14</td>\n",
       "      <td>122</td>\n",
       "      <td>['Various Artists']</td>\n",
       "      <td>[]</td>\n",
       "      <td>0</td>\n",
       "      <td>True</td>\n",
       "    </tr>\n",
       "  </tbody>\n",
       "</table>\n",
       "</div>"
      ],
      "text/plain": [
       "       name country        date  position              artists artist_genres  \\\n",
       "122852  NaN      us  2017-11-09       190  ['Various Artists']            []   \n",
       "122853  NaN      us  2017-11-10       182  ['Various Artists']            []   \n",
       "122854  NaN      us  2017-11-11       151  ['Various Artists']            []   \n",
       "122855  NaN      us  2017-11-12       160  ['Various Artists']            []   \n",
       "122856  NaN      us  2017-11-13       170  ['Various Artists']            []   \n",
       "122857  NaN      us  2017-11-14       122  ['Various Artists']            []   \n",
       "\n",
       "        duration  explicit  \n",
       "122852         0      True  \n",
       "122853         0      True  \n",
       "122854         0      True  \n",
       "122855         0      True  \n",
       "122856         0      True  \n",
       "122857         0      True  "
      ]
     },
     "execution_count": 33,
     "metadata": {},
     "output_type": "execute_result"
    }
   ],
   "source": [
    "garbage[garbage['country']==\"us\"].head(10)"
   ]
  },
  {
   "cell_type": "markdown",
   "id": "a75fda0d",
   "metadata": {},
   "source": [
    "Возможно, какие-то странные ребята со странными названиями заскочили на 5 дней в чарты, либо возникли проблемы с лицензиями между исполнителями и Spotify"
   ]
  },
  {
   "cell_type": "markdown",
   "id": "ff10cda0",
   "metadata": {},
   "source": [
    "Напоследок, убедимся, не проходил ли кто-либо в топ-10:"
   ]
  },
  {
   "cell_type": "code",
   "execution_count": 34,
   "id": "84f272a3",
   "metadata": {},
   "outputs": [
    {
     "data": {
      "text/html": [
       "<div>\n",
       "<style scoped>\n",
       "    .dataframe tbody tr th:only-of-type {\n",
       "        vertical-align: middle;\n",
       "    }\n",
       "\n",
       "    .dataframe tbody tr th {\n",
       "        vertical-align: top;\n",
       "    }\n",
       "\n",
       "    .dataframe thead th {\n",
       "        text-align: right;\n",
       "    }\n",
       "</style>\n",
       "<table border=\"1\" class=\"dataframe\">\n",
       "  <thead>\n",
       "    <tr style=\"text-align: right;\">\n",
       "      <th></th>\n",
       "      <th>name</th>\n",
       "      <th>country</th>\n",
       "      <th>date</th>\n",
       "      <th>position</th>\n",
       "      <th>artists</th>\n",
       "      <th>artist_genres</th>\n",
       "      <th>duration</th>\n",
       "      <th>explicit</th>\n",
       "    </tr>\n",
       "  </thead>\n",
       "  <tbody>\n",
       "    <tr>\n",
       "      <th>122834</th>\n",
       "      <td>NaN</td>\n",
       "      <td>mx</td>\n",
       "      <td>2017-11-09</td>\n",
       "      <td>2</td>\n",
       "      <td>['Various Artists']</td>\n",
       "      <td>[]</td>\n",
       "      <td>0</td>\n",
       "      <td>True</td>\n",
       "    </tr>\n",
       "    <tr>\n",
       "      <th>122835</th>\n",
       "      <td>NaN</td>\n",
       "      <td>mx</td>\n",
       "      <td>2017-11-10</td>\n",
       "      <td>2</td>\n",
       "      <td>['Various Artists']</td>\n",
       "      <td>[]</td>\n",
       "      <td>0</td>\n",
       "      <td>True</td>\n",
       "    </tr>\n",
       "    <tr>\n",
       "      <th>122836</th>\n",
       "      <td>NaN</td>\n",
       "      <td>mx</td>\n",
       "      <td>2017-11-11</td>\n",
       "      <td>2</td>\n",
       "      <td>['Various Artists']</td>\n",
       "      <td>[]</td>\n",
       "      <td>0</td>\n",
       "      <td>True</td>\n",
       "    </tr>\n",
       "    <tr>\n",
       "      <th>122837</th>\n",
       "      <td>NaN</td>\n",
       "      <td>mx</td>\n",
       "      <td>2017-11-12</td>\n",
       "      <td>2</td>\n",
       "      <td>['Various Artists']</td>\n",
       "      <td>[]</td>\n",
       "      <td>0</td>\n",
       "      <td>True</td>\n",
       "    </tr>\n",
       "    <tr>\n",
       "      <th>122838</th>\n",
       "      <td>NaN</td>\n",
       "      <td>mx</td>\n",
       "      <td>2017-11-13</td>\n",
       "      <td>2</td>\n",
       "      <td>['Various Artists']</td>\n",
       "      <td>[]</td>\n",
       "      <td>0</td>\n",
       "      <td>True</td>\n",
       "    </tr>\n",
       "  </tbody>\n",
       "</table>\n",
       "</div>"
      ],
      "text/plain": [
       "       name country        date  position              artists artist_genres  \\\n",
       "122834  NaN      mx  2017-11-09         2  ['Various Artists']            []   \n",
       "122835  NaN      mx  2017-11-10         2  ['Various Artists']            []   \n",
       "122836  NaN      mx  2017-11-11         2  ['Various Artists']            []   \n",
       "122837  NaN      mx  2017-11-12         2  ['Various Artists']            []   \n",
       "122838  NaN      mx  2017-11-13         2  ['Various Artists']            []   \n",
       "\n",
       "        duration  explicit  \n",
       "122834         0      True  \n",
       "122835         0      True  \n",
       "122836         0      True  \n",
       "122837         0      True  \n",
       "122838         0      True  "
      ]
     },
     "execution_count": 34,
     "metadata": {},
     "output_type": "execute_result"
    }
   ],
   "source": [
    "garbage[garbage['position']<10].head()"
   ]
  },
  {
   "cell_type": "markdown",
   "id": "f193c98b",
   "metadata": {},
   "source": [
    "Моё итоговое предположение - исполнители удалили свои песни или возникли проблемы в плане лицензии. Но я не уверен, тк, например, A$AP ROCKY, который был в топах яндекс музыки, наверняка, лежит где-то в бд по чартам 2012-2014 годов. Соц сети могут по 10 лет хранить личные данные, а важная информация, для отслеживания вкусов потребителей уж тем более не будет удаляться. Так и не пришёл к выводам - возможно, датасет с просто с косяками"
   ]
  },
  {
   "cell_type": "markdown",
   "id": "9fea1c95",
   "metadata": {},
   "source": [
    "**Очистим** лишний мусор"
   ]
  },
  {
   "cell_type": "code",
   "execution_count": 35,
   "id": "5ca47d5d",
   "metadata": {},
   "outputs": [
    {
     "name": "stdout",
     "output_type": "stream",
     "text": [
      "<class 'pandas.core.frame.DataFrame'>\n",
      "Int64Index: 626337 entries, 0 to 626474\n",
      "Data columns (total 8 columns):\n",
      " #   Column         Non-Null Count   Dtype \n",
      "---  ------         --------------   ----- \n",
      " 0   name           626337 non-null  object\n",
      " 1   country        626337 non-null  object\n",
      " 2   date           626337 non-null  object\n",
      " 3   position       626337 non-null  int64 \n",
      " 4   artists        626337 non-null  object\n",
      " 5   artist_genres  626337 non-null  object\n",
      " 6   duration       626337 non-null  int64 \n",
      " 7   explicit       626337 non-null  bool  \n",
      "dtypes: bool(1), int64(2), object(5)\n",
      "memory usage: 38.8+ MB\n"
     ]
    }
   ],
   "source": [
    "zero_duration = (df[df['duration']==0])\n",
    "df = df.drop(zero_duration.index)\n",
    "df.info()"
   ]
  },
  {
   "cell_type": "markdown",
   "id": "ed65e1e9",
   "metadata": {},
   "source": [
    "## Визуальный анализ"
   ]
  },
  {
   "cell_type": "markdown",
   "id": "a79dc2ea",
   "metadata": {},
   "source": [
    "Интересно проследить за спросом на отсутствие цензуры:"
   ]
  },
  {
   "cell_type": "code",
   "execution_count": 36,
   "id": "422657f1",
   "metadata": {},
   "outputs": [
    {
     "data": {
      "image/png": "[encoded data removed]",
      "text/plain": [
       "<Figure size 400x400 with 1 Axes>"
      ]
     },
     "metadata": {},
     "output_type": "display_data"
    }
   ],
   "source": [
    "df[\"explicit\"].value_counts().plot(kind=\"bar\", label=\"Explicit\", figsize=(4,4))\n",
    "plt.legend()\n",
    "plt.title(\"Количество песен в чартах с возрастным ограничением\");"
   ]
  },
  {
   "cell_type": "markdown",
   "id": "8a81b02c",
   "metadata": {},
   "source": [
    "Количественных переменных у нас не так много, поэтому не вижу смысла делать корреляцию"
   ]
  },
  {
   "cell_type": "code",
   "execution_count": 37,
   "id": "5e8bd2fb",
   "metadata": {},
   "outputs": [
    {
     "data": {
      "text/plain": [
       "<AxesSubplot: >"
      ]
     },
     "execution_count": 37,
     "metadata": {},
     "output_type": "execute_result"
    },
    {
     "data": {
      "image/png": "[encoded data removed]",
      "text/plain": [
       "<Figure size 1000x800 with 2 Axes>"
      ]
     },
     "metadata": {},
     "output_type": "display_data"
    }
   ],
   "source": [
    "corr = df.corr(numeric_only=True)\n",
    "sns.heatmap(corr, annot=True)"
   ]
  },
  {
   "cell_type": "markdown",
   "id": "9c6495c6",
   "metadata": {},
   "source": [
    "Видим, что везде **низкая корреляция** - логично, тк эти поля не особо связаны"
   ]
  },
  {
   "cell_type": "markdown",
   "id": "ba24e4ea",
   "metadata": {},
   "source": [
    "Построим гистограмму для количественных значений и убедимся, что, в целом, ничего неожиданного:\n",
    "- чем выше рейтинг, тем меньше песен\n",
    "- средняя длительность трека : 350 секунд ~ 5-6 минут"
   ]
  },
  {
   "cell_type": "code",
   "execution_count": 38,
   "id": "40cba87a",
   "metadata": {},
   "outputs": [
    {
     "data": {
      "image/png": "[encoded data removed]",
      "text/plain": [
       "<Figure size 2000x700 with 2 Axes>"
      ]
     },
     "metadata": {},
     "output_type": "display_data"
    }
   ],
   "source": [
    "df.hist(figsize=(20, 7));"
   ]
  },
  {
   "cell_type": "markdown",
   "id": "b4e33411",
   "metadata": {},
   "source": [
    "Найдём топ 10 стран, где активнее всего работает spotify, и проведём маленькую статистику:"
   ]
  },
  {
   "cell_type": "code",
   "execution_count": 40,
   "id": "cc289e57",
   "metadata": {},
   "outputs": [
    {
     "data": {
      "text/html": [
       "<div>\n",
       "<style scoped>\n",
       "    .dataframe tbody tr th:only-of-type {\n",
       "        vertical-align: middle;\n",
       "    }\n",
       "\n",
       "    .dataframe tbody tr th {\n",
       "        vertical-align: top;\n",
       "    }\n",
       "\n",
       "    .dataframe thead th {\n",
       "        text-align: right;\n",
       "    }\n",
       "</style>\n",
       "<table border=\"1\" class=\"dataframe\">\n",
       "  <thead>\n",
       "    <tr style=\"text-align: right;\">\n",
       "      <th>country</th>\n",
       "      <th>br</th>\n",
       "      <th>tr</th>\n",
       "      <th>jp</th>\n",
       "      <th>us</th>\n",
       "      <th>id</th>\n",
       "      <th>in</th>\n",
       "      <th>ca</th>\n",
       "      <th>no</th>\n",
       "      <th>it</th>\n",
       "      <th>pt</th>\n",
       "      <th>pl</th>\n",
       "      <th>sa</th>\n",
       "      <th>nz</th>\n",
       "      <th>vn</th>\n",
       "      <th>th</th>\n",
       "      <th>ph</th>\n",
       "      <th>za</th>\n",
       "      <th>hu</th>\n",
       "      <th>au</th>\n",
       "      <th>fr</th>\n",
       "      <th>be</th>\n",
       "      <th>il</th>\n",
       "      <th>nl</th>\n",
       "      <th>my</th>\n",
       "      <th>cz</th>\n",
       "      <th>fi</th>\n",
       "      <th>ie</th>\n",
       "      <th>sg</th>\n",
       "      <th>de</th>\n",
       "      <th>dk</th>\n",
       "      <th>se</th>\n",
       "      <th>ru</th>\n",
       "      <th>gb</th>\n",
       "      <th>tw</th>\n",
       "      <th>ro</th>\n",
       "      <th>ch</th>\n",
       "      <th>kr</th>\n",
       "      <th>at</th>\n",
       "      <th>do</th>\n",
       "      <th>global</th>\n",
       "      <th>cl</th>\n",
       "      <th>es</th>\n",
       "      <th>hk</th>\n",
       "      <th>gr</th>\n",
       "      <th>ua</th>\n",
       "      <th>cr</th>\n",
       "      <th>co</th>\n",
       "      <th>ar</th>\n",
       "      <th>pe</th>\n",
       "      <th>ae</th>\n",
       "      <th>ma</th>\n",
       "      <th>eg</th>\n",
       "      <th>sk</th>\n",
       "      <th>pa</th>\n",
       "      <th>mx</th>\n",
       "      <th>hn</th>\n",
       "      <th>cy</th>\n",
       "      <th>uy</th>\n",
       "      <th>sv</th>\n",
       "      <th>ec</th>\n",
       "      <th>bo</th>\n",
       "      <th>lt</th>\n",
       "      <th>ni</th>\n",
       "      <th>bg</th>\n",
       "      <th>py</th>\n",
       "      <th>gt</th>\n",
       "      <th>lv</th>\n",
       "      <th>is</th>\n",
       "      <th>ee</th>\n",
       "      <th>mt</th>\n",
       "      <th>lu</th>\n",
       "    </tr>\n",
       "  </thead>\n",
       "  <tbody>\n",
       "    <tr>\n",
       "      <th>mean</th>\n",
       "      <td>137.184511</td>\n",
       "      <td>133.269947</td>\n",
       "      <td>131.9653</td>\n",
       "      <td>131.610914</td>\n",
       "      <td>131.419201</td>\n",
       "      <td>127.537836</td>\n",
       "      <td>125.420636</td>\n",
       "      <td>125.336354</td>\n",
       "      <td>124.738148</td>\n",
       "      <td>123.971678</td>\n",
       "      <td>123.959757</td>\n",
       "      <td>123.551839</td>\n",
       "      <td>123.183197</td>\n",
       "      <td>122.758002</td>\n",
       "      <td>122.149911</td>\n",
       "      <td>121.834591</td>\n",
       "      <td>121.471704</td>\n",
       "      <td>121.124146</td>\n",
       "      <td>121.039797</td>\n",
       "      <td>120.944544</td>\n",
       "      <td>120.635012</td>\n",
       "      <td>120.519965</td>\n",
       "      <td>120.473633</td>\n",
       "      <td>120.172449</td>\n",
       "      <td>119.602118</td>\n",
       "      <td>119.250797</td>\n",
       "      <td>118.575005</td>\n",
       "      <td>118.490932</td>\n",
       "      <td>118.455641</td>\n",
       "      <td>118.373281</td>\n",
       "      <td>117.736127</td>\n",
       "      <td>117.150124</td>\n",
       "      <td>117.03174</td>\n",
       "      <td>116.941899</td>\n",
       "      <td>115.817432</td>\n",
       "      <td>115.295775</td>\n",
       "      <td>114.601247</td>\n",
       "      <td>114.095374</td>\n",
       "      <td>113.941441</td>\n",
       "      <td>113.049082</td>\n",
       "      <td>112.872452</td>\n",
       "      <td>112.83876</td>\n",
       "      <td>112.071698</td>\n",
       "      <td>110.569219</td>\n",
       "      <td>110.551</td>\n",
       "      <td>110.529663</td>\n",
       "      <td>110.26224</td>\n",
       "      <td>107.819454</td>\n",
       "      <td>106.509354</td>\n",
       "      <td>105.787163</td>\n",
       "      <td>104.786683</td>\n",
       "      <td>104.635261</td>\n",
       "      <td>104.555467</td>\n",
       "      <td>101.960611</td>\n",
       "      <td>100.233734</td>\n",
       "      <td>99.170222</td>\n",
       "      <td>96.3</td>\n",
       "      <td>96.019557</td>\n",
       "      <td>94.760174</td>\n",
       "      <td>93.801599</td>\n",
       "      <td>92.594511</td>\n",
       "      <td>91.621781</td>\n",
       "      <td>88.697092</td>\n",
       "      <td>85.054242</td>\n",
       "      <td>84.771162</td>\n",
       "      <td>81.699738</td>\n",
       "      <td>78.351195</td>\n",
       "      <td>73.835006</td>\n",
       "      <td>57.971152</td>\n",
       "      <td>57.268293</td>\n",
       "      <td>35.976744</td>\n",
       "    </tr>\n",
       "  </tbody>\n",
       "</table>\n",
       "</div>"
      ],
      "text/plain": [
       "country          br          tr        jp          us          id          in  \\\n",
       "mean     137.184511  133.269947  131.9653  131.610914  131.419201  127.537836   \n",
       "\n",
       "country          ca          no          it          pt          pl  \\\n",
       "mean     125.420636  125.336354  124.738148  123.971678  123.959757   \n",
       "\n",
       "country          sa          nz          vn          th          ph  \\\n",
       "mean     123.551839  123.183197  122.758002  122.149911  121.834591   \n",
       "\n",
       "country          za          hu          au          fr          be  \\\n",
       "mean     121.471704  121.124146  121.039797  120.944544  120.635012   \n",
       "\n",
       "country          il          nl          my          cz          fi  \\\n",
       "mean     120.519965  120.473633  120.172449  119.602118  119.250797   \n",
       "\n",
       "country          ie          sg          de          dk          se  \\\n",
       "mean     118.575005  118.490932  118.455641  118.373281  117.736127   \n",
       "\n",
       "country          ru         gb          tw          ro          ch  \\\n",
       "mean     117.150124  117.03174  116.941899  115.817432  115.295775   \n",
       "\n",
       "country          kr          at          do      global          cl  \\\n",
       "mean     114.601247  114.095374  113.941441  113.049082  112.872452   \n",
       "\n",
       "country         es          hk          gr       ua          cr         co  \\\n",
       "mean     112.83876  112.071698  110.569219  110.551  110.529663  110.26224   \n",
       "\n",
       "country          ar          pe          ae          ma          eg  \\\n",
       "mean     107.819454  106.509354  105.787163  104.786683  104.635261   \n",
       "\n",
       "country          sk          pa          mx         hn    cy         uy  \\\n",
       "mean     104.555467  101.960611  100.233734  99.170222  96.3  96.019557   \n",
       "\n",
       "country         sv         ec         bo         lt         ni         bg  \\\n",
       "mean     94.760174  93.801599  92.594511  91.621781  88.697092  85.054242   \n",
       "\n",
       "country         py         gt         lv         is         ee         mt  \\\n",
       "mean     84.771162  81.699738  78.351195  73.835006  57.971152  57.268293   \n",
       "\n",
       "country         lu  \n",
       "mean     35.976744  "
      ]
     },
     "execution_count": 40,
     "metadata": {},
     "output_type": "execute_result"
    }
   ],
   "source": [
    "# Как из методички - по всем странам\n",
    "df.groupby([\"country\"])[\"position\"].agg([np.mean]).sort_values(by=\"mean\", ascending=False).T"
   ]
  },
  {
   "cell_type": "code",
   "execution_count": 44,
   "id": "79ed6b12",
   "metadata": {},
   "outputs": [
    {
     "data": {
      "text/html": [
       "<div>\n",
       "<style scoped>\n",
       "    .dataframe tbody tr th:only-of-type {\n",
       "        vertical-align: middle;\n",
       "    }\n",
       "\n",
       "    .dataframe tbody tr th {\n",
       "        vertical-align: top;\n",
       "    }\n",
       "\n",
       "    .dataframe thead th {\n",
       "        text-align: right;\n",
       "    }\n",
       "</style>\n",
       "<table border=\"1\" class=\"dataframe\">\n",
       "  <thead>\n",
       "    <tr style=\"text-align: right;\">\n",
       "      <th></th>\n",
       "      <th>position</th>\n",
       "      <th>duration</th>\n",
       "      <th>explicit</th>\n",
       "    </tr>\n",
       "    <tr>\n",
       "      <th>country</th>\n",
       "      <th></th>\n",
       "      <th></th>\n",
       "      <th></th>\n",
       "    </tr>\n",
       "  </thead>\n",
       "  <tbody>\n",
       "    <tr>\n",
       "      <th>br</th>\n",
       "      <td>137.184511</td>\n",
       "      <td>210721.211803</td>\n",
       "      <td>0.218801</td>\n",
       "    </tr>\n",
       "    <tr>\n",
       "      <th>tr</th>\n",
       "      <td>133.269947</td>\n",
       "      <td>222277.491689</td>\n",
       "      <td>0.264295</td>\n",
       "    </tr>\n",
       "    <tr>\n",
       "      <th>jp</th>\n",
       "      <td>131.965300</td>\n",
       "      <td>204318.017744</td>\n",
       "      <td>0.177050</td>\n",
       "    </tr>\n",
       "    <tr>\n",
       "      <th>us</th>\n",
       "      <td>131.610914</td>\n",
       "      <td>206732.509704</td>\n",
       "      <td>0.679633</td>\n",
       "    </tr>\n",
       "    <tr>\n",
       "      <th>id</th>\n",
       "      <td>131.419201</td>\n",
       "      <td>212912.387544</td>\n",
       "      <td>0.190979</td>\n",
       "    </tr>\n",
       "    <tr>\n",
       "      <th>in</th>\n",
       "      <td>127.537836</td>\n",
       "      <td>199372.418226</td>\n",
       "      <td>0.224166</td>\n",
       "    </tr>\n",
       "    <tr>\n",
       "      <th>ca</th>\n",
       "      <td>125.420636</td>\n",
       "      <td>206861.672861</td>\n",
       "      <td>0.604129</td>\n",
       "    </tr>\n",
       "    <tr>\n",
       "      <th>no</th>\n",
       "      <td>125.336354</td>\n",
       "      <td>207121.225554</td>\n",
       "      <td>0.348381</td>\n",
       "    </tr>\n",
       "    <tr>\n",
       "      <th>it</th>\n",
       "      <td>124.738148</td>\n",
       "      <td>208106.402604</td>\n",
       "      <td>0.250307</td>\n",
       "    </tr>\n",
       "    <tr>\n",
       "      <th>pt</th>\n",
       "      <td>123.971678</td>\n",
       "      <td>211317.710656</td>\n",
       "      <td>0.350396</td>\n",
       "    </tr>\n",
       "  </tbody>\n",
       "</table>\n",
       "</div>"
      ],
      "text/plain": [
       "           position       duration  explicit\n",
       "country                                     \n",
       "br       137.184511  210721.211803  0.218801\n",
       "tr       133.269947  222277.491689  0.264295\n",
       "jp       131.965300  204318.017744  0.177050\n",
       "us       131.610914  206732.509704  0.679633\n",
       "id       131.419201  212912.387544  0.190979\n",
       "in       127.537836  199372.418226  0.224166\n",
       "ca       125.420636  206861.672861  0.604129\n",
       "no       125.336354  207121.225554  0.348381\n",
       "it       124.738148  208106.402604  0.250307\n",
       "pt       123.971678  211317.710656  0.350396"
      ]
     },
     "execution_count": 44,
     "metadata": {},
     "output_type": "execute_result"
    }
   ],
   "source": [
    "# более подробно по топу 10 стран\n",
    "groupped_country = df.groupby(['country']).mean()\n",
    "groupped_country = groupped_country.sort_values(by=['position'], ascending=False)\n",
    "groupped_country.head(10)"
   ]
  },
  {
   "cell_type": "markdown",
   "id": "ded4a934",
   "metadata": {},
   "source": [
    "Давайте посмотрим, как зависит возрастное ограничение от позиции в топе в разные эпохи:"
   ]
  },
  {
   "cell_type": "code",
   "execution_count": 54,
   "id": "baa423d2",
   "metadata": {},
   "outputs": [
    {
     "name": "stdout",
     "output_type": "stream",
     "text": [
      "from: 2014 to 2022\n"
     ]
    }
   ],
   "source": [
    "years = pd.DatetimeIndex(df['date']).year\n",
    "print(f'from: {years.min()} to {years.max()}')"
   ]
  },
  {
   "cell_type": "code",
   "execution_count": 166,
   "id": "45374c99",
   "metadata": {},
   "outputs": [
    {
     "data": {
      "text/html": [
       "<div>\n",
       "<style scoped>\n",
       "    .dataframe tbody tr th:only-of-type {\n",
       "        vertical-align: middle;\n",
       "    }\n",
       "\n",
       "    .dataframe tbody tr th {\n",
       "        vertical-align: top;\n",
       "    }\n",
       "\n",
       "    .dataframe thead th {\n",
       "        text-align: right;\n",
       "    }\n",
       "</style>\n",
       "<table border=\"1\" class=\"dataframe\">\n",
       "  <thead>\n",
       "    <tr style=\"text-align: right;\">\n",
       "      <th></th>\n",
       "      <th>count</th>\n",
       "      <th>mean</th>\n",
       "      <th>std</th>\n",
       "      <th>min</th>\n",
       "      <th>25%</th>\n",
       "      <th>50%</th>\n",
       "      <th>75%</th>\n",
       "      <th>max</th>\n",
       "    </tr>\n",
       "    <tr>\n",
       "      <th>explicit</th>\n",
       "      <th></th>\n",
       "      <th></th>\n",
       "      <th></th>\n",
       "      <th></th>\n",
       "      <th></th>\n",
       "      <th></th>\n",
       "      <th></th>\n",
       "      <th></th>\n",
       "    </tr>\n",
       "  </thead>\n",
       "  <tbody>\n",
       "    <tr>\n",
       "      <th>False</th>\n",
       "      <td>59038.0</td>\n",
       "      <td>126.821251</td>\n",
       "      <td>54.369789</td>\n",
       "      <td>1.0</td>\n",
       "      <td>84.0</td>\n",
       "      <td>137.0</td>\n",
       "      <td>175.0</td>\n",
       "      <td>200.0</td>\n",
       "    </tr>\n",
       "    <tr>\n",
       "      <th>True</th>\n",
       "      <td>67954.0</td>\n",
       "      <td>123.155296</td>\n",
       "      <td>54.608512</td>\n",
       "      <td>1.0</td>\n",
       "      <td>81.0</td>\n",
       "      <td>132.0</td>\n",
       "      <td>171.0</td>\n",
       "      <td>200.0</td>\n",
       "    </tr>\n",
       "  </tbody>\n",
       "</table>\n",
       "</div>"
      ],
      "text/plain": [
       "            count        mean        std  min   25%    50%    75%    max\n",
       "explicit                                                                \n",
       "False     59038.0  126.821251  54.369789  1.0  84.0  137.0  175.0  200.0\n",
       "True      67954.0  123.155296  54.608512  1.0  81.0  132.0  171.0  200.0"
      ]
     },
     "execution_count": 166,
     "metadata": {},
     "output_type": "execute_result"
    }
   ],
   "source": [
    "df_2016 = df[pd.DatetimeIndex(df['date']).year <= 2016]\n",
    "df_nxt = df[pd.DatetimeIndex(df['date']).year > 2016]\n",
    "\n",
    "df_2018 = df_nxt[pd.DatetimeIndex(df_nxt['date']).year <= 2018]\n",
    "df_nxt = df_nxt[pd.DatetimeIndex(df_nxt['date']).year > 2018]\n",
    "\n",
    "df_2020 = df_nxt[pd.DatetimeIndex(df_nxt['date']).year <= 2020]\n",
    "df_nxt = df_nxt[pd.DatetimeIndex(df_nxt['date']).year > 2020]\n",
    "\n",
    "df_2016 = df_2016.groupby('explicit')\n",
    "df_2018 = df_2018.groupby('explicit')\n",
    "df_2020 = df_2020.groupby('explicit')\n",
    "df_nxt = df_nxt.groupby('explicit')\n",
    "\n",
    "s_2016 = df_2016.position.describe()\n",
    "s_2018 = df_2018.position.describe()\n",
    "s_2020 = df_2020.position.describe()\n",
    "s_nxt = df_nxt.position.describe()\n",
    "\n",
    "s_2020.head()"
   ]
  },
  {
   "cell_type": "code",
   "execution_count": 171,
   "id": "5474fca1",
   "metadata": {},
   "outputs": [],
   "source": [
    "useless_indx = ['count', 'min', 'max']\n",
    "s_2016 = s_2016.drop(useless_indx, axis=1, errors='ignore')\n",
    "s_2018 = s_2018.drop(useless_indx, axis=1, errors='ignore')\n",
    "s_2020 = s_2020.drop(useless_indx, axis=1, errors='ignore')\n",
    "s_nxt = s_nxt.drop(useless_indx, axis=1, errors='ignore')"
   ]
  },
  {
   "cell_type": "code",
   "execution_count": 182,
   "id": "c11da68c",
   "metadata": {},
   "outputs": [
    {
     "ename": "ValueError",
     "evalue": "Could not interpret input 'Customer service calls'",
     "output_type": "error",
     "traceback": [
      "\u001b[1;31m---------------------------------------------------------------------------\u001b[0m",
      "\u001b[1;31mValueError\u001b[0m                                Traceback (most recent call last)",
      "Cell \u001b[1;32mIn [182], line 3\u001b[0m\n\u001b[0;32m      1\u001b[0m \u001b[38;5;66;03m# s_2016.columns\u001b[39;00m\n\u001b[0;32m      2\u001b[0m \u001b[38;5;66;03m# s_2016.index\u001b[39;00m\n\u001b[1;32m----> 3\u001b[0m \u001b[43msns\u001b[49m\u001b[38;5;241;43m.\u001b[39;49m\u001b[43mcountplot\u001b[49m\u001b[43m(\u001b[49m\u001b[43mx\u001b[49m\u001b[38;5;241;43m=\u001b[39;49m\u001b[38;5;124;43m\"\u001b[39;49m\u001b[38;5;124;43mCustomer service calls\u001b[39;49m\u001b[38;5;124;43m\"\u001b[39;49m\u001b[43m,\u001b[49m\u001b[43m \u001b[49m\u001b[43mhue\u001b[49m\u001b[38;5;241;43m=\u001b[39;49m\u001b[38;5;124;43m\"\u001b[39;49m\u001b[38;5;124;43mChurn\u001b[39;49m\u001b[38;5;124;43m\"\u001b[39;49m\u001b[43m,\u001b[49m\u001b[43m \u001b[49m\u001b[43mdata\u001b[49m\u001b[38;5;241;43m=\u001b[39;49m\u001b[43mdf\u001b[49m\u001b[43m)\u001b[49m;\n\u001b[0;32m      4\u001b[0m \u001b[38;5;66;03m# s_2016.plot(x=s_2016.index, y=s_2016.columns, kind=\"bar\")\u001b[39;00m\n\u001b[0;32m      5\u001b[0m \u001b[38;5;66;03m# plt.bar(s_2016.index, s_2016.values, label='2016')\u001b[39;00m\n\u001b[0;32m      6\u001b[0m \u001b[38;5;66;03m# plt.bar(s_2018.index, s_2018.values, label='2018')\u001b[39;00m\n\u001b[1;32m   (...)\u001b[0m\n\u001b[0;32m     18\u001b[0m \n\u001b[0;32m     19\u001b[0m \u001b[38;5;66;03m# plt.show()\u001b[39;00m\n",
      "File \u001b[1;32m~\\AppData\\Local\\Programs\\Python\\Python310\\lib\\site-packages\\seaborn\\categorical.py:2942\u001b[0m, in \u001b[0;36mcountplot\u001b[1;34m(data, x, y, hue, order, hue_order, orient, color, palette, saturation, width, dodge, ax, **kwargs)\u001b[0m\n\u001b[0;32m   2939\u001b[0m \u001b[38;5;28;01melif\u001b[39;00m x \u001b[38;5;129;01mis\u001b[39;00m \u001b[38;5;129;01mnot\u001b[39;00m \u001b[38;5;28;01mNone\u001b[39;00m \u001b[38;5;129;01mand\u001b[39;00m y \u001b[38;5;129;01mis\u001b[39;00m \u001b[38;5;129;01mnot\u001b[39;00m \u001b[38;5;28;01mNone\u001b[39;00m:\n\u001b[0;32m   2940\u001b[0m     \u001b[38;5;28;01mraise\u001b[39;00m \u001b[38;5;167;01mValueError\u001b[39;00m(\u001b[38;5;124m\"\u001b[39m\u001b[38;5;124mCannot pass values for both `x` and `y`\u001b[39m\u001b[38;5;124m\"\u001b[39m)\n\u001b[1;32m-> 2942\u001b[0m plotter \u001b[38;5;241m=\u001b[39m \u001b[43m_CountPlotter\u001b[49m\u001b[43m(\u001b[49m\n\u001b[0;32m   2943\u001b[0m \u001b[43m    \u001b[49m\u001b[43mx\u001b[49m\u001b[43m,\u001b[49m\u001b[43m \u001b[49m\u001b[43my\u001b[49m\u001b[43m,\u001b[49m\u001b[43m \u001b[49m\u001b[43mhue\u001b[49m\u001b[43m,\u001b[49m\u001b[43m \u001b[49m\u001b[43mdata\u001b[49m\u001b[43m,\u001b[49m\u001b[43m \u001b[49m\u001b[43morder\u001b[49m\u001b[43m,\u001b[49m\u001b[43m \u001b[49m\u001b[43mhue_order\u001b[49m\u001b[43m,\u001b[49m\n\u001b[0;32m   2944\u001b[0m \u001b[43m    \u001b[49m\u001b[43mestimator\u001b[49m\u001b[43m,\u001b[49m\u001b[43m \u001b[49m\u001b[43merrorbar\u001b[49m\u001b[43m,\u001b[49m\u001b[43m \u001b[49m\u001b[43mn_boot\u001b[49m\u001b[43m,\u001b[49m\u001b[43m \u001b[49m\u001b[43munits\u001b[49m\u001b[43m,\u001b[49m\u001b[43m \u001b[49m\u001b[43mseed\u001b[49m\u001b[43m,\u001b[49m\n\u001b[0;32m   2945\u001b[0m \u001b[43m    \u001b[49m\u001b[43morient\u001b[49m\u001b[43m,\u001b[49m\u001b[43m \u001b[49m\u001b[43mcolor\u001b[49m\u001b[43m,\u001b[49m\u001b[43m \u001b[49m\u001b[43mpalette\u001b[49m\u001b[43m,\u001b[49m\u001b[43m \u001b[49m\u001b[43msaturation\u001b[49m\u001b[43m,\u001b[49m\n\u001b[0;32m   2946\u001b[0m \u001b[43m    \u001b[49m\u001b[43mwidth\u001b[49m\u001b[43m,\u001b[49m\u001b[43m \u001b[49m\u001b[43merrcolor\u001b[49m\u001b[43m,\u001b[49m\u001b[43m \u001b[49m\u001b[43merrwidth\u001b[49m\u001b[43m,\u001b[49m\u001b[43m \u001b[49m\u001b[43mcapsize\u001b[49m\u001b[43m,\u001b[49m\u001b[43m \u001b[49m\u001b[43mdodge\u001b[49m\n\u001b[0;32m   2947\u001b[0m \u001b[43m\u001b[49m\u001b[43m)\u001b[49m\n\u001b[0;32m   2949\u001b[0m plotter\u001b[38;5;241m.\u001b[39mvalue_label \u001b[38;5;241m=\u001b[39m \u001b[38;5;124m\"\u001b[39m\u001b[38;5;124mcount\u001b[39m\u001b[38;5;124m\"\u001b[39m\n\u001b[0;32m   2951\u001b[0m \u001b[38;5;28;01mif\u001b[39;00m ax \u001b[38;5;129;01mis\u001b[39;00m \u001b[38;5;28;01mNone\u001b[39;00m:\n",
      "File \u001b[1;32m~\\AppData\\Local\\Programs\\Python\\Python310\\lib\\site-packages\\seaborn\\categorical.py:1530\u001b[0m, in \u001b[0;36m_BarPlotter.__init__\u001b[1;34m(self, x, y, hue, data, order, hue_order, estimator, errorbar, n_boot, units, seed, orient, color, palette, saturation, width, errcolor, errwidth, capsize, dodge)\u001b[0m\n\u001b[0;32m   1525\u001b[0m \u001b[38;5;28;01mdef\u001b[39;00m \u001b[38;5;21m__init__\u001b[39m(\u001b[38;5;28mself\u001b[39m, x, y, hue, data, order, hue_order,\n\u001b[0;32m   1526\u001b[0m              estimator, errorbar, n_boot, units, seed,\n\u001b[0;32m   1527\u001b[0m              orient, color, palette, saturation, width,\n\u001b[0;32m   1528\u001b[0m              errcolor, errwidth, capsize, dodge):\n\u001b[0;32m   1529\u001b[0m     \u001b[38;5;124;03m\"\"\"Initialize the plotter.\"\"\"\u001b[39;00m\n\u001b[1;32m-> 1530\u001b[0m     \u001b[38;5;28;43mself\u001b[39;49m\u001b[38;5;241;43m.\u001b[39;49m\u001b[43mestablish_variables\u001b[49m\u001b[43m(\u001b[49m\u001b[43mx\u001b[49m\u001b[43m,\u001b[49m\u001b[43m \u001b[49m\u001b[43my\u001b[49m\u001b[43m,\u001b[49m\u001b[43m \u001b[49m\u001b[43mhue\u001b[49m\u001b[43m,\u001b[49m\u001b[43m \u001b[49m\u001b[43mdata\u001b[49m\u001b[43m,\u001b[49m\u001b[43m \u001b[49m\u001b[43morient\u001b[49m\u001b[43m,\u001b[49m\n\u001b[0;32m   1531\u001b[0m \u001b[43m                             \u001b[49m\u001b[43morder\u001b[49m\u001b[43m,\u001b[49m\u001b[43m \u001b[49m\u001b[43mhue_order\u001b[49m\u001b[43m,\u001b[49m\u001b[43m \u001b[49m\u001b[43munits\u001b[49m\u001b[43m)\u001b[49m\n\u001b[0;32m   1532\u001b[0m     \u001b[38;5;28mself\u001b[39m\u001b[38;5;241m.\u001b[39mestablish_colors(color, palette, saturation)\n\u001b[0;32m   1533\u001b[0m     \u001b[38;5;28mself\u001b[39m\u001b[38;5;241m.\u001b[39mestimate_statistic(estimator, errorbar, n_boot, seed)\n",
      "File \u001b[1;32m~\\AppData\\Local\\Programs\\Python\\Python310\\lib\\site-packages\\seaborn\\categorical.py:541\u001b[0m, in \u001b[0;36m_CategoricalPlotter.establish_variables\u001b[1;34m(self, x, y, hue, data, orient, order, hue_order, units)\u001b[0m\n\u001b[0;32m    539\u001b[0m     \u001b[38;5;28;01mif\u001b[39;00m \u001b[38;5;28misinstance\u001b[39m(var, \u001b[38;5;28mstr\u001b[39m):\n\u001b[0;32m    540\u001b[0m         err \u001b[38;5;241m=\u001b[39m \u001b[38;5;124mf\u001b[39m\u001b[38;5;124m\"\u001b[39m\u001b[38;5;124mCould not interpret input \u001b[39m\u001b[38;5;124m'\u001b[39m\u001b[38;5;132;01m{\u001b[39;00mvar\u001b[38;5;132;01m}\u001b[39;00m\u001b[38;5;124m'\u001b[39m\u001b[38;5;124m\"\u001b[39m\n\u001b[1;32m--> 541\u001b[0m         \u001b[38;5;28;01mraise\u001b[39;00m \u001b[38;5;167;01mValueError\u001b[39;00m(err)\n\u001b[0;32m    543\u001b[0m \u001b[38;5;66;03m# Figure out the plotting orientation\u001b[39;00m\n\u001b[0;32m    544\u001b[0m orient \u001b[38;5;241m=\u001b[39m infer_orient(\n\u001b[0;32m    545\u001b[0m     x, y, orient, require_numeric\u001b[38;5;241m=\u001b[39m\u001b[38;5;28mself\u001b[39m\u001b[38;5;241m.\u001b[39mrequire_numeric\n\u001b[0;32m    546\u001b[0m )\n",
      "\u001b[1;31mValueError\u001b[0m: Could not interpret input 'Customer service calls'"
     ]
    }
   ],
   "source": [
    "# s_2016.columns\n",
    "# s_2016.index\n",
    "sns.countplot(x=\"Customer service calls\", hue=\"Churn\", data=df);\n",
    "# s_2016.plot(x=s_2016.index, y=s_2016.columns, kind=\"bar\")\n",
    "# plt.bar(s_2016.index, s_2016.values, label='2016')\n",
    "# plt.bar(s_2018.index, s_2018.values, label='2018')\n",
    "# plt.bar(s_2020.index, s_2020.values, label='2020')\n",
    "\n",
    "# n=4\n",
    "# r = np.arange(n)\n",
    "# width = 0.25\n",
    "\n",
    "# plt.ylabel(\"Number of people voted\")\n",
    "# plt.title(\"Number of people voted in each year\")\n",
    "\n",
    "# # plt.grid(linestyle='--')\n",
    "# plt.legend()\n",
    "\n",
    "# plt.show()"
   ]
  },
  {
   "cell_type": "code",
   "execution_count": null,
   "id": "a32011c3",
   "metadata": {},
   "outputs": [],
   "source": []
  },
  {
   "cell_type": "code",
   "execution_count": null,
   "id": "f0232158",
   "metadata": {},
   "outputs": [],
   "source": []
  }
 ],
 "metadata": {
  "kernelspec": {
   "display_name": "Python 3 (ipykernel)",
   "language": "python",
   "name": "python3"
  },
  "language_info": {
   "codemirror_mode": {
    "name": "ipython",
    "version": 3
   },
   "file_extension": ".py",
   "mimetype": "text/x-python",
   "name": "python",
   "nbconvert_exporter": "python",
   "pygments_lexer": "ipython3",
   "version": "3.10.7"
  }
 },
 "nbformat": 4,
 "nbformat_minor": 5
}
