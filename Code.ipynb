{
 "cells": [
  {
   "cell_type": "markdown",
   "id": "48ef2e44",
   "metadata": {},
   "source": [
    "## Подготовка данных"
   ]
  },
  {
   "cell_type": "markdown",
   "id": "798dd1c5",
   "metadata": {},
   "source": [
    "**Отключим** все предупреждения по инструкции"
   ]
  },
  {
   "cell_type": "code",
   "execution_count": 1,
   "id": "01fdc9d4",
   "metadata": {},
   "outputs": [],
   "source": [
    "import warnings\n",
    "\n",
    "warnings.filterwarnings(\"ignore\")\n",
    "import numpy as np\n",
    "import pandas as pd\n",
    "\n",
    "pd.set_option(\"display.max.columns\", 100)\n",
    "import pylab as plt\n",
    "\n",
    "%matplotlib inline\n",
    "import seaborn as sns\n",
    "from matplotlib import pyplot as plt\n",
    "\n",
    "plt.rcParams[\"figure.figsize\"] = (10, 8)"
   ]
  },
  {
   "cell_type": "markdown",
   "id": "d3ec7a2b",
   "metadata": {},
   "source": [
    "**Считаем** наш файл с данными"
   ]
  },
  {
   "cell_type": "code",
   "execution_count": 2,
   "id": "0f8f1464",
   "metadata": {},
   "outputs": [],
   "source": [
    "df = pd.read_csv(\"data/charts.csv\")"
   ]
  },
  {
   "cell_type": "markdown",
   "id": "cec83703",
   "metadata": {},
   "source": [
    "**Распечатаем** первые 5 записи"
   ]
  },
  {
   "cell_type": "code",
   "execution_count": 6,
   "id": "8c6f5138",
   "metadata": {},
   "outputs": [
    {
     "data": {
      "text/html": [
       "<div>\n",
       "<style scoped>\n",
       "    .dataframe tbody tr th:only-of-type {\n",
       "        vertical-align: middle;\n",
       "    }\n",
       "\n",
       "    .dataframe tbody tr th {\n",
       "        vertical-align: top;\n",
       "    }\n",
       "\n",
       "    .dataframe thead th {\n",
       "        text-align: right;\n",
       "    }\n",
       "</style>\n",
       "<table border=\"1\" class=\"dataframe\">\n",
       "  <thead>\n",
       "    <tr style=\"text-align: right;\">\n",
       "      <th></th>\n",
       "      <th>track_id</th>\n",
       "      <th>name</th>\n",
       "      <th>country</th>\n",
       "      <th>date</th>\n",
       "      <th>position</th>\n",
       "      <th>streams</th>\n",
       "      <th>artists</th>\n",
       "      <th>artist_genres</th>\n",
       "      <th>duration</th>\n",
       "      <th>explicit</th>\n",
       "    </tr>\n",
       "  </thead>\n",
       "  <tbody>\n",
       "    <tr>\n",
       "      <th>0</th>\n",
       "      <td>7GMeRGZax4uDKgz6wALWQw</td>\n",
       "      <td>It Was Always You</td>\n",
       "      <td>br</td>\n",
       "      <td>2015-03-17</td>\n",
       "      <td>138</td>\n",
       "      <td>6584</td>\n",
       "      <td>['Maroon 5']</td>\n",
       "      <td>['pop']</td>\n",
       "      <td>239920</td>\n",
       "      <td>False</td>\n",
       "    </tr>\n",
       "    <tr>\n",
       "      <th>1</th>\n",
       "      <td>7GMeRGZax4uDKgz6wALWQw</td>\n",
       "      <td>It Was Always You</td>\n",
       "      <td>br</td>\n",
       "      <td>2015-03-18</td>\n",
       "      <td>132</td>\n",
       "      <td>6963</td>\n",
       "      <td>['Maroon 5']</td>\n",
       "      <td>['pop']</td>\n",
       "      <td>239920</td>\n",
       "      <td>False</td>\n",
       "    </tr>\n",
       "    <tr>\n",
       "      <th>2</th>\n",
       "      <td>7GMeRGZax4uDKgz6wALWQw</td>\n",
       "      <td>It Was Always You</td>\n",
       "      <td>br</td>\n",
       "      <td>2015-03-19</td>\n",
       "      <td>128</td>\n",
       "      <td>7049</td>\n",
       "      <td>['Maroon 5']</td>\n",
       "      <td>['pop']</td>\n",
       "      <td>239920</td>\n",
       "      <td>False</td>\n",
       "    </tr>\n",
       "    <tr>\n",
       "      <th>3</th>\n",
       "      <td>7GMeRGZax4uDKgz6wALWQw</td>\n",
       "      <td>It Was Always You</td>\n",
       "      <td>br</td>\n",
       "      <td>2015-03-20</td>\n",
       "      <td>152</td>\n",
       "      <td>6976</td>\n",
       "      <td>['Maroon 5']</td>\n",
       "      <td>['pop']</td>\n",
       "      <td>239920</td>\n",
       "      <td>False</td>\n",
       "    </tr>\n",
       "    <tr>\n",
       "      <th>4</th>\n",
       "      <td>7GMeRGZax4uDKgz6wALWQw</td>\n",
       "      <td>It Was Always You</td>\n",
       "      <td>br</td>\n",
       "      <td>2015-03-21</td>\n",
       "      <td>160</td>\n",
       "      <td>6156</td>\n",
       "      <td>['Maroon 5']</td>\n",
       "      <td>['pop']</td>\n",
       "      <td>239920</td>\n",
       "      <td>False</td>\n",
       "    </tr>\n",
       "  </tbody>\n",
       "</table>\n",
       "</div>"
      ],
      "text/plain": [
       "                 track_id               name country        date  position  \\\n",
       "0  7GMeRGZax4uDKgz6wALWQw  It Was Always You      br  2015-03-17       138   \n",
       "1  7GMeRGZax4uDKgz6wALWQw  It Was Always You      br  2015-03-18       132   \n",
       "2  7GMeRGZax4uDKgz6wALWQw  It Was Always You      br  2015-03-19       128   \n",
       "3  7GMeRGZax4uDKgz6wALWQw  It Was Always You      br  2015-03-20       152   \n",
       "4  7GMeRGZax4uDKgz6wALWQw  It Was Always You      br  2015-03-21       160   \n",
       "\n",
       "  streams       artists artist_genres  duration  explicit  \n",
       "0    6584  ['Maroon 5']       ['pop']    239920     False  \n",
       "1    6963  ['Maroon 5']       ['pop']    239920     False  \n",
       "2    7049  ['Maroon 5']       ['pop']    239920     False  \n",
       "3    6976  ['Maroon 5']       ['pop']    239920     False  \n",
       "4    6156  ['Maroon 5']       ['pop']    239920     False  "
      ]
     },
     "execution_count": 6,
     "metadata": {},
     "output_type": "execute_result"
    }
   ],
   "source": [
    "df.head(5)"
   ]
  },
  {
   "cell_type": "markdown",
   "id": "8ca8ed28",
   "metadata": {},
   "source": [
    "## Описание набора данных"
   ]
  },
  {
   "cell_type": "code",
   "execution_count": 7,
   "id": "1c1bb1a2",
   "metadata": {},
   "outputs": [
    {
     "name": "stdout",
     "output_type": "stream",
     "text": [
      "(626475, 10)\n",
      "['track_id' 'name' 'country' 'date' 'position' 'streams' 'artists'\n",
      " 'artist_genres' 'duration' 'explicit']\n"
     ]
    }
   ],
   "source": [
    "print(df.shape)\n",
    "print(df.columns.values)"
   ]
  },
  {
   "cell_type": "code",
   "execution_count": 9,
   "id": "c4bf5131",
   "metadata": {},
   "outputs": [
    {
     "name": "stdout",
     "output_type": "stream",
     "text": [
      "<class 'pandas.core.frame.DataFrame'>\n",
      "RangeIndex: 626475 entries, 0 to 626474\n",
      "Data columns (total 10 columns):\n",
      " #   Column         Non-Null Count   Dtype \n",
      "---  ------         --------------   ----- \n",
      " 0   track_id       626475 non-null  object\n",
      " 1   name           626337 non-null  object\n",
      " 2   country        626475 non-null  object\n",
      " 3   date           626475 non-null  object\n",
      " 4   position       626475 non-null  int64 \n",
      " 5   streams        626475 non-null  object\n",
      " 6   artists        626475 non-null  object\n",
      " 7   artist_genres  626475 non-null  object\n",
      " 8   duration       626475 non-null  int64 \n",
      " 9   explicit       626475 non-null  bool  \n",
      "dtypes: bool(1), int64(2), object(7)\n",
      "memory usage: 43.6+ MB\n"
     ]
    }
   ],
   "source": [
    "df.info()"
   ]
  },
  {
   "cell_type": "markdown",
   "id": "b1d7df97",
   "metadata": {},
   "source": [
    "|     Название      | Описание                                       |      Тип       |\n",
    "|---                |:--                                             |:--             |\n",
    "| **track_id**      | Уникальрный id в spotify                       | строчный       |\n",
    "| **name**          | Название песни                                 | строчный       |\n",
    "| **country**       | Код страны, в которой появлялась песня в чарте | строчный       |\n",
    "| **date**          | Дата появление в чарте                         | датированный   |\n",
    "| **position**      | Позиция в чарте                                | количественный |\n",
    "| **streams**       | Количество stream-ов при появлении в чарте     | количественный |\n",
    "| **artists**       | Авторы (исполнители) песни                     | массив строк   |\n",
    "| **artist_genres** | Жанры, в которых исполнители выступают         | массив строк   |\n",
    "| **duration**      | Длительность песни в (ms)                      | количественный |\n",
    "| **explicit**      | Возрастное ограничение (есть/нет)              | бинарный       |"
   ]
  },
  {
   "cell_type": "markdown",
   "id": "c987587b",
   "metadata": {},
   "source": [
    "Целевая переменная **position** - Позиция в чарте (в зависимости от страны)"
   ]
  },
  {
   "cell_type": "code",
   "execution_count": null,
   "id": "c9eabf12",
   "metadata": {},
   "outputs": [],
   "source": [
    "df."
   ]
  },
  {
   "cell_type": "markdown",
   "id": "ed65e1e9",
   "metadata": {},
   "source": [
    "## Визуальный анализ"
   ]
  },
  {
   "cell_type": "code",
   "execution_count": null,
   "id": "7147e017",
   "metadata": {},
   "outputs": [],
   "source": []
  }
 ],
 "metadata": {
  "kernelspec": {
   "display_name": "Python 3 (ipykernel)",
   "language": "python",
   "name": "python3"
  },
  "language_info": {
   "codemirror_mode": {
    "name": "ipython",
    "version": 3
   },
   "file_extension": ".py",
   "mimetype": "text/x-python",
   "name": "python",
   "nbconvert_exporter": "python",
   "pygments_lexer": "ipython3",
   "version": "3.10.7"
  }
 },
 "nbformat": 4,
 "nbformat_minor": 5
}
